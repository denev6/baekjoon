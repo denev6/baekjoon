{
 "cells": [
  {
   "cell_type": "markdown",
   "metadata": {},
   "source": [
    "## 대한민국 (South Korea) 관련 데이터 분석"
   ]
  },
  {
   "cell_type": "code",
   "execution_count": 1,
   "metadata": {},
   "outputs": [],
   "source": [
    "import pandas as pd\n",
    "\n",
    "df_2022 = pd.read_csv(\"datasets/2022.csv\")\n",
    "df_2022.columns = df_2022.columns.str.lower()\n",
    "\n",
    "df_2021 = pd.read_csv(\"datasets/2021.csv\")\n",
    "df_2021.columns = df_2021.columns.str.lower()\n",
    "\n",
    "df_2020 = pd.read_csv(\"datasets/2020.csv\")\n",
    "df_2020.columns = df_2020.columns.str.lower()\n",
    "\n",
    "df_2019 = pd.read_csv(\"datasets/2019.csv\")\n",
    "df_2019.columns = df_2019.columns.str.lower()\n",
    "\n",
    "df_2018 = pd.read_csv(\"datasets/2018.csv\")\n",
    "df_2018.columns = df_2018.columns.str.lower()\n",
    "\n",
    "df_2017 = pd.read_csv(\"datasets/2017.csv\")\n",
    "df_2017.columns = df_2017.columns.str.lower()\n",
    "\n",
    "df_2016 = pd.read_csv(\"datasets/2016.csv\")\n",
    "df_2016.columns = df_2016.columns.str.lower()\n",
    "\n",
    "df_2015 = pd.read_csv(\"datasets/2015.csv\")\n",
    "df_2015.columns = df_2015.columns.str.lower()"
   ]
  },
  {
   "cell_type": "markdown",
   "metadata": {},
   "source": [
    "---"
   ]
  },
  {
   "cell_type": "code",
   "execution_count": 2,
   "metadata": {},
   "outputs": [],
   "source": [
    "import numpy as np\n",
    "from sklearn.preprocessing import MinMaxScaler\n",
    "\n",
    "def find_column(df, to_contain):\n",
    "    mask = df.columns.str.contains(to_contain)\n",
    "    col_name = df.columns[mask].values[0]\n",
    "    return col_name\n",
    "\n",
    "def format_float(values):\n",
    "    try:\n",
    "        values = np.array(values).astype(np.float_)\n",
    "    except ValueError:\n",
    "        for i, elem in enumerate(values):\n",
    "            values[i] = str(elem).replace(\",\", \".\")\n",
    "        values = np.array(values).astype(np.float_)\n",
    "    return values\n",
    "\n",
    "def stanardlize_df(df):\n",
    "    scaler = MinMaxScaler()\n",
    "    scaler.fit(df)\n",
    "    arr = scaler.transform(df)\n",
    "    df = pd.DataFrame(arr)\n",
    "    return df\n",
    "\n",
    "def get_kor_values(df):\n",
    "    country = find_column(df, \"country\")\n",
    "    mask_country = df[country] == \"South Korea\"\n",
    "    score = find_column(df, \"score\")\n",
    "    gdp = find_column(df, \"gdp\")\n",
    "    health = find_column(df, \"health\")\n",
    "    freedom = find_column(df, \"freedom\")\n",
    "    df = df.loc[:, [score, gdp, health, freedom]]\n",
    "    try:\n",
    "        df = stanardlize_df(df)\n",
    "    except ValueError:\n",
    "        array = list()\n",
    "        for col in [score, gdp, health, freedom]:\n",
    "            formatted = format_float(df.loc[:, col])\n",
    "            array.append(formatted)\n",
    "        scaler = MinMaxScaler()\n",
    "        scaler.fit(df)\n",
    "        arr = scaler.transform(df)\n",
    "        df = pd.DataFrame(arr)\n",
    "    df_kor = df[mask_country]\n",
    "    values = df_kor.values.flatten().tolist()\n",
    "    return values"
   ]
  },
  {
   "cell_type": "code",
   "execution_count": 3,
   "metadata": {},
   "outputs": [],
   "source": [
    "kor_2022 = get_kor_values(df_2022)\n",
    "kor_2021 = get_kor_values(df_2021)\n",
    "kor_2020 = get_kor_values(df_2020)\n",
    "kor_2019 = get_kor_values(df_2019)\n",
    "kor_2018 = get_kor_values(df_2018)\n",
    "kor_2017 = get_kor_values(df_2017)\n",
    "kor_2016 = get_kor_values(df_2016)\n",
    "kor_2015 = get_kor_values(df_2015)"
   ]
  },
  {
   "cell_type": "code",
   "execution_count": 4,
   "metadata": {},
   "outputs": [
    {
     "data": {
      "text/html": [
       "<div>\n",
       "<style scoped>\n",
       "    .dataframe tbody tr th:only-of-type {\n",
       "        vertical-align: middle;\n",
       "    }\n",
       "\n",
       "    .dataframe tbody tr th {\n",
       "        vertical-align: top;\n",
       "    }\n",
       "\n",
       "    .dataframe thead th {\n",
       "        text-align: right;\n",
       "    }\n",
       "</style>\n",
       "<table border=\"1\" class=\"dataframe\">\n",
       "  <thead>\n",
       "    <tr style=\"text-align: right;\">\n",
       "      <th></th>\n",
       "      <th>Score</th>\n",
       "      <th>Economy</th>\n",
       "      <th>Health</th>\n",
       "      <th>Freedom</th>\n",
       "    </tr>\n",
       "  </thead>\n",
       "  <tbody>\n",
       "    <tr>\n",
       "      <th>2015</th>\n",
       "      <td>0.662384</td>\n",
       "      <td>0.736273</td>\n",
       "      <td>0.941604</td>\n",
       "      <td>0.495842</td>\n",
       "    </tr>\n",
       "    <tr>\n",
       "      <th>2016</th>\n",
       "      <td>0.634062</td>\n",
       "      <td>0.745219</td>\n",
       "      <td>0.930392</td>\n",
       "      <td>0.413621</td>\n",
       "    </tr>\n",
       "    <tr>\n",
       "      <th>2017</th>\n",
       "      <td>0.649257</td>\n",
       "      <td>0.749254</td>\n",
       "      <td>0.948100</td>\n",
       "      <td>0.391830</td>\n",
       "    </tr>\n",
       "    <tr>\n",
       "      <th>2018</th>\n",
       "      <td>0.628305</td>\n",
       "      <td>0.604008</td>\n",
       "      <td>0.927184</td>\n",
       "      <td>0.337017</td>\n",
       "    </tr>\n",
       "    <tr>\n",
       "      <th>2019</th>\n",
       "      <td>0.618796</td>\n",
       "      <td>0.772565</td>\n",
       "      <td>0.907975</td>\n",
       "      <td>0.251981</td>\n",
       "    </tr>\n",
       "    <tr>\n",
       "      <th>2020</th>\n",
       "      <td>0.630604</td>\n",
       "      <td>0.810386</td>\n",
       "      <td>0.898690</td>\n",
       "      <td>0.374106</td>\n",
       "    </tr>\n",
       "    <tr>\n",
       "      <th>2021</th>\n",
       "      <td>0.624553</td>\n",
       "      <td>0.801277</td>\n",
       "      <td>0.892783</td>\n",
       "      <td>0.493197</td>\n",
       "    </tr>\n",
       "    <tr>\n",
       "      <th>2022</th>\n",
       "      <td>0.651837</td>\n",
       "      <td>0.837936</td>\n",
       "      <td>0.892781</td>\n",
       "      <td>0.559459</td>\n",
       "    </tr>\n",
       "  </tbody>\n",
       "</table>\n",
       "</div>"
      ],
      "text/plain": [
       "         Score   Economy    Health   Freedom\n",
       "2015  0.662384  0.736273  0.941604  0.495842\n",
       "2016  0.634062  0.745219  0.930392  0.413621\n",
       "2017  0.649257  0.749254  0.948100  0.391830\n",
       "2018  0.628305  0.604008  0.927184  0.337017\n",
       "2019  0.618796  0.772565  0.907975  0.251981\n",
       "2020  0.630604  0.810386  0.898690  0.374106\n",
       "2021  0.624553  0.801277  0.892783  0.493197\n",
       "2022  0.651837  0.837936  0.892781  0.559459"
      ]
     },
     "execution_count": 4,
     "metadata": {},
     "output_type": "execute_result"
    }
   ],
   "source": [
    "values = [kor_2015, kor_2016, kor_2017, kor_2018, kor_2019, kor_2020, kor_2021, kor_2022]\n",
    "index_names = np.arange(2015, 2023).astype(np.str_)\n",
    "\n",
    "df_kor = pd.DataFrame(values, index=index_names)\n",
    "df_kor.columns = [\"Score\", \"Economy\", \"Health\", \"Freedom\"]\n",
    "df_kor"
   ]
  },
  {
   "cell_type": "code",
   "execution_count": 7,
   "metadata": {},
   "outputs": [
    {
     "data": {
      "image/png": "[encoded data removed]",
      "text/plain": [
       "<Figure size 1008x432 with 2 Axes>"
      ]
     },
     "metadata": {
      "needs_background": "light"
     },
     "output_type": "display_data"
    }
   ],
   "source": [
    "import matplotlib.pyplot as plt\n",
    "\n",
    "years = df_kor.index\n",
    "cols = df_kor.columns\n",
    "\n",
    "plt.figure(figsize=(14, 6))\n",
    "plt.subplots_adjust(wspace=0.2)\n",
    "ax1 = plt.subplot(1, 2, 1)\n",
    "ax2 = plt.subplot(1, 2, 2)\n",
    "\n",
    "for col in cols[1:]:\n",
    "    value = df_kor[col].values.flatten().tolist()\n",
    "    ax1.scatter(years, value)\n",
    "    ax1.plot(years, value, label=col)\n",
    "ax1.set_xlabel(\"Year\")\n",
    "ax1.set_ylim([0, 1])\n",
    "ax1.legend()\n",
    "\n",
    "scores = df_kor[\"Score\"].values.flatten().tolist()\n",
    "ax2.scatter(years, scores, color=\"r\")\n",
    "ax2.plot(years, scores, label=\"Happiness Score\", color=\"r\")\n",
    "ax2.set_xlabel(\"Year\")\n",
    "ax2.set_ylim([0, 1])\n",
    "ax2.legend()\n",
    "\n",
    "plt.show()"
   ]
  }
 ],
 "metadata": {
  "interpreter": {
   "hash": "3d80a760c30ad4c8b22a1b4354e7ee5e36f5ba59b8ddf7d012248d293ade03a7"
  },
  "kernelspec": {
   "display_name": "Python 3.8.11 ('dataenv')",
   "language": "python",
   "name": "python3"
  },
  "language_info": {
   "codemirror_mode": {
    "name": "ipython",
    "version": 3
   },
   "file_extension": ".py",
   "mimetype": "text/x-python",
   "name": "python",
   "nbconvert_exporter": "python",
   "pygments_lexer": "ipython3",
   "version": "3.8.11"
  }
 },
 "nbformat": 4,
 "nbformat_minor": 2
}
