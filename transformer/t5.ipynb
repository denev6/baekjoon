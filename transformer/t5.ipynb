{
  "cells": [
    {
      "cell_type": "code",
      "execution_count": null,
      "metadata": {
        "id": "_qXlXpiWjwG8"
      },
      "outputs": [],
      "source": [
        "!pip install transformers\n",
        "!pip install sentencepiece\n",
        "\n",
        "import nltk\n",
        "nltk.download(\"punkt\")"
      ]
    },
    {
      "cell_type": "markdown",
      "source": [
        "Make sure to restart runtime after installing `sentencepiece`"
      ],
      "metadata": {
        "id": "N-8t-yvMzXXf"
      }
    },
    {
      "cell_type": "code",
      "execution_count": null,
      "metadata": {
        "id": "Kt9LGLSXyZpq",
        "colab": {
          "base_uri": "https://localhost:8080/"
        },
        "outputId": "9cdb096f-051a-4413-e51c-abf3e10c6bb1"
      },
      "outputs": [
        {
          "output_type": "stream",
          "name": "stdout",
          "text": [
            "Python 3.7.15\n"
          ]
        }
      ],
      "source": [
        "!python --version"
      ]
    },
    {
      "cell_type": "code",
      "execution_count": null,
      "metadata": {
        "id": "SskIfXoWvyS_"
      },
      "outputs": [],
      "source": [
        "import os \n",
        "import re\n",
        "from google.colab import drive\n",
        "\n",
        "import torch\n",
        "import pandas as pd\n",
        "from tqdm import tqdm\n",
        "from torch.utils.data import Dataset\n",
        "from transformers import Trainer, TrainingArguments, T5Tokenizer, T5ForConditionalGeneration\n",
        "from sklearn.metrics import accuracy_score, f1_score\n",
        "from sklearn.model_selection import train_test_split "
      ]
    },
    {
      "cell_type": "code",
      "execution_count": null,
      "metadata": {
        "id": "qLO55TxdfYuV",
        "colab": {
          "base_uri": "https://localhost:8080/"
        },
        "outputId": "293e2281-d019-48fd-ac64-df0a9afdd952"
      },
      "outputs": [
        {
          "metadata": {
            "tags": null
          },
          "name": "stdout",
          "output_type": "stream",
          "text": [
            "Mounted at /content/drive\n"
          ]
        }
      ],
      "source": [
        "drive.mount(\"/content/drive\")\n",
        "CWD = \"/content/drive/MyDrive/DACON\"\n",
        "\n",
        "def join_path(*args):\n",
        "    return os.path.join(CWD, *args)\n",
        "\n",
        "DEVICE = torch.device(\"cuda\") if torch.cuda.is_available() else torch.device(\"cpu\")\n",
        "TRAIN_CSV = join_path(\"data\", \"train.csv\")\n",
        "TEST_CSV = join_path(\"data\", \"test.csv\")\n",
        "MODEL = \"t5-base\"\n",
        "MODEL_DIR = \"t5-base\"\n",
        "BATCH_SIZE = 32\n",
        "EPOCHS = 30\n",
        "MAX_LENGTH = 128\n",
        "\n",
        "TRAIN_ARGS = TrainingArguments(\n",
        "    output_dir=join_path(MODEL_DIR),\n",
        "    num_train_epochs=EPOCHS,\n",
        "    per_device_train_batch_size=BATCH_SIZE,  \n",
        "    per_device_eval_batch_size=BATCH_SIZE,\n",
        "    learning_rate=7e-6,\n",
        "    warmup_steps=500,\n",
        "    weight_decay=1e-5,\n",
        "    dataloader_num_workers=0,\n",
        "    save_total_limit=1,\n",
        "    save_strategy=\"no\",\n",
        "    evaluation_strategy=\"epoch\",\n",
        "    run_name=f\"[DACON]{MODEL_DIR}\"\n",
        ")"
      ]
    },
    {
      "cell_type": "code",
      "source": [
        "twt_tokenizer = nltk.tokenize.TweetTokenizer(\n",
        "    preserve_case=False, \n",
        "    strip_handles=True, \n",
        "    reduce_len=True\n",
        ")\n",
        "\n",
        "def shorten_repeated_words(tokens):\n",
        "    for i, token in enumerate(tokens):\n",
        "        if \"-\" in token:\n",
        "            token = token.split(\"-\")\n",
        "            token = \"-\".join(dict.fromkeys(token))\n",
        "            tokens[i] = token\n",
        "    return tokens\n",
        "\n",
        "def decode_tokens(tokens):\n",
        "    sentence = \" \".join(tokens)\n",
        "    marks = re.findall(r\"\\s\\W\\s*\", sentence)\n",
        "    for mark in marks:\n",
        "        if mark.strip() in [\"'\", \"’\"]:\n",
        "            sentence = sentence.replace(mark, mark.strip())\n",
        "        else:\n",
        "            sentence = sentence.replace(mark, mark.lstrip())\n",
        "    return sentence\n",
        "\n",
        "def twt_tokenize(sentence):\n",
        "    twt_tokens = twt_tokenizer.tokenize(sentence)\n",
        "    twt_tokens = shorten_repeated_words(twt_tokens)\n",
        "    twt_sentence = decode_tokens(twt_tokens)\n",
        "    return twt_sentence"
      ],
      "metadata": {
        "id": "EKqjgUqUT2vq"
      },
      "execution_count": null,
      "outputs": []
    },
    {
      "cell_type": "code",
      "execution_count": null,
      "metadata": {
        "id": "fFZRDzdWkoTz",
        "colab": {
          "base_uri": "https://localhost:8080/",
          "height": 302
        },
        "outputId": "c77190a9-947e-4afe-9dd0-9e79cf33d3a5"
      },
      "outputs": [
        {
          "data": {
            "text/html": [
              "\n",
              "  <div id=\"df-242858be-b365-432f-81e8-f8a5ca15c1f2\">\n",
              "    <div class=\"colab-df-container\">\n",
              "      <div>\n",
              "<style scoped>\n",
              "    .dataframe tbody tr th:only-of-type {\n",
              "        vertical-align: middle;\n",
              "    }\n",
              "\n",
              "    .dataframe tbody tr th {\n",
              "        vertical-align: top;\n",
              "    }\n",
              "\n",
              "    .dataframe thead th {\n",
              "        text-align: right;\n",
              "    }\n",
              "</style>\n",
              "<table border=\"1\" class=\"dataframe\">\n",
              "  <thead>\n",
              "    <tr style=\"text-align: right;\">\n",
              "      <th></th>\n",
              "      <th>ID</th>\n",
              "      <th>Utterance</th>\n",
              "      <th>Speaker</th>\n",
              "      <th>Dialogue_ID</th>\n",
              "      <th>Target</th>\n",
              "    </tr>\n",
              "  </thead>\n",
              "  <tbody>\n",
              "    <tr>\n",
              "      <th>0</th>\n",
              "      <td>TRAIN_0000</td>\n",
              "      <td>also i was the point person on my company’s tr...</td>\n",
              "      <td>Chandler</td>\n",
              "      <td>0</td>\n",
              "      <td>neutral</td>\n",
              "    </tr>\n",
              "    <tr>\n",
              "      <th>1</th>\n",
              "      <td>TRAIN_0001</td>\n",
              "      <td>you must’ve had your hands full.</td>\n",
              "      <td>The Interviewer</td>\n",
              "      <td>0</td>\n",
              "      <td>neutral</td>\n",
              "    </tr>\n",
              "    <tr>\n",
              "      <th>2</th>\n",
              "      <td>TRAIN_0002</td>\n",
              "      <td>that i did. that i did.</td>\n",
              "      <td>Chandler</td>\n",
              "      <td>0</td>\n",
              "      <td>neutral</td>\n",
              "    </tr>\n",
              "    <tr>\n",
              "      <th>3</th>\n",
              "      <td>TRAIN_0003</td>\n",
              "      <td>so let’s talk a little bit about your duties.</td>\n",
              "      <td>The Interviewer</td>\n",
              "      <td>0</td>\n",
              "      <td>neutral</td>\n",
              "    </tr>\n",
              "    <tr>\n",
              "      <th>4</th>\n",
              "      <td>TRAIN_0004</td>\n",
              "      <td>my duties? all right.</td>\n",
              "      <td>Chandler</td>\n",
              "      <td>0</td>\n",
              "      <td>surprise</td>\n",
              "    </tr>\n",
              "  </tbody>\n",
              "</table>\n",
              "</div>\n",
              "      <button class=\"colab-df-convert\" onclick=\"convertToInteractive('df-242858be-b365-432f-81e8-f8a5ca15c1f2')\"\n",
              "              title=\"Convert this dataframe to an interactive table.\"\n",
              "              style=\"display:none;\">\n",
              "        \n",
              "  <svg xmlns=\"http://www.w3.org/2000/svg\" height=\"24px\"viewBox=\"0 0 24 24\"\n",
              "       width=\"24px\">\n",
              "    <path d=\"M0 0h24v24H0V0z\" fill=\"none\"/>\n",
              "    <path d=\"M18.56 5.44l.94 2.06.94-2.06 2.06-.94-2.06-.94-.94-2.06-.94 2.06-2.06.94zm-11 1L8.5 8.5l.94-2.06 2.06-.94-2.06-.94L8.5 2.5l-.94 2.06-2.06.94zm10 10l.94 2.06.94-2.06 2.06-.94-2.06-.94-.94-2.06-.94 2.06-2.06.94z\"/><path d=\"M17.41 7.96l-1.37-1.37c-.4-.4-.92-.59-1.43-.59-.52 0-1.04.2-1.43.59L10.3 9.45l-7.72 7.72c-.78.78-.78 2.05 0 2.83L4 21.41c.39.39.9.59 1.41.59.51 0 1.02-.2 1.41-.59l7.78-7.78 2.81-2.81c.8-.78.8-2.07 0-2.86zM5.41 20L4 18.59l7.72-7.72 1.47 1.35L5.41 20z\"/>\n",
              "  </svg>\n",
              "      </button>\n",
              "      \n",
              "  <style>\n",
              "    .colab-df-container {\n",
              "      display:flex;\n",
              "      flex-wrap:wrap;\n",
              "      gap: 12px;\n",
              "    }\n",
              "\n",
              "    .colab-df-convert {\n",
              "      background-color: #E8F0FE;\n",
              "      border: none;\n",
              "      border-radius: 50%;\n",
              "      cursor: pointer;\n",
              "      display: none;\n",
              "      fill: #1967D2;\n",
              "      height: 32px;\n",
              "      padding: 0 0 0 0;\n",
              "      width: 32px;\n",
              "    }\n",
              "\n",
              "    .colab-df-convert:hover {\n",
              "      background-color: #E2EBFA;\n",
              "      box-shadow: 0px 1px 2px rgba(60, 64, 67, 0.3), 0px 1px 3px 1px rgba(60, 64, 67, 0.15);\n",
              "      fill: #174EA6;\n",
              "    }\n",
              "\n",
              "    [theme=dark] .colab-df-convert {\n",
              "      background-color: #3B4455;\n",
              "      fill: #D2E3FC;\n",
              "    }\n",
              "\n",
              "    [theme=dark] .colab-df-convert:hover {\n",
              "      background-color: #434B5C;\n",
              "      box-shadow: 0px 1px 3px 1px rgba(0, 0, 0, 0.15);\n",
              "      filter: drop-shadow(0px 1px 2px rgba(0, 0, 0, 0.3));\n",
              "      fill: #FFFFFF;\n",
              "    }\n",
              "  </style>\n",
              "\n",
              "      <script>\n",
              "        const buttonEl =\n",
              "          document.querySelector('#df-242858be-b365-432f-81e8-f8a5ca15c1f2 button.colab-df-convert');\n",
              "        buttonEl.style.display =\n",
              "          google.colab.kernel.accessAllowed ? 'block' : 'none';\n",
              "\n",
              "        async function convertToInteractive(key) {\n",
              "          const element = document.querySelector('#df-242858be-b365-432f-81e8-f8a5ca15c1f2');\n",
              "          const dataTable =\n",
              "            await google.colab.kernel.invokeFunction('convertToInteractive',\n",
              "                                                     [key], {});\n",
              "          if (!dataTable) return;\n",
              "\n",
              "          const docLinkHtml = 'Like what you see? Visit the ' +\n",
              "            '<a target=\"_blank\" href=https://colab.research.google.com/notebooks/data_table.ipynb>data table notebook</a>'\n",
              "            + ' to learn more about interactive tables.';\n",
              "          element.innerHTML = '';\n",
              "          dataTable['output_type'] = 'display_data';\n",
              "          await google.colab.output.renderOutput(dataTable, element);\n",
              "          const docLink = document.createElement('div');\n",
              "          docLink.innerHTML = docLinkHtml;\n",
              "          element.appendChild(docLink);\n",
              "        }\n",
              "      </script>\n",
              "    </div>\n",
              "  </div>\n",
              "  "
            ],
            "text/plain": [
              "           ID                                          Utterance  \\\n",
              "0  TRAIN_0000  also i was the point person on my company’s tr...   \n",
              "1  TRAIN_0001                   you must’ve had your hands full.   \n",
              "2  TRAIN_0002                            that i did. that i did.   \n",
              "3  TRAIN_0003      so let’s talk a little bit about your duties.   \n",
              "4  TRAIN_0004                              my duties? all right.   \n",
              "\n",
              "           Speaker  Dialogue_ID    Target  \n",
              "0         Chandler            0   neutral  \n",
              "1  The Interviewer            0   neutral  \n",
              "2         Chandler            0   neutral  \n",
              "3  The Interviewer            0   neutral  \n",
              "4         Chandler            0  surprise  "
            ]
          },
          "execution_count": 6,
          "metadata": {},
          "output_type": "execute_result"
        }
      ],
      "source": [
        "# 데이터 확인\n",
        "train_csv = pd.read_csv(TRAIN_CSV)\n",
        "train_csv[\"Utterance\"] = train_csv[\"Utterance\"].map(twt_tokenize)\n",
        "train_csv.head()"
      ]
    },
    {
      "cell_type": "code",
      "source": [
        "targets = train_csv[\"Target\"].unique()\n",
        "target_size = targets.shape[0]\n",
        "target_size"
      ],
      "metadata": {
        "colab": {
          "base_uri": "https://localhost:8080/"
        },
        "id": "bDYxMFkv7E9d",
        "outputId": "e975493e-a214-4963-f8a6-2ccac4ed2221"
      },
      "execution_count": null,
      "outputs": [
        {
          "data": {
            "text/plain": [
              "7"
            ]
          },
          "execution_count": 7,
          "metadata": {},
          "output_type": "execute_result"
        }
      ]
    },
    {
      "cell_type": "code",
      "execution_count": null,
      "metadata": {
        "id": "HCp43NZrqBJ7",
        "colab": {
          "base_uri": "https://localhost:8080/",
          "height": 206
        },
        "outputId": "baa287c8-9fe9-496f-8e82-3d48942d975a"
      },
      "outputs": [
        {
          "data": {
            "text/html": [
              "\n",
              "  <div id=\"df-47a8cd89-d95f-46f7-b0f4-a9152e607500\">\n",
              "    <div class=\"colab-df-container\">\n",
              "      <div>\n",
              "<style scoped>\n",
              "    .dataframe tbody tr th:only-of-type {\n",
              "        vertical-align: middle;\n",
              "    }\n",
              "\n",
              "    .dataframe tbody tr th {\n",
              "        vertical-align: top;\n",
              "    }\n",
              "\n",
              "    .dataframe thead th {\n",
              "        text-align: right;\n",
              "    }\n",
              "</style>\n",
              "<table border=\"1\" class=\"dataframe\">\n",
              "  <thead>\n",
              "    <tr style=\"text-align: right;\">\n",
              "      <th></th>\n",
              "      <th>Utterance</th>\n",
              "      <th>Target</th>\n",
              "    </tr>\n",
              "  </thead>\n",
              "  <tbody>\n",
              "    <tr>\n",
              "      <th>0</th>\n",
              "      <td>i know! why don’t you get drunk! that worked f...</td>\n",
              "      <td>anger</td>\n",
              "    </tr>\n",
              "    <tr>\n",
              "      <th>1</th>\n",
              "      <td>yeah, that chandler cracks me up.</td>\n",
              "      <td>joy</td>\n",
              "    </tr>\n",
              "    <tr>\n",
              "      <th>2</th>\n",
              "      <td>y'know, hey! you’re the one who ended it, reme...</td>\n",
              "      <td>anger</td>\n",
              "    </tr>\n",
              "    <tr>\n",
              "      <th>3</th>\n",
              "      <td>oh, be-because of the leather pants.</td>\n",
              "      <td>sadness</td>\n",
              "    </tr>\n",
              "    <tr>\n",
              "      <th>4</th>\n",
              "      <td>how long have we been home?</td>\n",
              "      <td>neutral</td>\n",
              "    </tr>\n",
              "  </tbody>\n",
              "</table>\n",
              "</div>\n",
              "      <button class=\"colab-df-convert\" onclick=\"convertToInteractive('df-47a8cd89-d95f-46f7-b0f4-a9152e607500')\"\n",
              "              title=\"Convert this dataframe to an interactive table.\"\n",
              "              style=\"display:none;\">\n",
              "        \n",
              "  <svg xmlns=\"http://www.w3.org/2000/svg\" height=\"24px\"viewBox=\"0 0 24 24\"\n",
              "       width=\"24px\">\n",
              "    <path d=\"M0 0h24v24H0V0z\" fill=\"none\"/>\n",
              "    <path d=\"M18.56 5.44l.94 2.06.94-2.06 2.06-.94-2.06-.94-.94-2.06-.94 2.06-2.06.94zm-11 1L8.5 8.5l.94-2.06 2.06-.94-2.06-.94L8.5 2.5l-.94 2.06-2.06.94zm10 10l.94 2.06.94-2.06 2.06-.94-2.06-.94-.94-2.06-.94 2.06-2.06.94z\"/><path d=\"M17.41 7.96l-1.37-1.37c-.4-.4-.92-.59-1.43-.59-.52 0-1.04.2-1.43.59L10.3 9.45l-7.72 7.72c-.78.78-.78 2.05 0 2.83L4 21.41c.39.39.9.59 1.41.59.51 0 1.02-.2 1.41-.59l7.78-7.78 2.81-2.81c.8-.78.8-2.07 0-2.86zM5.41 20L4 18.59l7.72-7.72 1.47 1.35L5.41 20z\"/>\n",
              "  </svg>\n",
              "      </button>\n",
              "      \n",
              "  <style>\n",
              "    .colab-df-container {\n",
              "      display:flex;\n",
              "      flex-wrap:wrap;\n",
              "      gap: 12px;\n",
              "    }\n",
              "\n",
              "    .colab-df-convert {\n",
              "      background-color: #E8F0FE;\n",
              "      border: none;\n",
              "      border-radius: 50%;\n",
              "      cursor: pointer;\n",
              "      display: none;\n",
              "      fill: #1967D2;\n",
              "      height: 32px;\n",
              "      padding: 0 0 0 0;\n",
              "      width: 32px;\n",
              "    }\n",
              "\n",
              "    .colab-df-convert:hover {\n",
              "      background-color: #E2EBFA;\n",
              "      box-shadow: 0px 1px 2px rgba(60, 64, 67, 0.3), 0px 1px 3px 1px rgba(60, 64, 67, 0.15);\n",
              "      fill: #174EA6;\n",
              "    }\n",
              "\n",
              "    [theme=dark] .colab-df-convert {\n",
              "      background-color: #3B4455;\n",
              "      fill: #D2E3FC;\n",
              "    }\n",
              "\n",
              "    [theme=dark] .colab-df-convert:hover {\n",
              "      background-color: #434B5C;\n",
              "      box-shadow: 0px 1px 3px 1px rgba(0, 0, 0, 0.15);\n",
              "      filter: drop-shadow(0px 1px 2px rgba(0, 0, 0, 0.3));\n",
              "      fill: #FFFFFF;\n",
              "    }\n",
              "  </style>\n",
              "\n",
              "      <script>\n",
              "        const buttonEl =\n",
              "          document.querySelector('#df-47a8cd89-d95f-46f7-b0f4-a9152e607500 button.colab-df-convert');\n",
              "        buttonEl.style.display =\n",
              "          google.colab.kernel.accessAllowed ? 'block' : 'none';\n",
              "\n",
              "        async function convertToInteractive(key) {\n",
              "          const element = document.querySelector('#df-47a8cd89-d95f-46f7-b0f4-a9152e607500');\n",
              "          const dataTable =\n",
              "            await google.colab.kernel.invokeFunction('convertToInteractive',\n",
              "                                                     [key], {});\n",
              "          if (!dataTable) return;\n",
              "\n",
              "          const docLinkHtml = 'Like what you see? Visit the ' +\n",
              "            '<a target=\"_blank\" href=https://colab.research.google.com/notebooks/data_table.ipynb>data table notebook</a>'\n",
              "            + ' to learn more about interactive tables.';\n",
              "          element.innerHTML = '';\n",
              "          dataTable['output_type'] = 'display_data';\n",
              "          await google.colab.output.renderOutput(dataTable, element);\n",
              "          const docLink = document.createElement('div');\n",
              "          docLink.innerHTML = docLinkHtml;\n",
              "          element.appendChild(docLink);\n",
              "        }\n",
              "      </script>\n",
              "    </div>\n",
              "  </div>\n",
              "  "
            ],
            "text/plain": [
              "                                           Utterance   Target\n",
              "0  i know! why don’t you get drunk! that worked f...    anger\n",
              "1                  yeah, that chandler cracks me up.      joy\n",
              "2  y'know, hey! you’re the one who ended it, reme...    anger\n",
              "3               oh, be-because of the leather pants.  sadness\n",
              "4                        how long have we been home?  neutral"
            ]
          },
          "execution_count": 8,
          "metadata": {},
          "output_type": "execute_result"
        }
      ],
      "source": [
        "train_csv = train_csv.loc[:, [\"Utterance\", \"Target\"]]\n",
        "\n",
        "df_train, df_eval = train_test_split(train_csv, test_size=0.2)\n",
        "df_train.reset_index(drop=True, inplace=True)\n",
        "df_eval.reset_index(drop=True, inplace=True)\n",
        "df_train.head()"
      ]
    },
    {
      "cell_type": "code",
      "source": [
        "class EmotionDataset(Dataset):\n",
        "    def __init__(self, df, tokenizer, target_size=7, mode=None, max_len=512):\n",
        "        self.data_col = \"Utterance\"\n",
        "        self.target_col = \"Target\"\n",
        "        self.mode = str(mode).strip().lower()\n",
        "        self.tokenizer = tokenizer\n",
        "        self.target_size = target_size\n",
        "        self.max_len = max_len\n",
        "        self.data = self._tokenize(df)\n",
        "    \n",
        "    def __len__(self):\n",
        "        return len(self.data)\n",
        "    \n",
        "    def __getitem__(self, index):\n",
        "        data, target = self.data[index]\n",
        "        data_ids = data[\"input_ids\"].squeeze()\n",
        "        data_mask = data[\"attention_mask\"].squeeze()\n",
        "\n",
        "        if self.mode != \"test\":\n",
        "            target_mask = target[\"attention_mask\"].squeeze()\n",
        "            labels = target[\"input_ids\"].squeeze()\n",
        "            labels[labels[:] == self.tokenizer.pad_token_id] = -100\n",
        "            return {\n",
        "                \"input_ids\": data_ids, \n",
        "                \"attention_mask\": data_mask, \n",
        "                \"decoder_attention_mask\": target_mask, \n",
        "                \"labels\": labels\n",
        "            }\n",
        "\n",
        "        return {\n",
        "            \"input_ids\": data_ids, \n",
        "            \"attention_mask\": data_mask\n",
        "        }\n",
        "\n",
        "    def _tokenize(self, df):\n",
        "        res = list()\n",
        "        for index in range(df.shape[0]):\n",
        "            if self.mode == \"test\":\n",
        "                tokenized_target = None\n",
        "            else:\n",
        "                target = df.loc[index, self.target_col]\n",
        "                tokenized_target = self.tokenizer(\n",
        "                    [target],\n",
        "                    max_length=self.target_size, \n",
        "                    padding=\"max_length\", \n",
        "                    truncation=True, \n",
        "                    return_tensors=\"pt\"\n",
        "                )\n",
        "            \n",
        "            data = df.loc[index, self.data_col]\n",
        "            tokenized_data = self.tokenizer(\n",
        "                [data], \n",
        "                max_length=self.max_len, \n",
        "                padding=\"max_length\", \n",
        "                truncation=True, \n",
        "                return_tensors=\"pt\"\n",
        "            )\n",
        "            res.append([tokenized_data, tokenized_target])\n",
        "        return res "
      ],
      "metadata": {
        "id": "_2RDMQSwv_QR"
      },
      "execution_count": null,
      "outputs": []
    },
    {
      "cell_type": "code",
      "execution_count": null,
      "metadata": {
        "id": "i04WXK3Yk9oi"
      },
      "outputs": [],
      "source": [
        "tokenizer = T5Tokenizer.from_pretrained(\n",
        "    MODEL,\n",
        "    max_length=MAX_LENGTH\n",
        ")"
      ]
    },
    {
      "cell_type": "code",
      "execution_count": null,
      "metadata": {
        "id": "2zxN5atGQDpz"
      },
      "outputs": [],
      "source": [
        "train_set = EmotionDataset(\n",
        "    df_train, \n",
        "    tokenizer, \n",
        "    target_size=target_size, \n",
        "    mode=\"train\", \n",
        "    max_len=MAX_LENGTH\n",
        ")\n",
        "eval_set = EmotionDataset(\n",
        "    df_eval, \n",
        "    tokenizer, \n",
        "    target_size=target_size, \n",
        "    mode=\"train\", \n",
        "    max_len=MAX_LENGTH\n",
        ")"
      ]
    },
    {
      "cell_type": "code",
      "source": [
        "model = T5ForConditionalGeneration.from_pretrained(\n",
        "    MODEL,\n",
        "    num_labels=target_size,\n",
        "    ignore_mismatched_sizes=True\n",
        ")"
      ],
      "metadata": {
        "id": "GujOmIO-0aV9"
      },
      "execution_count": null,
      "outputs": []
    },
    {
      "cell_type": "code",
      "source": [
        "def eval(model, tokenizer, eval_set):\n",
        "    model.to(DEVICE)\n",
        "    pred_values = list()\n",
        "    \n",
        "    for data in eval_set:\n",
        "        output = model.generate(\n",
        "            input_ids=data[\"input_ids\"].unsqueeze(0).to(DEVICE), \n",
        "            attention_mask=data[\"attention_mask\"].unsqueeze(0).to(DEVICE), \n",
        "            max_length=512\n",
        "        )\n",
        "        pred = [tokenizer.decode(ids) for ids in output][0]\n",
        "        re_tag = re.compile(\"<.*?>\")\n",
        "        pred = re.sub(re_tag, \"\", pred).strip()\n",
        "        pred_values.append(pred)\n",
        "\n",
        "    real_values = df_eval[\"Target\"].tolist()\n",
        "    acc = accuracy_score(real_values, pred_values)\n",
        "    f1 = f1_score(real_values, pred_values, average=\"macro\")\n",
        "    return {\n",
        "        \"accuracy\": acc,\n",
        "        \"f1\": f1\n",
        "    }"
      ],
      "metadata": {
        "id": "JngfHikz3Zxo"
      },
      "execution_count": null,
      "outputs": []
    },
    {
      "cell_type": "code",
      "execution_count": null,
      "metadata": {
        "id": "8uLtQqBDq_Rr"
      },
      "outputs": [],
      "source": [
        "trainer = Trainer(\n",
        "    model=model,\n",
        "    args=TRAIN_ARGS,\n",
        "    train_dataset=train_set,\n",
        "    eval_dataset=eval_set\n",
        ")\n",
        "torch.cuda.empty_cache()"
      ]
    },
    {
      "cell_type": "code",
      "execution_count": null,
      "metadata": {
        "id": "6z0IrePhOh8V"
      },
      "outputs": [],
      "source": [
        "trainer.train()"
      ]
    },
    {
      "cell_type": "code",
      "execution_count": null,
      "metadata": {
        "id": "up7mvzihZwR9"
      },
      "outputs": [],
      "source": [
        "# 모델 저장\n",
        "trainer.save_model(join_path(MODEL_DIR))\n",
        "torch.cuda.empty_cache()"
      ]
    },
    {
      "cell_type": "code",
      "source": [
        "score = eval(model, tokenizer, eval_set)\n",
        "print(f\"Accuracy: {score['accuracy']:.5f}\")\n",
        "print(f\"F1-macro: {score['f1']:.5f}\")"
      ],
      "metadata": {
        "id": "pt6xKmtEYs6y"
      },
      "execution_count": null,
      "outputs": []
    },
    {
      "cell_type": "code",
      "execution_count": null,
      "metadata": {
        "id": "vzFz1q2DeJP0"
      },
      "outputs": [],
      "source": [
        "def classify(model, test_set):\n",
        "    model.to(DEVICE)\n",
        "    pred_values = list()\n",
        "    \n",
        "    for data in test_set:\n",
        "        output = model.generate(\n",
        "            input_ids=data[\"input_ids\"].unsqueeze(0).to(DEVICE), \n",
        "            attention_mask=data[\"attention_mask\"].unsqueeze(0).to(DEVICE), \n",
        "            max_length=512\n",
        "        )\n",
        "        pred = [tokenizer.decode(ids) for ids in output][0]\n",
        "        re_tag = re.compile(\"<.*?>\")\n",
        "        pred = re.sub(re_tag, \"\", pred).strip()\n",
        "        pred_values.append(pred)\n",
        "    \n",
        "    return pred_values"
      ]
    },
    {
      "cell_type": "code",
      "execution_count": null,
      "metadata": {
        "id": "cVJXerY-m4rA"
      },
      "outputs": [],
      "source": [
        "test_csv = pd.read_csv(join_path(\"data\", \"test.csv\"))\n",
        "test_csv.head()"
      ]
    },
    {
      "cell_type": "code",
      "execution_count": null,
      "metadata": {
        "id": "LeuRALPEvepl"
      },
      "outputs": [],
      "source": [
        "df_test = test_csv.loc[:, \"Utterance\"].to_frame()\n",
        "test_set = EmotionDataset(df_test, tokenizer)\n",
        "\n",
        "preds = classify(model, test_set)\n",
        "test_csv[\"Target\"] = preds\n",
        "\n",
        "submit = test_csv.loc[:, [\"ID\", \"Target\"]]\n",
        "submit.head()"
      ]
    },
    {
      "cell_type": "code",
      "execution_count": null,
      "metadata": {
        "id": "YrjvHa-nwqpp"
      },
      "outputs": [],
      "source": [
        "submit.to_csv(join_path(MODEL_DIR, \"submit-16.csv\"), index=False)"
      ]
    }
  ],
  "metadata": {
    "accelerator": "GPU",
    "colab": {
      "machine_shape": "hm",
      "provenance": []
    },
    "gpuClass": "premium",
    "kernelspec": {
      "display_name": "Python 3",
      "name": "python3"
    },
    "language_info": {
      "name": "python"
    }
  },
  "nbformat": 4,
  "nbformat_minor": 0
}