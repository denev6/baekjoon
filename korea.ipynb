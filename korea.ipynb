{
 "cells": [
  {
   "cell_type": "markdown",
   "metadata": {},
   "source": [
    "## 대한민국 (South Korea) 관련 데이터 분석\n",
    "\n",
    "*표본이 적어 분석의 신뢰성이 부족함"
   ]
  },
  {
   "cell_type": "code",
   "execution_count": 1,
   "metadata": {},
   "outputs": [
    {
     "name": "stdout",
     "output_type": "stream",
     "text": [
      "2019: ['Overall rank', 'Country or region', 'Score', 'GDP per capita', 'Social support', 'Healthy life expectancy', 'Freedom to make life choices', 'Generosity', 'Perceptions of corruption']\n",
      "\n",
      "2018: ['Overall rank', 'Country or region', 'Score', 'GDP per capita', 'Social support', 'Healthy life expectancy', 'Freedom to make life choices', 'Generosity', 'Perceptions of corruption']\n",
      "\n",
      "2017: ['Country', 'Happiness.Rank', 'Happiness.Score', 'Whisker.high', 'Whisker.low', 'Economy..GDP.per.Capita.', 'Family', 'Health..Life.Expectancy.', 'Freedom', 'Generosity', 'Trust..Government.Corruption.', 'Dystopia.Residual']\n",
      "\n",
      "2016: ['Country', 'Region', 'Happiness Rank', 'Happiness Score', 'Lower Confidence Interval', 'Upper Confidence Interval', 'Economy (GDP per Capita)', 'Family', 'Health (Life Expectancy)', 'Freedom', 'Trust (Government Corruption)', 'Generosity', 'Dystopia Residual']\n",
      "\n",
      "2015: ['Country', 'Region', 'Happiness Rank', 'Happiness Score', 'Standard Error', 'Economy (GDP per Capita)', 'Family', 'Health (Life Expectancy)', 'Freedom', 'Trust (Government Corruption)', 'Generosity', 'Dystopia Residual']\n"
     ]
    }
   ],
   "source": [
    "import pandas as pd\n",
    "\n",
    "df_2019 = pd.read_csv(\"datasets/2019.csv\", sep=\",\")\n",
    "print(f\"2019: {df_2019.columns.tolist()}\\n\")\n",
    "\n",
    "df_2018 = pd.read_csv(\"datasets/2018.csv\", sep=\",\")\n",
    "print(f\"2018: {df_2018.columns.tolist()}\\n\")\n",
    "\n",
    "df_2017 = pd.read_csv(\"datasets/2017.csv\", sep=\",\")\n",
    "print(f\"2017: {df_2017.columns.tolist()}\\n\")\n",
    "\n",
    "df_2016 = pd.read_csv(\"datasets/2016.csv\", sep=\",\")\n",
    "print(f\"2016: {df_2016.columns.tolist()}\\n\")\n",
    "\n",
    "df_2015 = pd.read_csv(\"datasets/2015.csv\", sep=\",\")\n",
    "print(f\"2015: {df_2015.columns.tolist()}\")"
   ]
  },
  {
   "cell_type": "markdown",
   "metadata": {},
   "source": [
    "---"
   ]
  },
  {
   "cell_type": "markdown",
   "metadata": {},
   "source": [
    "- Country: South Korea  \n",
    "- Features: Score, Economy, Health, Freedom"
   ]
  },
  {
   "cell_type": "code",
   "execution_count": 2,
   "metadata": {},
   "outputs": [],
   "source": [
    "def find_column(df, to_contain):\n",
    "    mask = df.columns.str.contains(to_contain)\n",
    "    col_name = df.columns[mask].values[0]\n",
    "    return col_name\n",
    "\n",
    "def get_kor_values(df):\n",
    "    country = find_column(df, \"Country\")\n",
    "    score = find_column(df, \"Score\")\n",
    "    gdp = find_column(df, \"GDP\")\n",
    "    health = find_column(df, \"Health\")\n",
    "    freedom = find_column(df, \"Freedom\")\n",
    "    df_kor = df.loc[df[country] == \"South Korea\", [score, gdp, health, freedom]]\n",
    "    values = df_kor.values.flatten().tolist()\n",
    "    return values"
   ]
  },
  {
   "cell_type": "code",
   "execution_count": 3,
   "metadata": {},
   "outputs": [],
   "source": [
    "kor_2019 = get_kor_values(df_2019)\n",
    "kor_2018 = get_kor_values(df_2018)\n",
    "kor_2017 = get_kor_values(df_2017)\n",
    "kor_2016 = get_kor_values(df_2016)\n",
    "kor_2015 = get_kor_values(df_2015)"
   ]
  },
  {
   "cell_type": "code",
   "execution_count": 4,
   "metadata": {},
   "outputs": [
    {
     "data": {
      "text/html": [
       "<div>\n",
       "<style scoped>\n",
       "    .dataframe tbody tr th:only-of-type {\n",
       "        vertical-align: middle;\n",
       "    }\n",
       "\n",
       "    .dataframe tbody tr th {\n",
       "        vertical-align: top;\n",
       "    }\n",
       "\n",
       "    .dataframe thead th {\n",
       "        text-align: right;\n",
       "    }\n",
       "</style>\n",
       "<table border=\"1\" class=\"dataframe\">\n",
       "  <thead>\n",
       "    <tr style=\"text-align: right;\">\n",
       "      <th></th>\n",
       "      <th>Score</th>\n",
       "      <th>Economy</th>\n",
       "      <th>Health</th>\n",
       "      <th>Freedom</th>\n",
       "    </tr>\n",
       "  </thead>\n",
       "  <tbody>\n",
       "    <tr>\n",
       "      <th>2015</th>\n",
       "      <td>5.984</td>\n",
       "      <td>1.244610</td>\n",
       "      <td>0.965380</td>\n",
       "      <td>0.332080</td>\n",
       "    </tr>\n",
       "    <tr>\n",
       "      <th>2016</th>\n",
       "      <td>5.835</td>\n",
       "      <td>1.359480</td>\n",
       "      <td>0.886450</td>\n",
       "      <td>0.251680</td>\n",
       "    </tr>\n",
       "    <tr>\n",
       "      <th>2017</th>\n",
       "      <td>5.838</td>\n",
       "      <td>1.401678</td>\n",
       "      <td>0.900214</td>\n",
       "      <td>0.257922</td>\n",
       "    </tr>\n",
       "    <tr>\n",
       "      <th>2018</th>\n",
       "      <td>5.875</td>\n",
       "      <td>1.266000</td>\n",
       "      <td>0.955000</td>\n",
       "      <td>0.244000</td>\n",
       "    </tr>\n",
       "    <tr>\n",
       "      <th>2019</th>\n",
       "      <td>5.895</td>\n",
       "      <td>1.301000</td>\n",
       "      <td>1.036000</td>\n",
       "      <td>0.159000</td>\n",
       "    </tr>\n",
       "  </tbody>\n",
       "</table>\n",
       "</div>"
      ],
      "text/plain": [
       "      Score   Economy    Health   Freedom\n",
       "2015  5.984  1.244610  0.965380  0.332080\n",
       "2016  5.835  1.359480  0.886450  0.251680\n",
       "2017  5.838  1.401678  0.900214  0.257922\n",
       "2018  5.875  1.266000  0.955000  0.244000\n",
       "2019  5.895  1.301000  1.036000  0.159000"
      ]
     },
     "execution_count": 4,
     "metadata": {},
     "output_type": "execute_result"
    }
   ],
   "source": [
    "values = [kor_2015, kor_2016, kor_2017, kor_2018, kor_2019]\n",
    "index_names = [str(n) for n in range(2015, 2020)]\n",
    "\n",
    "df_kor = pd.DataFrame(values, index=index_names)\n",
    "df_kor.columns = [\"Score\", \"Economy\", \"Health\", \"Freedom\"]\n",
    "df_kor"
   ]
  },
  {
   "cell_type": "code",
   "execution_count": 5,
   "metadata": {},
   "outputs": [
    {
     "data": {
      "image/png": "[encoded data removed]",
      "text/plain": [
       "<Figure size 1008x432 with 2 Axes>"
      ]
     },
     "metadata": {
      "needs_background": "light"
     },
     "output_type": "display_data"
    }
   ],
   "source": [
    "import matplotlib.pyplot as plt\n",
    "\n",
    "years = df_kor.index\n",
    "cols = df_kor.columns\n",
    "\n",
    "plt.figure(figsize=(14, 6))\n",
    "plt.subplots_adjust(wspace=0.2)\n",
    "ax1 = plt.subplot(1, 2, 1)\n",
    "ax2 = plt.subplot(1, 2, 2)\n",
    "\n",
    "for col in cols[1:]:\n",
    "    value = df_kor[col].values.flatten().tolist()\n",
    "    ax1.scatter(years, value)\n",
    "    ax1.plot(years, value, label=col)\n",
    "ax1.set_xlabel(\"Year\")\n",
    "ax1.legend()\n",
    "\n",
    "scores = df_kor[\"Score\"].values.flatten().tolist()\n",
    "ax2.scatter(years, scores, color=\"r\")\n",
    "ax2.plot(years, scores, label=\"Happiness Score\", color=\"r\")\n",
    "ax2.set_ylim([0, 10])\n",
    "ax2.set_xlabel(\"Year\")\n",
    "ax2.legend()\n",
    "\n",
    "plt.show()"
   ]
  }
 ],
 "metadata": {
  "kernelspec": {
   "display_name": "dataenv",
   "language": "python",
   "name": "dataenv"
  },
  "language_info": {
   "codemirror_mode": {
    "name": "ipython",
    "version": 3
   },
   "file_extension": ".py",
   "mimetype": "text/x-python",
   "name": "python",
   "nbconvert_exporter": "python",
   "pygments_lexer": "ipython3",
   "version": "3.8.11"
  }
 },
 "nbformat": 4,
 "nbformat_minor": 2
}
