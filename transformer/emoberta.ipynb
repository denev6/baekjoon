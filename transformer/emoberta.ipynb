{
 "cells": [
  {
   "cell_type": "code",
   "execution_count": 1,
   "metadata": {
    "colab": {
     "base_uri": "https://localhost:8080/"
    },
    "executionInfo": {
     "elapsed": 1246,
     "status": "ok",
     "timestamp": 1669207494606,
     "user": {
      "displayName": "박성진",
      "userId": "14717233518650621978"
     },
     "user_tz": -540
    },
    "id": "Kt9LGLSXyZpq",
    "outputId": "6c769c47-e4a1-4e94-fdf7-192e67c69443"
   },
   "outputs": [
    {
     "name": "stdout",
     "output_type": "stream",
     "text": [
      "Python 3.7.15\n"
     ]
    }
   ],
   "source": [
    "!python --version"
   ]
  },
  {
   "cell_type": "code",
   "execution_count": null,
   "metadata": {
    "id": "_qXlXpiWjwG8"
   },
   "outputs": [],
   "source": [
    "!pip install transformers\n",
    "!pip install datasets\n",
    "\n",
    "import nltk\n",
    "\n",
    "nltk.download(\"punkt\")"
   ]
  },
  {
   "cell_type": "markdown",
   "metadata": {
    "id": "jj0Hb5mktWPf"
   },
   "source": [
    "# emoBERTa"
   ]
  },
  {
   "cell_type": "code",
   "execution_count": null,
   "metadata": {
    "id": "SskIfXoWvyS_"
   },
   "outputs": [],
   "source": [
    "import os\n",
    "import re\n",
    "import warnings\n",
    "from google.colab import drive\n",
    "\n",
    "import torch\n",
    "import pandas as pd\n",
    "from tqdm import tqdm\n",
    "from datasets import Dataset\n",
    "from transformers import (\n",
    "    Trainer,\n",
    "    TrainingArguments,\n",
    "    RobertaTokenizerFast,\n",
    "    RobertaForSequenceClassification,\n",
    ")\n",
    "from nltk.tokenize import TweetTokenizer\n",
    "from sklearn.metrics import accuracy_score, f1_score\n",
    "\n",
    "drive.mount(\"/content/drive\")\n",
    "warnings.filterwarnings(\"ignore\")"
   ]
  },
  {
   "cell_type": "code",
   "execution_count": 4,
   "metadata": {
    "executionInfo": {
     "elapsed": 32,
     "status": "ok",
     "timestamp": 1669207507053,
     "user": {
      "displayName": "박성진",
      "userId": "14717233518650621978"
     },
     "user_tz": -540
    },
    "id": "qLO55TxdfYuV"
   },
   "outputs": [],
   "source": [
    "CWD = \"/content/drive/MyDrive\"\n",
    "\n",
    "\n",
    "def join_path(*args):\n",
    "    return os.path.join(CWD, *args)\n",
    "\n",
    "\n",
    "DEVICE = torch.device(\"cuda\") if torch.cuda.is_available() else torch.device(\"cpu\")\n",
    "TRAIN_CSV = join_path(\"data\", \"train.csv\")\n",
    "TEST_CSV = join_path(\"data\", \"test.csv\")\n",
    "MODEL = \"tae898/emoberta-large\"\n",
    "BATCH_SIZE = 32\n",
    "EPOCHS = 4\n",
    "MAX_LENGTH = 128\n",
    "\n",
    "TRAIN_ARGS = TrainingArguments(\n",
    "    output_dir=join_path(\"emoberta\"),\n",
    "    num_train_epochs=EPOCHS,\n",
    "    per_device_train_batch_size=BATCH_SIZE,\n",
    "    per_device_eval_batch_size=BATCH_SIZE,\n",
    "    learning_rate=3e-6,\n",
    "    warmup_steps=500,\n",
    "    weight_decay=0.01,\n",
    "    dataloader_num_workers=0,\n",
    "    save_total_limit=1\n",
    ")"
   ]
  },
  {
   "cell_type": "markdown",
   "metadata": {
    "id": "0SPq3wijdEGA"
   },
   "source": [
    "# Tokenizers"
   ]
  },
  {
   "cell_type": "code",
   "execution_count": 5,
   "metadata": {
    "executionInfo": {
     "elapsed": 1142,
     "status": "ok",
     "timestamp": 1669207508167,
     "user": {
      "displayName": "박성진",
      "userId": "14717233518650621978"
     },
     "user_tz": -540
    },
    "id": "2wlBjnC6qadV"
   },
   "outputs": [],
   "source": [
    "twt_tokenizer = nltk.tokenize.TweetTokenizer(\n",
    "    preserve_case=False, strip_handles=True, reduce_len=True\n",
    ")\n",
    "roberta_tokenizer = RobertaTokenizerFast.from_pretrained(MODEL, truncation=True)\n",
    "\n",
    "\n",
    "def shorten_repeated_words(tokens):\n",
    "    for i, token in enumerate(tokens):\n",
    "        if \"-\" in token:\n",
    "            token = token.split(\"-\")\n",
    "            token = \"-\".join(dict.fromkeys(token))\n",
    "            tokens[i] = token\n",
    "    return tokens\n",
    "\n",
    "\n",
    "def decode_tokens(tokens):\n",
    "    sentence = \" \".join(tokens)\n",
    "    marks = re.findall(r\"\\s\\W\\s*\", sentence)\n",
    "    for mark in marks:\n",
    "        if mark.strip() in [\"'\", \"’\"]:\n",
    "            sentence = sentence.replace(mark, mark.strip())\n",
    "        else:\n",
    "            sentence = sentence.replace(mark, mark.lstrip())\n",
    "    return sentence\n",
    "\n",
    "\n",
    "def twt_tokenize(sentence):\n",
    "    twt_tokens = twt_tokenizer.tokenize(sentence)\n",
    "    twt_tokens = shorten_repeated_words(twt_tokens)\n",
    "    twt_sentence = decode_tokens(twt_tokens)\n",
    "    return twt_sentence"
   ]
  },
  {
   "cell_type": "code",
   "execution_count": 6,
   "metadata": {
    "colab": {
     "base_uri": "https://localhost:8080/"
    },
    "executionInfo": {
     "elapsed": 19,
     "status": "ok",
     "timestamp": 1669207508169,
     "user": {
      "displayName": "박성진",
      "userId": "14717233518650621978"
     },
     "user_tz": -540
    },
    "id": "h0c-saw9P0t6",
    "outputId": "0a422e0f-d983-47f1-f002-78364bf689ab"
   },
   "outputs": [
    {
     "name": "stdout",
     "output_type": "stream",
     "text": [
      "And-and-and-and-and the cars?\n",
      ">>> and the cars?\n",
      "\n",
      "Awwwwwww?! Cheol-su!\n",
      ">>> awww?! cheol-su!\n",
      "\n",
      "I didn't. I didn't.\n",
      ">>> i didn't. i didn't.\n",
      "\n"
     ]
    }
   ],
   "source": [
    "sent1 = \"And-and-and-and-and the cars?\"\n",
    "sent2 = \"Awwwwwww?! Cheol-su!\"\n",
    "sent3 = \"I didn't. I didn't.\"\n",
    "print(f\"{sent1}\\n>>> {twt_tokenize(sent1)}\\n\")\n",
    "print(f\"{sent2}\\n>>> {twt_tokenize(sent2)}\\n\")\n",
    "print(f\"{sent3}\\n>>> {twt_tokenize(sent3)}\\n\")"
   ]
  },
  {
   "cell_type": "code",
   "execution_count": 7,
   "metadata": {
    "executionInfo": {
     "elapsed": 14,
     "status": "ok",
     "timestamp": 1669207508173,
     "user": {
      "displayName": "박성진",
      "userId": "14717233518650621978"
     },
     "user_tz": -540
    },
    "id": "97XA-GEZmc6s"
   },
   "outputs": [],
   "source": [
    "class LabelEncoder(object):\n",
    "    def __init__(self):\n",
    "        self._targets = [\n",
    "            \"neutral\",\n",
    "            \"joy\",\n",
    "            \"surprise\",\n",
    "            \"anger\",\n",
    "            \"sadness\",\n",
    "            \"disgust\",\n",
    "            \"fear\",\n",
    "        ]\n",
    "        self.target_size = len(self._targets)\n",
    "\n",
    "    def encode(self, labels):\n",
    "        labels = [self._targets.index(lb) for lb in labels]\n",
    "        return labels\n",
    "\n",
    "    def decode(self, labels):\n",
    "        labels = [self._targets[lb] for lb in labels]\n",
    "        return labels"
   ]
  },
  {
   "cell_type": "markdown",
   "metadata": {
    "id": "vPDUHfujx2NN"
   },
   "source": [
    "# Dataset"
   ]
  },
  {
   "cell_type": "code",
   "execution_count": null,
   "metadata": {
    "colab": {
     "base_uri": "https://localhost:8080/",
     "height": 206
    },
    "executionInfo": {
     "elapsed": 804,
     "status": "ok",
     "timestamp": 1669207508964,
     "user": {
      "displayName": "박성진",
      "userId": "14717233518650621978"
     },
     "user_tz": -540
    },
    "id": "fFZRDzdWkoTz",
    "outputId": "16c36dff-2fc6-4a9f-8f7f-0cb8aa920b44"
   },
   "outputs": [],
   "source": [
    "train_csv = pd.read_csv(TRAIN_CSV)\n",
    "train_csv[\"Utterance\"] = train_csv[\"Utterance\"].map(twt_tokenize)\n",
    "train_csv.head()"
   ]
  },
  {
   "cell_type": "code",
   "execution_count": null,
   "metadata": {
    "colab": {
     "base_uri": "https://localhost:8080/",
     "height": 206
    },
    "executionInfo": {
     "elapsed": 42,
     "status": "ok",
     "timestamp": 1669207508969,
     "user": {
      "displayName": "박성진",
      "userId": "14717233518650621978"
     },
     "user_tz": -540
    },
    "id": "HCp43NZrqBJ7",
    "outputId": "f97610ae-d1c4-48e2-9dc0-f58acd7d57cd"
   },
   "outputs": [],
   "source": [
    "label_encoder = LabelEncoder()\n",
    "label_size = label_encoder.target_size\n",
    "train_csv[\"Target\"] = label_encoder.encode(train_csv[\"Target\"])\n",
    "\n",
    "train_id = len(train_csv) // 8\n",
    "dialogue_id = train_csv.loc[train_id, \"Dialogue_ID\"]\n",
    "df_train, df_eval = train_csv[: train_id + 1], train_csv[train_id:]\n",
    "\n",
    "df_train = df_train.loc[:, [\"Utterance\", \"Target\"]].rename(columns={\"Target\": \"label\"})\n",
    "df_eval = df_eval.loc[:, [\"Utterance\", \"Target\"]].rename(columns={\"Target\": \"label\"})\n",
    "df_train.head()"
   ]
  },
  {
   "cell_type": "code",
   "execution_count": null,
   "metadata": {
    "colab": {
     "base_uri": "https://localhost:8080/",
     "height": 81,
     "referenced_widgets": [
      "3503e7b0bd284663b92a61a8ccfafe8f",
      "bbe0905159744dae9aa9925093e324e7",
      "0e1da407e1ba4c9abed13b9e9174e372",
      "cdc3e4fd29b142b8af31d9ad14a2ab94",
      "0e8ad107d363452fb955d3864a94c76c",
      "e40acbc9ae6f4a7b95ae94f0354b6bf0",
      "74f5860c1157473d8bab96a5862e15dd",
      "6c60aab5452945f3861fd3c943c7b884",
      "498a47fa43664587a243663d74e082de",
      "6c018432373549a2a74ae218c2078b55",
      "c78da2dadb664d72994dd40b73030b5d",
      "41b2572371cc468cb9541c93ce736994",
      "e766728fafdc4156a83a2d0c6136b8c5",
      "b82fca4cf161470297d7bac742f425f0",
      "f7ca42ebc75d463fa23e9dcce6ccb6f2",
      "48b9f91742484fa9b50acb498cb3dfaa",
      "981051cad4014c32a037baac0bcd0779",
      "b42ca4acc98b4d6d8cd87604b6e1abe7",
      "a37b33ecc1c14e61b9a973b2753cb91c",
      "a459d4ba583a4369acec2d2087e20db9",
      "247b0771ba6546569fb87ecba20ee7fb",
      "0fd275a01b604e01b22097ad24e18975"
     ]
    },
    "executionInfo": {
     "elapsed": 1246,
     "status": "ok",
     "timestamp": 1669207510179,
     "user": {
      "displayName": "박성진",
      "userId": "14717233518650621978"
     },
     "user_tz": -540
    },
    "id": "2zxN5atGQDpz",
    "outputId": "a6e02a53-0bff-4c5f-ee1c-a6993ff2f808"
   },
   "outputs": [],
   "source": [
    "def roberta_tokenize(data):\n",
    "    return roberta_tokenizer(\n",
    "        data[\"Utterance\"],\n",
    "        max_length=MAX_LENGTH,\n",
    "        padding=\"max_length\",\n",
    "        truncation=True,\n",
    "    )\n",
    "\n",
    "\n",
    "train_set = Dataset.from_pandas(df_train.reset_index(drop=True))\n",
    "eval_set = Dataset.from_pandas(df_eval.reset_index(drop=True))\n",
    "\n",
    "train_set = train_set.map(roberta_tokenize, batched=True, batch_size=len(train_set))\n",
    "eval_set = eval_set.map(roberta_tokenize, batched=True, batch_size=len(eval_set))\n",
    "\n",
    "train_set.set_format(\"torch\", columns=[\"input_ids\", \"attention_mask\", \"label\"])\n",
    "eval_set.set_format(\"torch\", columns=[\"input_ids\", \"attention_mask\", \"label\"])"
   ]
  },
  {
   "cell_type": "markdown",
   "metadata": {
    "id": "_sHLXyvHysyi"
   },
   "source": [
    "# Model"
   ]
  },
  {
   "cell_type": "code",
   "execution_count": 11,
   "metadata": {
    "executionInfo": {
     "elapsed": 9017,
     "status": "ok",
     "timestamp": 1669207519190,
     "user": {
      "displayName": "박성진",
      "userId": "14717233518650621978"
     },
     "user_tz": -540
    },
    "id": "8uLtQqBDq_Rr"
   },
   "outputs": [],
   "source": [
    "def compute_metrics(pred):\n",
    "    labels = pred.label_ids\n",
    "    preds = pred.predictions.argmax(-1)\n",
    "    f1 = f1_score(labels, preds, average=\"macro\")\n",
    "    acc = accuracy_score(labels, preds)\n",
    "    return {\"f1-macro\": f1, \"accuracy\": acc}\n",
    "\n",
    "\n",
    "torch.cuda.empty_cache()\n",
    "\n",
    "model = RobertaForSequenceClassification.from_pretrained(MODEL, num_labels=label_size)\n",
    "\n",
    "trainer = Trainer(\n",
    "    model=model,\n",
    "    args=TRAIN_ARGS,\n",
    "    compute_metrics=compute_metrics,\n",
    "    train_dataset=train_set,\n",
    "    eval_dataset=eval_set,\n",
    ")"
   ]
  },
  {
   "cell_type": "code",
   "execution_count": null,
   "metadata": {
    "id": "6z0IrePhOh8V"
   },
   "outputs": [],
   "source": [
    "# 모델 학습\n",
    "trainer.train()"
   ]
  },
  {
   "cell_type": "code",
   "execution_count": 13,
   "metadata": {
    "colab": {
     "base_uri": "https://localhost:8080/",
     "height": 161
    },
    "executionInfo": {
     "elapsed": 186079,
     "status": "ok",
     "timestamp": 1669208042906,
     "user": {
      "displayName": "박성진",
      "userId": "14717233518650621978"
     },
     "user_tz": -540
    },
    "id": "JJFKEDKxY8bU",
    "outputId": "975ac200-9dd3-4b9f-d595-2f23bd60079a"
   },
   "outputs": [
    {
     "name": "stderr",
     "output_type": "stream",
     "text": [
      "The following columns in the evaluation set don't have a corresponding argument in `RobertaForSequenceClassification.forward` and have been ignored: Utterance. If Utterance are not expected by `RobertaForSequenceClassification.forward`,  you can safely ignore this message.\n",
      "***** Running Evaluation *****\n",
      "  Num examples = 8741\n",
      "  Batch size = 32\n"
     ]
    },
    {
     "data": {
      "text/html": [
       "\n",
       "    <div>\n",
       "      \n",
       "      <progress value='274' max='274' style='width:300px; height:20px; vertical-align: middle;'></progress>\n",
       "      [274/274 03:05]\n",
       "    </div>\n",
       "    "
      ],
      "text/plain": [
       "<IPython.core.display.HTML object>"
      ]
     },
     "metadata": {},
     "output_type": "display_data"
    },
    {
     "name": "stdout",
     "output_type": "stream",
     "text": [
      "Accuracy: 0.77657\n",
      "F1-macro: 0.65906\n"
     ]
    }
   ],
   "source": [
    "model_eval = trainer.evaluate()\n",
    "print(f\"Accuracy: {model_eval['eval_accuracy']:.5f}\")\n",
    "print(f\"F1-macro: {model_eval['eval_f1-macro']:.5f}\")"
   ]
  },
  {
   "cell_type": "markdown",
   "metadata": {
    "id": "_N0YrTA2fGzo"
   },
   "source": [
    "# Prediction"
   ]
  },
  {
   "cell_type": "code",
   "execution_count": null,
   "metadata": {
    "colab": {
     "base_uri": "https://localhost:8080/",
     "height": 206
    },
    "executionInfo": {
     "elapsed": 830,
     "status": "ok",
     "timestamp": 1669208049040,
     "user": {
      "displayName": "박성진",
      "userId": "14717233518650621978"
     },
     "user_tz": -540
    },
    "id": "cVJXerY-m4rA",
    "outputId": "07f2a50b-5687-40bb-ace6-7562ab43786e"
   },
   "outputs": [],
   "source": [
    "test_csv = pd.read_csv(join_path(\"data\", \"test.csv\"))\n",
    "test_csv[\"Utterance\"] = test_csv[\"Utterance\"].map(twt_tokenize)\n",
    "test_csv.head()"
   ]
  },
  {
   "cell_type": "code",
   "execution_count": null,
   "metadata": {
    "colab": {
     "base_uri": "https://localhost:8080/",
     "height": 49,
     "referenced_widgets": [
      "71142fc394c14d778e021f65c45ae846",
      "2e29f39f7f93464888a194199220b9ae",
      "910c7c6d95ed4537ac56fdc7df24f13a",
      "ce6b7b53116e4fbb92c7a9ea407264e8",
      "0b714b7375c54adba12b23ed1139d8e7",
      "df537d1fa1f7437696d66c2e60127196",
      "b3defebcef84431d8ff9f7ccd828b29a",
      "2e9fde8954104336a44b31da4976e7e2",
      "946f00d255b8451fa8c3affab9942203",
      "c7cb8a959bcb412c8baa278b761da813",
      "58a261ebf57c4c84bd3d2bab495cced0"
     ]
    },
    "executionInfo": {
     "elapsed": 22,
     "status": "ok",
     "timestamp": 1669208049041,
     "user": {
      "displayName": "박성진",
      "userId": "14717233518650621978"
     },
     "user_tz": -540
    },
    "id": "sVIaqC99njF7",
    "outputId": "8dd98089-aabf-4f4d-dcbd-d9c455c34070"
   },
   "outputs": [],
   "source": [
    "def roberta_tokenize(data):\n",
    "    return roberta_tokenizer(\n",
    "        data[\"Utterance\"],\n",
    "        max_length=MAX_LENGTH,\n",
    "        padding=\"max_length\",\n",
    "        truncation=True,\n",
    "        return_tensors=\"pt\",\n",
    "    )\n",
    "\n",
    "\n",
    "df_test = test_csv.loc[:, \"Utterance\"].to_frame()\n",
    "test_set = Dataset.from_pandas(df_test.reset_index(drop=True))\n",
    "test_set = test_set.map(roberta_tokenize, batched=True, batch_size=len(test_set))\n",
    "test_set.set_format(\"torch\", columns=[\"input_ids\", \"attention_mask\"])"
   ]
  },
  {
   "cell_type": "code",
   "execution_count": 17,
   "metadata": {
    "executionInfo": {
     "elapsed": 18,
     "status": "ok",
     "timestamp": 1669208049042,
     "user": {
      "displayName": "박성진",
      "userId": "14717233518650621978"
     },
     "user_tz": -540
    },
    "id": "vzFz1q2DeJP0"
   },
   "outputs": [],
   "source": [
    "def predict(model, test_set):\n",
    "    model.to(DEVICE)\n",
    "    model.eval()\n",
    "\n",
    "    test_predict = []\n",
    "    for data in tqdm(test_set):\n",
    "        input_id = data[\"input_ids\"].unsqueeze(0).to(DEVICE)\n",
    "        mask = data[\"attention_mask\"].unsqueeze(0).to(DEVICE)\n",
    "        output = model(input_id, mask)\n",
    "        y_pred = output.logits\n",
    "        test_predict += y_pred.argmax(1).detach().cpu().numpy().tolist()\n",
    "    return test_predict"
   ]
  },
  {
   "cell_type": "code",
   "execution_count": 18,
   "metadata": {
    "colab": {
     "base_uri": "https://localhost:8080/"
    },
    "executionInfo": {
     "elapsed": 85328,
     "status": "ok",
     "timestamp": 1669208134353,
     "user": {
      "displayName": "박성진",
      "userId": "14717233518650621978"
     },
     "user_tz": -540
    },
    "id": "sqHrQeI8eihJ",
    "outputId": "b7c0db90-bc9f-46b6-aafd-5a255a06b237"
   },
   "outputs": [
    {
     "name": "stderr",
     "output_type": "stream",
     "text": [
      "100%|██████████| 2610/2610 [01:25<00:00, 30.65it/s]\n"
     ]
    }
   ],
   "source": [
    "preds = predict(model, test_set)\n",
    "preds = label_encoder.decode(preds)"
   ]
  },
  {
   "cell_type": "code",
   "execution_count": null,
   "metadata": {
    "colab": {
     "base_uri": "https://localhost:8080/",
     "height": 206
    },
    "executionInfo": {
     "elapsed": 29,
     "status": "ok",
     "timestamp": 1669208134353,
     "user": {
      "displayName": "박성진",
      "userId": "14717233518650621978"
     },
     "user_tz": -540
    },
    "id": "LeuRALPEvepl",
    "outputId": "5be3a585-67df-4d4d-8e08-20249cb89b59"
   },
   "outputs": [],
   "source": [
    "test_csv[\"Target\"] = preds\n",
    "result_csv = test_csv.loc[:, [\"ID\", \"Target\"]]\n",
    "result_csv.head()"
   ]
  }
 ],
 "metadata": {
  "accelerator": "GPU",
  "colab": {
   "machine_shape": "hm",
   "provenance": []
  },
  "gpuClass": "premium",
  "kernelspec": {
   "display_name": "Python 3",
   "name": "python3"
  },
  "language_info": {
   "name": "python"
  },
  "widgets": {
   "application/vnd.jupyter.widget-state+json": {
    "0b714b7375c54adba12b23ed1139d8e7": {
     "model_module": "@jupyter-widgets/base",
     "model_module_version": "1.2.0",
     "model_name": "LayoutModel",
     "state": {
      "_model_module": "@jupyter-widgets/base",
      "_model_module_version": "1.2.0",
      "_model_name": "LayoutModel",
      "_view_count": null,
      "_view_module": "@jupyter-widgets/base",
      "_view_module_version": "1.2.0",
      "_view_name": "LayoutView",
      "align_content": null,
      "align_items": null,
      "align_self": null,
      "border": null,
      "bottom": null,
      "display": null,
      "flex": null,
      "flex_flow": null,
      "grid_area": null,
      "grid_auto_columns": null,
      "grid_auto_flow": null,
      "grid_auto_rows": null,
      "grid_column": null,
      "grid_gap": null,
      "grid_row": null,
      "grid_template_areas": null,
      "grid_template_columns": null,
      "grid_template_rows": null,
      "height": null,
      "justify_content": null,
      "justify_items": null,
      "left": null,
      "margin": null,
      "max_height": null,
      "max_width": null,
      "min_height": null,
      "min_width": null,
      "object_fit": null,
      "object_position": null,
      "order": null,
      "overflow": null,
      "overflow_x": null,
      "overflow_y": null,
      "padding": null,
      "right": null,
      "top": null,
      "visibility": null,
      "width": null
     }
    },
    "0e1da407e1ba4c9abed13b9e9174e372": {
     "model_module": "@jupyter-widgets/controls",
     "model_module_version": "1.5.0",
     "model_name": "FloatProgressModel",
     "state": {
      "_dom_classes": [],
      "_model_module": "@jupyter-widgets/controls",
      "_model_module_version": "1.5.0",
      "_model_name": "FloatProgressModel",
      "_view_count": null,
      "_view_module": "@jupyter-widgets/controls",
      "_view_module_version": "1.5.0",
      "_view_name": "ProgressView",
      "bar_style": "success",
      "description": "",
      "description_tooltip": null,
      "layout": "IPY_MODEL_6c60aab5452945f3861fd3c943c7b884",
      "max": 1,
      "min": 0,
      "orientation": "horizontal",
      "style": "IPY_MODEL_498a47fa43664587a243663d74e082de",
      "value": 1
     }
    },
    "0e8ad107d363452fb955d3864a94c76c": {
     "model_module": "@jupyter-widgets/base",
     "model_module_version": "1.2.0",
     "model_name": "LayoutModel",
     "state": {
      "_model_module": "@jupyter-widgets/base",
      "_model_module_version": "1.2.0",
      "_model_name": "LayoutModel",
      "_view_count": null,
      "_view_module": "@jupyter-widgets/base",
      "_view_module_version": "1.2.0",
      "_view_name": "LayoutView",
      "align_content": null,
      "align_items": null,
      "align_self": null,
      "border": null,
      "bottom": null,
      "display": null,
      "flex": null,
      "flex_flow": null,
      "grid_area": null,
      "grid_auto_columns": null,
      "grid_auto_flow": null,
      "grid_auto_rows": null,
      "grid_column": null,
      "grid_gap": null,
      "grid_row": null,
      "grid_template_areas": null,
      "grid_template_columns": null,
      "grid_template_rows": null,
      "height": null,
      "justify_content": null,
      "justify_items": null,
      "left": null,
      "margin": null,
      "max_height": null,
      "max_width": null,
      "min_height": null,
      "min_width": null,
      "object_fit": null,
      "object_position": null,
      "order": null,
      "overflow": null,
      "overflow_x": null,
      "overflow_y": null,
      "padding": null,
      "right": null,
      "top": null,
      "visibility": null,
      "width": null
     }
    },
    "0fd275a01b604e01b22097ad24e18975": {
     "model_module": "@jupyter-widgets/controls",
     "model_module_version": "1.5.0",
     "model_name": "DescriptionStyleModel",
     "state": {
      "_model_module": "@jupyter-widgets/controls",
      "_model_module_version": "1.5.0",
      "_model_name": "DescriptionStyleModel",
      "_view_count": null,
      "_view_module": "@jupyter-widgets/base",
      "_view_module_version": "1.2.0",
      "_view_name": "StyleView",
      "description_width": ""
     }
    },
    "247b0771ba6546569fb87ecba20ee7fb": {
     "model_module": "@jupyter-widgets/base",
     "model_module_version": "1.2.0",
     "model_name": "LayoutModel",
     "state": {
      "_model_module": "@jupyter-widgets/base",
      "_model_module_version": "1.2.0",
      "_model_name": "LayoutModel",
      "_view_count": null,
      "_view_module": "@jupyter-widgets/base",
      "_view_module_version": "1.2.0",
      "_view_name": "LayoutView",
      "align_content": null,
      "align_items": null,
      "align_self": null,
      "border": null,
      "bottom": null,
      "display": null,
      "flex": null,
      "flex_flow": null,
      "grid_area": null,
      "grid_auto_columns": null,
      "grid_auto_flow": null,
      "grid_auto_rows": null,
      "grid_column": null,
      "grid_gap": null,
      "grid_row": null,
      "grid_template_areas": null,
      "grid_template_columns": null,
      "grid_template_rows": null,
      "height": null,
      "justify_content": null,
      "justify_items": null,
      "left": null,
      "margin": null,
      "max_height": null,
      "max_width": null,
      "min_height": null,
      "min_width": null,
      "object_fit": null,
      "object_position": null,
      "order": null,
      "overflow": null,
      "overflow_x": null,
      "overflow_y": null,
      "padding": null,
      "right": null,
      "top": null,
      "visibility": null,
      "width": null
     }
    },
    "2e29f39f7f93464888a194199220b9ae": {
     "model_module": "@jupyter-widgets/controls",
     "model_module_version": "1.5.0",
     "model_name": "HTMLModel",
     "state": {
      "_dom_classes": [],
      "_model_module": "@jupyter-widgets/controls",
      "_model_module_version": "1.5.0",
      "_model_name": "HTMLModel",
      "_view_count": null,
      "_view_module": "@jupyter-widgets/controls",
      "_view_module_version": "1.5.0",
      "_view_name": "HTMLView",
      "description": "",
      "description_tooltip": null,
      "layout": "IPY_MODEL_df537d1fa1f7437696d66c2e60127196",
      "placeholder": "​",
      "style": "IPY_MODEL_b3defebcef84431d8ff9f7ccd828b29a",
      "value": "100%"
     }
    },
    "2e9fde8954104336a44b31da4976e7e2": {
     "model_module": "@jupyter-widgets/base",
     "model_module_version": "1.2.0",
     "model_name": "LayoutModel",
     "state": {
      "_model_module": "@jupyter-widgets/base",
      "_model_module_version": "1.2.0",
      "_model_name": "LayoutModel",
      "_view_count": null,
      "_view_module": "@jupyter-widgets/base",
      "_view_module_version": "1.2.0",
      "_view_name": "LayoutView",
      "align_content": null,
      "align_items": null,
      "align_self": null,
      "border": null,
      "bottom": null,
      "display": null,
      "flex": null,
      "flex_flow": null,
      "grid_area": null,
      "grid_auto_columns": null,
      "grid_auto_flow": null,
      "grid_auto_rows": null,
      "grid_column": null,
      "grid_gap": null,
      "grid_row": null,
      "grid_template_areas": null,
      "grid_template_columns": null,
      "grid_template_rows": null,
      "height": null,
      "justify_content": null,
      "justify_items": null,
      "left": null,
      "margin": null,
      "max_height": null,
      "max_width": null,
      "min_height": null,
      "min_width": null,
      "object_fit": null,
      "object_position": null,
      "order": null,
      "overflow": null,
      "overflow_x": null,
      "overflow_y": null,
      "padding": null,
      "right": null,
      "top": null,
      "visibility": null,
      "width": null
     }
    },
    "3503e7b0bd284663b92a61a8ccfafe8f": {
     "model_module": "@jupyter-widgets/controls",
     "model_module_version": "1.5.0",
     "model_name": "HBoxModel",
     "state": {
      "_dom_classes": [],
      "_model_module": "@jupyter-widgets/controls",
      "_model_module_version": "1.5.0",
      "_model_name": "HBoxModel",
      "_view_count": null,
      "_view_module": "@jupyter-widgets/controls",
      "_view_module_version": "1.5.0",
      "_view_name": "HBoxView",
      "box_style": "",
      "children": [
       "IPY_MODEL_bbe0905159744dae9aa9925093e324e7",
       "IPY_MODEL_0e1da407e1ba4c9abed13b9e9174e372",
       "IPY_MODEL_cdc3e4fd29b142b8af31d9ad14a2ab94"
      ],
      "layout": "IPY_MODEL_0e8ad107d363452fb955d3864a94c76c"
     }
    },
    "41b2572371cc468cb9541c93ce736994": {
     "model_module": "@jupyter-widgets/controls",
     "model_module_version": "1.5.0",
     "model_name": "HBoxModel",
     "state": {
      "_dom_classes": [],
      "_model_module": "@jupyter-widgets/controls",
      "_model_module_version": "1.5.0",
      "_model_name": "HBoxModel",
      "_view_count": null,
      "_view_module": "@jupyter-widgets/controls",
      "_view_module_version": "1.5.0",
      "_view_name": "HBoxView",
      "box_style": "",
      "children": [
       "IPY_MODEL_e766728fafdc4156a83a2d0c6136b8c5",
       "IPY_MODEL_b82fca4cf161470297d7bac742f425f0",
       "IPY_MODEL_f7ca42ebc75d463fa23e9dcce6ccb6f2"
      ],
      "layout": "IPY_MODEL_48b9f91742484fa9b50acb498cb3dfaa"
     }
    },
    "48b9f91742484fa9b50acb498cb3dfaa": {
     "model_module": "@jupyter-widgets/base",
     "model_module_version": "1.2.0",
     "model_name": "LayoutModel",
     "state": {
      "_model_module": "@jupyter-widgets/base",
      "_model_module_version": "1.2.0",
      "_model_name": "LayoutModel",
      "_view_count": null,
      "_view_module": "@jupyter-widgets/base",
      "_view_module_version": "1.2.0",
      "_view_name": "LayoutView",
      "align_content": null,
      "align_items": null,
      "align_self": null,
      "border": null,
      "bottom": null,
      "display": null,
      "flex": null,
      "flex_flow": null,
      "grid_area": null,
      "grid_auto_columns": null,
      "grid_auto_flow": null,
      "grid_auto_rows": null,
      "grid_column": null,
      "grid_gap": null,
      "grid_row": null,
      "grid_template_areas": null,
      "grid_template_columns": null,
      "grid_template_rows": null,
      "height": null,
      "justify_content": null,
      "justify_items": null,
      "left": null,
      "margin": null,
      "max_height": null,
      "max_width": null,
      "min_height": null,
      "min_width": null,
      "object_fit": null,
      "object_position": null,
      "order": null,
      "overflow": null,
      "overflow_x": null,
      "overflow_y": null,
      "padding": null,
      "right": null,
      "top": null,
      "visibility": null,
      "width": null
     }
    },
    "498a47fa43664587a243663d74e082de": {
     "model_module": "@jupyter-widgets/controls",
     "model_module_version": "1.5.0",
     "model_name": "ProgressStyleModel",
     "state": {
      "_model_module": "@jupyter-widgets/controls",
      "_model_module_version": "1.5.0",
      "_model_name": "ProgressStyleModel",
      "_view_count": null,
      "_view_module": "@jupyter-widgets/base",
      "_view_module_version": "1.2.0",
      "_view_name": "StyleView",
      "bar_color": null,
      "description_width": ""
     }
    },
    "58a261ebf57c4c84bd3d2bab495cced0": {
     "model_module": "@jupyter-widgets/controls",
     "model_module_version": "1.5.0",
     "model_name": "DescriptionStyleModel",
     "state": {
      "_model_module": "@jupyter-widgets/controls",
      "_model_module_version": "1.5.0",
      "_model_name": "DescriptionStyleModel",
      "_view_count": null,
      "_view_module": "@jupyter-widgets/base",
      "_view_module_version": "1.2.0",
      "_view_name": "StyleView",
      "description_width": ""
     }
    },
    "6c018432373549a2a74ae218c2078b55": {
     "model_module": "@jupyter-widgets/base",
     "model_module_version": "1.2.0",
     "model_name": "LayoutModel",
     "state": {
      "_model_module": "@jupyter-widgets/base",
      "_model_module_version": "1.2.0",
      "_model_name": "LayoutModel",
      "_view_count": null,
      "_view_module": "@jupyter-widgets/base",
      "_view_module_version": "1.2.0",
      "_view_name": "LayoutView",
      "align_content": null,
      "align_items": null,
      "align_self": null,
      "border": null,
      "bottom": null,
      "display": null,
      "flex": null,
      "flex_flow": null,
      "grid_area": null,
      "grid_auto_columns": null,
      "grid_auto_flow": null,
      "grid_auto_rows": null,
      "grid_column": null,
      "grid_gap": null,
      "grid_row": null,
      "grid_template_areas": null,
      "grid_template_columns": null,
      "grid_template_rows": null,
      "height": null,
      "justify_content": null,
      "justify_items": null,
      "left": null,
      "margin": null,
      "max_height": null,
      "max_width": null,
      "min_height": null,
      "min_width": null,
      "object_fit": null,
      "object_position": null,
      "order": null,
      "overflow": null,
      "overflow_x": null,
      "overflow_y": null,
      "padding": null,
      "right": null,
      "top": null,
      "visibility": null,
      "width": null
     }
    },
    "6c60aab5452945f3861fd3c943c7b884": {
     "model_module": "@jupyter-widgets/base",
     "model_module_version": "1.2.0",
     "model_name": "LayoutModel",
     "state": {
      "_model_module": "@jupyter-widgets/base",
      "_model_module_version": "1.2.0",
      "_model_name": "LayoutModel",
      "_view_count": null,
      "_view_module": "@jupyter-widgets/base",
      "_view_module_version": "1.2.0",
      "_view_name": "LayoutView",
      "align_content": null,
      "align_items": null,
      "align_self": null,
      "border": null,
      "bottom": null,
      "display": null,
      "flex": null,
      "flex_flow": null,
      "grid_area": null,
      "grid_auto_columns": null,
      "grid_auto_flow": null,
      "grid_auto_rows": null,
      "grid_column": null,
      "grid_gap": null,
      "grid_row": null,
      "grid_template_areas": null,
      "grid_template_columns": null,
      "grid_template_rows": null,
      "height": null,
      "justify_content": null,
      "justify_items": null,
      "left": null,
      "margin": null,
      "max_height": null,
      "max_width": null,
      "min_height": null,
      "min_width": null,
      "object_fit": null,
      "object_position": null,
      "order": null,
      "overflow": null,
      "overflow_x": null,
      "overflow_y": null,
      "padding": null,
      "right": null,
      "top": null,
      "visibility": null,
      "width": null
     }
    },
    "71142fc394c14d778e021f65c45ae846": {
     "model_module": "@jupyter-widgets/controls",
     "model_module_version": "1.5.0",
     "model_name": "HBoxModel",
     "state": {
      "_dom_classes": [],
      "_model_module": "@jupyter-widgets/controls",
      "_model_module_version": "1.5.0",
      "_model_name": "HBoxModel",
      "_view_count": null,
      "_view_module": "@jupyter-widgets/controls",
      "_view_module_version": "1.5.0",
      "_view_name": "HBoxView",
      "box_style": "",
      "children": [
       "IPY_MODEL_2e29f39f7f93464888a194199220b9ae",
       "IPY_MODEL_910c7c6d95ed4537ac56fdc7df24f13a",
       "IPY_MODEL_ce6b7b53116e4fbb92c7a9ea407264e8"
      ],
      "layout": "IPY_MODEL_0b714b7375c54adba12b23ed1139d8e7"
     }
    },
    "74f5860c1157473d8bab96a5862e15dd": {
     "model_module": "@jupyter-widgets/controls",
     "model_module_version": "1.5.0",
     "model_name": "DescriptionStyleModel",
     "state": {
      "_model_module": "@jupyter-widgets/controls",
      "_model_module_version": "1.5.0",
      "_model_name": "DescriptionStyleModel",
      "_view_count": null,
      "_view_module": "@jupyter-widgets/base",
      "_view_module_version": "1.2.0",
      "_view_name": "StyleView",
      "description_width": ""
     }
    },
    "910c7c6d95ed4537ac56fdc7df24f13a": {
     "model_module": "@jupyter-widgets/controls",
     "model_module_version": "1.5.0",
     "model_name": "FloatProgressModel",
     "state": {
      "_dom_classes": [],
      "_model_module": "@jupyter-widgets/controls",
      "_model_module_version": "1.5.0",
      "_model_name": "FloatProgressModel",
      "_view_count": null,
      "_view_module": "@jupyter-widgets/controls",
      "_view_module_version": "1.5.0",
      "_view_name": "ProgressView",
      "bar_style": "success",
      "description": "",
      "description_tooltip": null,
      "layout": "IPY_MODEL_2e9fde8954104336a44b31da4976e7e2",
      "max": 1,
      "min": 0,
      "orientation": "horizontal",
      "style": "IPY_MODEL_946f00d255b8451fa8c3affab9942203",
      "value": 1
     }
    },
    "946f00d255b8451fa8c3affab9942203": {
     "model_module": "@jupyter-widgets/controls",
     "model_module_version": "1.5.0",
     "model_name": "ProgressStyleModel",
     "state": {
      "_model_module": "@jupyter-widgets/controls",
      "_model_module_version": "1.5.0",
      "_model_name": "ProgressStyleModel",
      "_view_count": null,
      "_view_module": "@jupyter-widgets/base",
      "_view_module_version": "1.2.0",
      "_view_name": "StyleView",
      "bar_color": null,
      "description_width": ""
     }
    },
    "981051cad4014c32a037baac0bcd0779": {
     "model_module": "@jupyter-widgets/base",
     "model_module_version": "1.2.0",
     "model_name": "LayoutModel",
     "state": {
      "_model_module": "@jupyter-widgets/base",
      "_model_module_version": "1.2.0",
      "_model_name": "LayoutModel",
      "_view_count": null,
      "_view_module": "@jupyter-widgets/base",
      "_view_module_version": "1.2.0",
      "_view_name": "LayoutView",
      "align_content": null,
      "align_items": null,
      "align_self": null,
      "border": null,
      "bottom": null,
      "display": null,
      "flex": null,
      "flex_flow": null,
      "grid_area": null,
      "grid_auto_columns": null,
      "grid_auto_flow": null,
      "grid_auto_rows": null,
      "grid_column": null,
      "grid_gap": null,
      "grid_row": null,
      "grid_template_areas": null,
      "grid_template_columns": null,
      "grid_template_rows": null,
      "height": null,
      "justify_content": null,
      "justify_items": null,
      "left": null,
      "margin": null,
      "max_height": null,
      "max_width": null,
      "min_height": null,
      "min_width": null,
      "object_fit": null,
      "object_position": null,
      "order": null,
      "overflow": null,
      "overflow_x": null,
      "overflow_y": null,
      "padding": null,
      "right": null,
      "top": null,
      "visibility": null,
      "width": null
     }
    },
    "a37b33ecc1c14e61b9a973b2753cb91c": {
     "model_module": "@jupyter-widgets/base",
     "model_module_version": "1.2.0",
     "model_name": "LayoutModel",
     "state": {
      "_model_module": "@jupyter-widgets/base",
      "_model_module_version": "1.2.0",
      "_model_name": "LayoutModel",
      "_view_count": null,
      "_view_module": "@jupyter-widgets/base",
      "_view_module_version": "1.2.0",
      "_view_name": "LayoutView",
      "align_content": null,
      "align_items": null,
      "align_self": null,
      "border": null,
      "bottom": null,
      "display": null,
      "flex": null,
      "flex_flow": null,
      "grid_area": null,
      "grid_auto_columns": null,
      "grid_auto_flow": null,
      "grid_auto_rows": null,
      "grid_column": null,
      "grid_gap": null,
      "grid_row": null,
      "grid_template_areas": null,
      "grid_template_columns": null,
      "grid_template_rows": null,
      "height": null,
      "justify_content": null,
      "justify_items": null,
      "left": null,
      "margin": null,
      "max_height": null,
      "max_width": null,
      "min_height": null,
      "min_width": null,
      "object_fit": null,
      "object_position": null,
      "order": null,
      "overflow": null,
      "overflow_x": null,
      "overflow_y": null,
      "padding": null,
      "right": null,
      "top": null,
      "visibility": null,
      "width": null
     }
    },
    "a459d4ba583a4369acec2d2087e20db9": {
     "model_module": "@jupyter-widgets/controls",
     "model_module_version": "1.5.0",
     "model_name": "ProgressStyleModel",
     "state": {
      "_model_module": "@jupyter-widgets/controls",
      "_model_module_version": "1.5.0",
      "_model_name": "ProgressStyleModel",
      "_view_count": null,
      "_view_module": "@jupyter-widgets/base",
      "_view_module_version": "1.2.0",
      "_view_name": "StyleView",
      "bar_color": null,
      "description_width": ""
     }
    },
    "b3defebcef84431d8ff9f7ccd828b29a": {
     "model_module": "@jupyter-widgets/controls",
     "model_module_version": "1.5.0",
     "model_name": "DescriptionStyleModel",
     "state": {
      "_model_module": "@jupyter-widgets/controls",
      "_model_module_version": "1.5.0",
      "_model_name": "DescriptionStyleModel",
      "_view_count": null,
      "_view_module": "@jupyter-widgets/base",
      "_view_module_version": "1.2.0",
      "_view_name": "StyleView",
      "description_width": ""
     }
    },
    "b42ca4acc98b4d6d8cd87604b6e1abe7": {
     "model_module": "@jupyter-widgets/controls",
     "model_module_version": "1.5.0",
     "model_name": "DescriptionStyleModel",
     "state": {
      "_model_module": "@jupyter-widgets/controls",
      "_model_module_version": "1.5.0",
      "_model_name": "DescriptionStyleModel",
      "_view_count": null,
      "_view_module": "@jupyter-widgets/base",
      "_view_module_version": "1.2.0",
      "_view_name": "StyleView",
      "description_width": ""
     }
    },
    "b82fca4cf161470297d7bac742f425f0": {
     "model_module": "@jupyter-widgets/controls",
     "model_module_version": "1.5.0",
     "model_name": "FloatProgressModel",
     "state": {
      "_dom_classes": [],
      "_model_module": "@jupyter-widgets/controls",
      "_model_module_version": "1.5.0",
      "_model_name": "FloatProgressModel",
      "_view_count": null,
      "_view_module": "@jupyter-widgets/controls",
      "_view_module_version": "1.5.0",
      "_view_name": "ProgressView",
      "bar_style": "success",
      "description": "",
      "description_tooltip": null,
      "layout": "IPY_MODEL_a37b33ecc1c14e61b9a973b2753cb91c",
      "max": 1,
      "min": 0,
      "orientation": "horizontal",
      "style": "IPY_MODEL_a459d4ba583a4369acec2d2087e20db9",
      "value": 1
     }
    },
    "bbe0905159744dae9aa9925093e324e7": {
     "model_module": "@jupyter-widgets/controls",
     "model_module_version": "1.5.0",
     "model_name": "HTMLModel",
     "state": {
      "_dom_classes": [],
      "_model_module": "@jupyter-widgets/controls",
      "_model_module_version": "1.5.0",
      "_model_name": "HTMLModel",
      "_view_count": null,
      "_view_module": "@jupyter-widgets/controls",
      "_view_module_version": "1.5.0",
      "_view_name": "HTMLView",
      "description": "",
      "description_tooltip": null,
      "layout": "IPY_MODEL_e40acbc9ae6f4a7b95ae94f0354b6bf0",
      "placeholder": "​",
      "style": "IPY_MODEL_74f5860c1157473d8bab96a5862e15dd",
      "value": "100%"
     }
    },
    "c78da2dadb664d72994dd40b73030b5d": {
     "model_module": "@jupyter-widgets/controls",
     "model_module_version": "1.5.0",
     "model_name": "DescriptionStyleModel",
     "state": {
      "_model_module": "@jupyter-widgets/controls",
      "_model_module_version": "1.5.0",
      "_model_name": "DescriptionStyleModel",
      "_view_count": null,
      "_view_module": "@jupyter-widgets/base",
      "_view_module_version": "1.2.0",
      "_view_name": "StyleView",
      "description_width": ""
     }
    },
    "c7cb8a959bcb412c8baa278b761da813": {
     "model_module": "@jupyter-widgets/base",
     "model_module_version": "1.2.0",
     "model_name": "LayoutModel",
     "state": {
      "_model_module": "@jupyter-widgets/base",
      "_model_module_version": "1.2.0",
      "_model_name": "LayoutModel",
      "_view_count": null,
      "_view_module": "@jupyter-widgets/base",
      "_view_module_version": "1.2.0",
      "_view_name": "LayoutView",
      "align_content": null,
      "align_items": null,
      "align_self": null,
      "border": null,
      "bottom": null,
      "display": null,
      "flex": null,
      "flex_flow": null,
      "grid_area": null,
      "grid_auto_columns": null,
      "grid_auto_flow": null,
      "grid_auto_rows": null,
      "grid_column": null,
      "grid_gap": null,
      "grid_row": null,
      "grid_template_areas": null,
      "grid_template_columns": null,
      "grid_template_rows": null,
      "height": null,
      "justify_content": null,
      "justify_items": null,
      "left": null,
      "margin": null,
      "max_height": null,
      "max_width": null,
      "min_height": null,
      "min_width": null,
      "object_fit": null,
      "object_position": null,
      "order": null,
      "overflow": null,
      "overflow_x": null,
      "overflow_y": null,
      "padding": null,
      "right": null,
      "top": null,
      "visibility": null,
      "width": null
     }
    },
    "cdc3e4fd29b142b8af31d9ad14a2ab94": {
     "model_module": "@jupyter-widgets/controls",
     "model_module_version": "1.5.0",
     "model_name": "HTMLModel",
     "state": {
      "_dom_classes": [],
      "_model_module": "@jupyter-widgets/controls",
      "_model_module_version": "1.5.0",
      "_model_name": "HTMLModel",
      "_view_count": null,
      "_view_module": "@jupyter-widgets/controls",
      "_view_module_version": "1.5.0",
      "_view_name": "HTMLView",
      "description": "",
      "description_tooltip": null,
      "layout": "IPY_MODEL_6c018432373549a2a74ae218c2078b55",
      "placeholder": "​",
      "style": "IPY_MODEL_c78da2dadb664d72994dd40b73030b5d",
      "value": " 1/1 [00:00&lt;00:00,  9.28ba/s]"
     }
    },
    "ce6b7b53116e4fbb92c7a9ea407264e8": {
     "model_module": "@jupyter-widgets/controls",
     "model_module_version": "1.5.0",
     "model_name": "HTMLModel",
     "state": {
      "_dom_classes": [],
      "_model_module": "@jupyter-widgets/controls",
      "_model_module_version": "1.5.0",
      "_model_name": "HTMLModel",
      "_view_count": null,
      "_view_module": "@jupyter-widgets/controls",
      "_view_module_version": "1.5.0",
      "_view_name": "HTMLView",
      "description": "",
      "description_tooltip": null,
      "layout": "IPY_MODEL_c7cb8a959bcb412c8baa278b761da813",
      "placeholder": "​",
      "style": "IPY_MODEL_58a261ebf57c4c84bd3d2bab495cced0",
      "value": " 1/1 [00:00&lt;00:00,  5.06ba/s]"
     }
    },
    "df537d1fa1f7437696d66c2e60127196": {
     "model_module": "@jupyter-widgets/base",
     "model_module_version": "1.2.0",
     "model_name": "LayoutModel",
     "state": {
      "_model_module": "@jupyter-widgets/base",
      "_model_module_version": "1.2.0",
      "_model_name": "LayoutModel",
      "_view_count": null,
      "_view_module": "@jupyter-widgets/base",
      "_view_module_version": "1.2.0",
      "_view_name": "LayoutView",
      "align_content": null,
      "align_items": null,
      "align_self": null,
      "border": null,
      "bottom": null,
      "display": null,
      "flex": null,
      "flex_flow": null,
      "grid_area": null,
      "grid_auto_columns": null,
      "grid_auto_flow": null,
      "grid_auto_rows": null,
      "grid_column": null,
      "grid_gap": null,
      "grid_row": null,
      "grid_template_areas": null,
      "grid_template_columns": null,
      "grid_template_rows": null,
      "height": null,
      "justify_content": null,
      "justify_items": null,
      "left": null,
      "margin": null,
      "max_height": null,
      "max_width": null,
      "min_height": null,
      "min_width": null,
      "object_fit": null,
      "object_position": null,
      "order": null,
      "overflow": null,
      "overflow_x": null,
      "overflow_y": null,
      "padding": null,
      "right": null,
      "top": null,
      "visibility": null,
      "width": null
     }
    },
    "e40acbc9ae6f4a7b95ae94f0354b6bf0": {
     "model_module": "@jupyter-widgets/base",
     "model_module_version": "1.2.0",
     "model_name": "LayoutModel",
     "state": {
      "_model_module": "@jupyter-widgets/base",
      "_model_module_version": "1.2.0",
      "_model_name": "LayoutModel",
      "_view_count": null,
      "_view_module": "@jupyter-widgets/base",
      "_view_module_version": "1.2.0",
      "_view_name": "LayoutView",
      "align_content": null,
      "align_items": null,
      "align_self": null,
      "border": null,
      "bottom": null,
      "display": null,
      "flex": null,
      "flex_flow": null,
      "grid_area": null,
      "grid_auto_columns": null,
      "grid_auto_flow": null,
      "grid_auto_rows": null,
      "grid_column": null,
      "grid_gap": null,
      "grid_row": null,
      "grid_template_areas": null,
      "grid_template_columns": null,
      "grid_template_rows": null,
      "height": null,
      "justify_content": null,
      "justify_items": null,
      "left": null,
      "margin": null,
      "max_height": null,
      "max_width": null,
      "min_height": null,
      "min_width": null,
      "object_fit": null,
      "object_position": null,
      "order": null,
      "overflow": null,
      "overflow_x": null,
      "overflow_y": null,
      "padding": null,
      "right": null,
      "top": null,
      "visibility": null,
      "width": null
     }
    },
    "e766728fafdc4156a83a2d0c6136b8c5": {
     "model_module": "@jupyter-widgets/controls",
     "model_module_version": "1.5.0",
     "model_name": "HTMLModel",
     "state": {
      "_dom_classes": [],
      "_model_module": "@jupyter-widgets/controls",
      "_model_module_version": "1.5.0",
      "_model_name": "HTMLModel",
      "_view_count": null,
      "_view_module": "@jupyter-widgets/controls",
      "_view_module_version": "1.5.0",
      "_view_name": "HTMLView",
      "description": "",
      "description_tooltip": null,
      "layout": "IPY_MODEL_981051cad4014c32a037baac0bcd0779",
      "placeholder": "​",
      "style": "IPY_MODEL_b42ca4acc98b4d6d8cd87604b6e1abe7",
      "value": "100%"
     }
    },
    "f7ca42ebc75d463fa23e9dcce6ccb6f2": {
     "model_module": "@jupyter-widgets/controls",
     "model_module_version": "1.5.0",
     "model_name": "HTMLModel",
     "state": {
      "_dom_classes": [],
      "_model_module": "@jupyter-widgets/controls",
      "_model_module_version": "1.5.0",
      "_model_name": "HTMLModel",
      "_view_count": null,
      "_view_module": "@jupyter-widgets/controls",
      "_view_module_version": "1.5.0",
      "_view_name": "HTMLView",
      "description": "",
      "description_tooltip": null,
      "layout": "IPY_MODEL_247b0771ba6546569fb87ecba20ee7fb",
      "placeholder": "​",
      "style": "IPY_MODEL_0fd275a01b604e01b22097ad24e18975",
      "value": " 1/1 [00:00&lt;00:00,  1.42ba/s]"
     }
    }
   }
  }
 },
 "nbformat": 4,
 "nbformat_minor": 0
}
