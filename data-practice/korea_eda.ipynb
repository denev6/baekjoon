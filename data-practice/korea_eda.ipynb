{
 "cells": [
  {
   "cell_type": "markdown",
   "metadata": {},
   "source": [
    "대한민국 (South Korea) 관련 데이터 확인"
   ]
  },
  {
   "cell_type": "code",
   "execution_count": 1,
   "metadata": {},
   "outputs": [
    {
     "name": "stdout",
     "output_type": "stream",
     "text": [
      "2022: ['rank', 'country', 'happiness score', 'whisker-high', 'whisker-low', 'dystopia (1.83) + residual', 'explained by: gdp per capita', 'explained by: social support', 'explained by: healthy life expectancy', 'explained by: freedom to make life choices', 'explained by: generosity', 'explained by: perceptions of corruption']\n",
      "\n",
      "2021: ['country name', 'regional indicator', 'ladder score', 'standard error of ladder score', 'upperwhisker', 'lowerwhisker', 'logged gdp per capita', 'social support', 'healthy life expectancy', 'freedom to make life choices', 'generosity', 'perceptions of corruption', 'ladder score in dystopia', 'explained by: log gdp per capita', 'explained by: social support', 'explained by: healthy life expectancy', 'explained by: freedom to make life choices', 'explained by: generosity', 'explained by: perceptions of corruption', 'dystopia + residual']\n",
      "\n",
      "2020: ['country name', 'regional indicator', 'ladder score', 'standard error of ladder score', 'upperwhisker', 'lowerwhisker', 'logged gdp per capita', 'social support', 'healthy life expectancy', 'freedom to make life choices', 'generosity', 'perceptions of corruption', 'ladder score in dystopia', 'explained by: log gdp per capita', 'explained by: social support', 'explained by: healthy life expectancy', 'explained by: freedom to make life choices', 'explained by: generosity', 'explained by: perceptions of corruption', 'dystopia + residual']\n",
      "\n",
      "2019: ['overall rank', 'country or region', 'score', 'gdp per capita', 'social support', 'healthy life expectancy', 'freedom to make life choices', 'generosity', 'perceptions of corruption']\n",
      "\n",
      "2018: ['overall rank', 'country or region', 'score', 'gdp per capita', 'social support', 'healthy life expectancy', 'freedom to make life choices', 'generosity', 'perceptions of corruption']\n",
      "\n",
      "2017: ['country', 'happiness.rank', 'happiness.score', 'whisker.high', 'whisker.low', 'economy..gdp.per.capita.', 'family', 'health..life.expectancy.', 'freedom', 'generosity', 'trust..government.corruption.', 'dystopia.residual']\n",
      "\n",
      "2016: ['country', 'region', 'happiness rank', 'happiness score', 'lower confidence interval', 'upper confidence interval', 'economy (gdp per capita)', 'family', 'health (life expectancy)', 'freedom', 'trust (government corruption)', 'generosity', 'dystopia residual']\n",
      "\n",
      "2015: ['country', 'region', 'happiness rank', 'happiness score', 'standard error', 'economy (gdp per capita)', 'family', 'health (life expectancy)', 'freedom', 'trust (government corruption)', 'generosity', 'dystopia residual']\n"
     ]
    }
   ],
   "source": [
    "import pandas as pd\n",
    "\n",
    "df_2022 = pd.read_csv(\"datasets/2022.csv\", sep=\",\")\n",
    "df_2022.columns = df_2022.columns.str.lower()\n",
    "print(f\"2022: {df_2022.columns.tolist()}\\n\")\n",
    "\n",
    "df_2021 = pd.read_csv(\"datasets/2021.csv\", sep=\",\")\n",
    "df_2021.columns = df_2021.columns.str.lower()\n",
    "print(f\"2021: {df_2021.columns.tolist()}\\n\")\n",
    "\n",
    "df_2020 = pd.read_csv(\"datasets/2020.csv\", sep=\",\")\n",
    "df_2020.columns = df_2020.columns.str.lower()\n",
    "print(f\"2020: {df_2020.columns.tolist()}\\n\")\n",
    "\n",
    "df_2019 = pd.read_csv(\"datasets/2019.csv\", sep=\",\")\n",
    "df_2019.columns = df_2019.columns.str.lower()\n",
    "print(f\"2019: {df_2019.columns.tolist()}\\n\")\n",
    "\n",
    "df_2018 = pd.read_csv(\"datasets/2018.csv\", sep=\",\")\n",
    "df_2018.columns = df_2018.columns.str.lower()\n",
    "print(f\"2018: {df_2018.columns.tolist()}\\n\")\n",
    "\n",
    "df_2017 = pd.read_csv(\"datasets/2017.csv\", sep=\",\")\n",
    "df_2017.columns = df_2017.columns.str.lower()\n",
    "print(f\"2017: {df_2017.columns.tolist()}\\n\")\n",
    "\n",
    "df_2016 = pd.read_csv(\"datasets/2016.csv\", sep=\",\")\n",
    "df_2016.columns = df_2016.columns.str.lower()\n",
    "print(f\"2016: {df_2016.columns.tolist()}\\n\")\n",
    "\n",
    "df_2015 = pd.read_csv(\"datasets/2015.csv\", sep=\",\")\n",
    "df_2015.columns = df_2015.columns.str.lower()\n",
    "print(f\"2015: {df_2015.columns.tolist()}\")"
   ]
  },
  {
   "cell_type": "markdown",
   "metadata": {},
   "source": [
    "---"
   ]
  },
  {
   "cell_type": "markdown",
   "metadata": {},
   "source": [
    "특정 국가의 특정 항목들만 불러오기  \n",
    "\n",
    "- Country: South Korea  \n",
    "- Features: Score, Economy, Health, Freedom"
   ]
  },
  {
   "cell_type": "code",
   "execution_count": 2,
   "metadata": {},
   "outputs": [],
   "source": [
    "def find_column(df, to_contain):\n",
    "    mask = df.columns.str.contains(to_contain)\n",
    "    col_name = df.columns[mask].values[0]\n",
    "    return col_name\n",
    "\n",
    "def get_kor_values(df):\n",
    "    country = find_column(df, \"country\")\n",
    "    score = find_column(df, \"score\")\n",
    "    gdp = find_column(df, \"gdp\")\n",
    "    health = find_column(df, \"health\")\n",
    "    freedom = find_column(df, \"freedom\")\n",
    "    df_kor = df.loc[df[country] == \"South Korea\", [score, gdp, health, freedom]]\n",
    "    values = df_kor.values.flatten().tolist()\n",
    "    return values"
   ]
  },
  {
   "cell_type": "code",
   "execution_count": 3,
   "metadata": {},
   "outputs": [],
   "source": [
    "kor_2022 = get_kor_values(df_2022)\n",
    "kor_2021 = get_kor_values(df_2021)\n",
    "kor_2020 = get_kor_values(df_2020)\n",
    "kor_2019 = get_kor_values(df_2019)\n",
    "kor_2018 = get_kor_values(df_2018)\n",
    "kor_2017 = get_kor_values(df_2017)\n",
    "kor_2016 = get_kor_values(df_2016)\n",
    "kor_2015 = get_kor_values(df_2015)"
   ]
  },
  {
   "cell_type": "code",
   "execution_count": 4,
   "metadata": {},
   "outputs": [
    {
     "data": {
      "text/html": [
       "<div>\n",
       "<style scoped>\n",
       "    .dataframe tbody tr th:only-of-type {\n",
       "        vertical-align: middle;\n",
       "    }\n",
       "\n",
       "    .dataframe tbody tr th {\n",
       "        vertical-align: top;\n",
       "    }\n",
       "\n",
       "    .dataframe thead th {\n",
       "        text-align: right;\n",
       "    }\n",
       "</style>\n",
       "<table border=\"1\" class=\"dataframe\">\n",
       "  <thead>\n",
       "    <tr style=\"text-align: right;\">\n",
       "      <th></th>\n",
       "      <th>Score</th>\n",
       "      <th>Economy</th>\n",
       "      <th>Health</th>\n",
       "      <th>Freedom</th>\n",
       "    </tr>\n",
       "  </thead>\n",
       "  <tbody>\n",
       "    <tr>\n",
       "      <th>2015</th>\n",
       "      <td>5.984</td>\n",
       "      <td>1.24461</td>\n",
       "      <td>0.96538</td>\n",
       "      <td>0.33208</td>\n",
       "    </tr>\n",
       "    <tr>\n",
       "      <th>2016</th>\n",
       "      <td>5.835</td>\n",
       "      <td>1.35948</td>\n",
       "      <td>0.88645</td>\n",
       "      <td>0.25168</td>\n",
       "    </tr>\n",
       "    <tr>\n",
       "      <th>2017</th>\n",
       "      <td>5.838</td>\n",
       "      <td>1.401678</td>\n",
       "      <td>0.900214</td>\n",
       "      <td>0.257922</td>\n",
       "    </tr>\n",
       "    <tr>\n",
       "      <th>2018</th>\n",
       "      <td>5.875</td>\n",
       "      <td>1.266</td>\n",
       "      <td>0.955</td>\n",
       "      <td>0.244</td>\n",
       "    </tr>\n",
       "    <tr>\n",
       "      <th>2019</th>\n",
       "      <td>5.895</td>\n",
       "      <td>1.301</td>\n",
       "      <td>1.036</td>\n",
       "      <td>0.159</td>\n",
       "    </tr>\n",
       "    <tr>\n",
       "      <th>2020</th>\n",
       "      <td>5.8724</td>\n",
       "      <td>10.510567</td>\n",
       "      <td>73.60273</td>\n",
       "      <td>0.612965</td>\n",
       "    </tr>\n",
       "    <tr>\n",
       "      <th>2021</th>\n",
       "      <td>5.845</td>\n",
       "      <td>10.651</td>\n",
       "      <td>73.9</td>\n",
       "      <td>0.672</td>\n",
       "    </tr>\n",
       "    <tr>\n",
       "      <th>2022</th>\n",
       "      <td>5,935</td>\n",
       "      <td>1,851</td>\n",
       "      <td>0,841</td>\n",
       "      <td>0,414</td>\n",
       "    </tr>\n",
       "  </tbody>\n",
       "</table>\n",
       "</div>"
      ],
      "text/plain": [
       "       Score    Economy    Health   Freedom\n",
       "2015   5.984    1.24461   0.96538   0.33208\n",
       "2016   5.835    1.35948   0.88645   0.25168\n",
       "2017   5.838   1.401678  0.900214  0.257922\n",
       "2018   5.875      1.266     0.955     0.244\n",
       "2019   5.895      1.301     1.036     0.159\n",
       "2020  5.8724  10.510567  73.60273  0.612965\n",
       "2021   5.845     10.651      73.9     0.672\n",
       "2022   5,935      1,851     0,841     0,414"
      ]
     },
     "execution_count": 4,
     "metadata": {},
     "output_type": "execute_result"
    }
   ],
   "source": [
    "import numpy as np\n",
    "\n",
    "values = [kor_2015, kor_2016, kor_2017, kor_2018, kor_2019, kor_2020, kor_2021, kor_2022]\n",
    "index_names = np.arange(2015, 2023).astype(np.str_)\n",
    "\n",
    "df_kor = pd.DataFrame(values, index=index_names)\n",
    "df_kor.columns = [\"Score\", \"Economy\", \"Health\", \"Freedom\"]\n",
    "df_kor"
   ]
  },
  {
   "cell_type": "markdown",
   "metadata": {},
   "source": [
    "2022년 데이터의 소수점을 ,(쉼표)에서 .(마침표)로 변경"
   ]
  },
  {
   "cell_type": "code",
   "execution_count": 5,
   "metadata": {},
   "outputs": [],
   "source": [
    "def format_float(values):\n",
    "    try:\n",
    "        values = np.array(values).astype(np.float_)\n",
    "    except ValueError:\n",
    "        for i, elem in enumerate(values):\n",
    "            values[i] = str(elem).replace(\",\", \".\")\n",
    "        values = np.array(values).astype(np.float_)\n",
    "    return values\n",
    "\n",
    "values = df_kor.iloc[-1, :].tolist()\n",
    "df_kor.iloc[-1, :] = format_float(values)"
   ]
  },
  {
   "cell_type": "code",
   "execution_count": 6,
   "metadata": {},
   "outputs": [
    {
     "name": "stdout",
     "output_type": "stream",
     "text": [
      "GDP:\n",
      "0nan, 0nan\n",
      "6.63, 11.65\n",
      "6.49, 11.45\n",
      "0.00, 1.68\n",
      "0.00, 2.10\n",
      "0.00, 1.87\n",
      "0.00, 1.82\n",
      "0.00, 1.69\n",
      "\n",
      "Health:\n",
      "0nan, 0nan\n",
      "48.48, 76.95\n",
      "45.20, 76.80\n",
      "0.00, 1.14\n",
      "0.00, 1.03\n",
      "0.00, 0.95\n",
      "0.00, 0.95\n",
      "0.00, 1.03\n"
     ]
    }
   ],
   "source": [
    "def find_min_max(df, col):\n",
    "    try:\n",
    "        min = df[col].astype(np.float_).min()\n",
    "        max = df[col].astype(np.float_).max()\n",
    "    except ValueError:\n",
    "        values = format_float(df[col].values)\n",
    "        min = values.astype(np.float_).min()\n",
    "        max = values.astype(np.float_).max()\n",
    "    return min, max\n",
    "\n",
    "minmax_gdp = list()\n",
    "minmax_health = list()\n",
    "for df in [df_2022, df_2021, df_2020, df_2019, df_2018, df_2017, df_2016, df_2015]:\n",
    "    col_gdp = find_column(df, \"gdp\")\n",
    "    col_health = find_column(df, \"health\")\n",
    "    minmax_gdp.append(find_min_max(df, col_gdp))\n",
    "    minmax_health.append(find_min_max(df, col_health))\n",
    "\n",
    "print(\"GDP:\")\n",
    "for mm in minmax_gdp:\n",
    "    print(f\"{mm[0]:04.2f}, {mm[1]:04.2f}\")\n",
    "print(\"\\nHealth:\")\n",
    "for mm in minmax_health:\n",
    "    print(f\"{mm[0]:04.2f}, {mm[1]:04.2f}\")"
   ]
  },
  {
   "cell_type": "markdown",
   "metadata": {},
   "source": [
    "데이터 시각화"
   ]
  },
  {
   "cell_type": "code",
   "execution_count": 7,
   "metadata": {},
   "outputs": [
    {
     "data": {
      "image/png": "[encoded data removed]",
      "text/plain": [
       "<Figure size 1008x432 with 2 Axes>"
      ]
     },
     "metadata": {
      "needs_background": "light"
     },
     "output_type": "display_data"
    }
   ],
   "source": [
    "import matplotlib.pyplot as plt\n",
    "\n",
    "years = df_kor.index\n",
    "cols = df_kor.columns\n",
    "\n",
    "plt.figure(figsize=(14, 6))\n",
    "plt.subplots_adjust(wspace=0.2)\n",
    "ax1 = plt.subplot(1, 2, 1)\n",
    "ax2 = plt.subplot(1, 2, 2)\n",
    "\n",
    "for col in cols[1:]:\n",
    "    value = df_kor[col].values.flatten().tolist()\n",
    "    ax1.scatter(years, value)\n",
    "    ax1.plot(years, value, label=col)\n",
    "ax1.set_xlabel(\"Year\")\n",
    "ax1.legend()\n",
    "\n",
    "scores = df_kor[\"Score\"].values.flatten().tolist()\n",
    "ax2.scatter(years, scores, color=\"r\")\n",
    "ax2.plot(years, scores, label=\"Happiness Score\", color=\"r\")\n",
    "ax2.set_ylim([0, 10])\n",
    "ax2.set_xlabel(\"Year\")\n",
    "ax2.legend()\n",
    "\n",
    "plt.show()"
   ]
  },
  {
   "cell_type": "markdown",
   "metadata": {},
   "source": [
    "2020과 2021의 일부 값이 비정상적으로 큼  \n",
    "--> 평가 척도가 다른 연도와 다를 수 있음\n",
    "\n",
    "**korea.ipynb에서 분석 진행**"
   ]
  }
 ],
 "metadata": {
  "interpreter": {
   "hash": "3d80a760c30ad4c8b22a1b4354e7ee5e36f5ba59b8ddf7d012248d293ade03a7"
  },
  "kernelspec": {
   "display_name": "Python 3.8.11 ('dataenv')",
   "language": "python",
   "name": "python3"
  },
  "language_info": {
   "codemirror_mode": {
    "name": "ipython",
    "version": 3
   },
   "file_extension": ".py",
   "mimetype": "text/x-python",
   "name": "python",
   "nbconvert_exporter": "python",
   "pygments_lexer": "ipython3",
   "version": "3.8.11"
  }
 },
 "nbformat": 4,
 "nbformat_minor": 2
}
