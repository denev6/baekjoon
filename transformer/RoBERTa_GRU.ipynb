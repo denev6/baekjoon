{
  "cells": [
    {
      "cell_type": "markdown",
      "metadata": {
        "id": "view-in-github",
        "colab_type": "text"
      },
      "source": [
        "<a href=\"https://colab.research.google.com/github/Denev6/practice/blob/main/transformer/RoBERTa_GRU.ipynb\" target=\"_parent\"><img src=\"https://colab.research.google.com/assets/colab-badge.svg\" alt=\"Open In Colab\"/></a>"
      ]
    },
    {
      "cell_type": "code",
      "execution_count": null,
      "metadata": {
        "id": "_qXlXpiWjwG8"
      },
      "outputs": [],
      "source": [
        "!pip install transformers\n",
        "\n",
        "import nltk\n",
        "\n",
        "nltk.download(\"punkt\")"
      ]
    },
    {
      "cell_type": "code",
      "execution_count": null,
      "metadata": {
        "id": "SskIfXoWvyS_"
      },
      "outputs": [],
      "source": [
        "import os\n",
        "import re\n",
        "import gc\n",
        "import warnings\n",
        "\n",
        "import numpy as np\n",
        "import pandas as pd\n",
        "from tqdm.auto import tqdm, trange\n",
        "import torch\n",
        "import torch.nn as nn\n",
        "import torch.optim as optim\n",
        "from torch.utils.data import DataLoader, Dataset\n",
        "from transformers import RobertaTokenizerFast, RobertaModel\n",
        "from nltk.tokenize import TweetTokenizer\n",
        "from sklearn.metrics import accuracy_score, f1_score\n",
        "from sklearn.model_selection import train_test_split\n",
        "from google.colab import drive\n",
        "\n",
        "drive.mount(\"/content/drive\")\n",
        "warnings.filterwarnings(\"ignore\")"
      ]
    },
    {
      "cell_type": "code",
      "execution_count": null,
      "metadata": {
        "id": "Kt9LGLSXyZpq",
        "colab": {
          "base_uri": "https://localhost:8080/"
        },
        "outputId": "8e92bc74-4a2a-4947-94fd-33bebbe8a490"
      },
      "outputs": [
        {
          "output_type": "stream",
          "name": "stdout",
          "text": [
            "Python 3.8.15\n",
            "torch: 1.12.1+cu113\n"
          ]
        }
      ],
      "source": [
        "!python --version\n",
        "\n",
        "print(f\"torch: {torch.__version__}\")"
      ]
    },
    {
      "cell_type": "code",
      "execution_count": null,
      "metadata": {
        "id": "qLO55TxdfYuV"
      },
      "outputs": [],
      "source": [
        "def join_path(*args):\n",
        "    return os.path.join(\"/content/drive/MyDrive/DACON\", *args)\n",
        "\n",
        "\n",
        "DEVICE = torch.device(\"cuda\") if torch.cuda.is_available() else torch.device(\"cpu\")\n",
        "TRAIN_CSV = join_path(\"data\", \"train.csv\")\n",
        "TEST_CSV = join_path(\"data\", \"test.csv\")\n",
        "\n",
        "ARGS = {\n",
        "    \"model\": \"tae898/emoberta-large\",\n",
        "    \"model_path\": join_path(\"emoberta\", \"model.pth\"),\n",
        "    \"batch_size\": 64,\n",
        "    \"epochs\": 100,\n",
        "    \"max_len\": 256,\n",
        "    \"lr\": 2e-4,\n",
        "    \"min_lr\": 1e-6,\n",
        "    \"stopping_patience\": 5,\n",
        "    \"scheduler_patience\": 2,\n",
        "}"
      ]
    },
    {
      "cell_type": "code",
      "source": [
        "class EarlyStoppingCallback(object):\n",
        "    def __init__(self, patience=2):\n",
        "        self._min_eval_loss = np.inf\n",
        "        self._patience = patience\n",
        "        self.__counter = 0\n",
        "\n",
        "    def should_stop(self, eval_loss, model, save_path):\n",
        "        if eval_loss < self._min_eval_loss:\n",
        "            self._min_eval_loss = eval_loss\n",
        "            self.__counter = 0\n",
        "            torch.save(model.state_dict(), save_path)\n",
        "        elif eval_loss > self._min_eval_loss:\n",
        "            self.__counter += 1\n",
        "            if self.__counter >= self._patience:\n",
        "                return True\n",
        "        return False"
      ],
      "metadata": {
        "id": "cb1U4y-fyIzD"
      },
      "execution_count": null,
      "outputs": []
    },
    {
      "cell_type": "code",
      "source": [
        "class EmoLabelEncoder(object):\n",
        "    def __init__(self):\n",
        "        self._targets = [\n",
        "            \"neutral\",\n",
        "            \"joy\",\n",
        "            \"surprise\",\n",
        "            \"anger\",\n",
        "            \"sadness\",\n",
        "            \"disgust\",\n",
        "            \"fear\",\n",
        "        ]\n",
        "        self.num_classes = len(self._targets)\n",
        "\n",
        "    def encode(self, label):\n",
        "        return self._targets.index(label)\n",
        "\n",
        "    def decode(self, label):\n",
        "        return self._targets[label]"
      ],
      "metadata": {
        "id": "97XA-GEZmc6s"
      },
      "execution_count": null,
      "outputs": []
    },
    {
      "cell_type": "code",
      "source": [
        "class EmoDataset(Dataset):\n",
        "    def __init__(\n",
        "        self,\n",
        "        data,\n",
        "        twt_tokenizer,\n",
        "        roberta_tokenizer,\n",
        "        label_encoder,\n",
        "        max_length=256,\n",
        "        mode=None,\n",
        "    ):\n",
        "        self._label_encoder = label_encoder\n",
        "        self._twt_tokenizer = twt_tokenizer\n",
        "        self._roberta_tokenizer = roberta_tokenizer\n",
        "        self._max_length = max_length\n",
        "        self._mode = mode\n",
        "        self._dataset = self._init_dataset(data)\n",
        "\n",
        "    def _init_dataset(self, data):\n",
        "        if self._mode == \"train\":\n",
        "            data[\"Target\"] = data[\"Target\"].map(self._label_encoder.encode)\n",
        "            data = data.loc[:, [\"Utterance\", \"Target\"]]\n",
        "        else:\n",
        "            data = data.loc[:, \"Utterance\"]\n",
        "            data = data.to_frame()\n",
        "        return data\n",
        "\n",
        "    def __len__(self):\n",
        "        return len(self._dataset)\n",
        "\n",
        "    def __getitem__(self, idx):\n",
        "        text = self._dataset.loc[idx, \"Utterance\"]\n",
        "        inputs = self._roberta_tokenizer(\n",
        "            text,\n",
        "            max_length=self._max_length,\n",
        "            padding=\"max_length\",\n",
        "            truncation=True,\n",
        "            return_tensors=\"pt\",\n",
        "        )\n",
        "        input_ids = inputs[\"input_ids\"][0]\n",
        "        attention_mask = inputs[\"attention_mask\"][0]\n",
        "\n",
        "        if self._mode == \"train\":\n",
        "            y = self._dataset.loc[idx, \"Target\"]\n",
        "            return input_ids, attention_mask, y\n",
        "        else:\n",
        "            return input_ids, attention_mask"
      ],
      "metadata": {
        "id": "K1SgoQR6u35N"
      },
      "execution_count": null,
      "outputs": []
    },
    {
      "cell_type": "code",
      "source": [
        "class EmoClassifier(nn.Module):\n",
        "    def __init__(self, num_classes):\n",
        "        super(EmoClassifier, self).__init__()\n",
        "        self.hidden_size = 128\n",
        "        self.emoberta = RobertaModel.from_pretrained(ARGS[\"model\"], add_pooling_layer=False)\n",
        "        self.gru = nn.GRU(input_size=1024, hidden_size=self.hidden_size, dropout=0.1, batch_first=True)\n",
        "        self.fc = nn.Linear(self.hidden_size, num_classes)\n",
        "        self.out = nn.Softmax(dim=-1)\n",
        "\n",
        "        for _, param in self.emoberta.named_parameters():\n",
        "            param.requires_grad = False\n",
        "\n",
        "    def forward(self, id, mask):\n",
        "        output = self.emoberta(id, mask)\n",
        "        output, _ = self.gru(output.last_hidden_state)\n",
        "        output = self.fc(output[:, -1, :])\n",
        "        output = self.out(output)\n",
        "\n",
        "        return output"
      ],
      "metadata": {
        "id": "744CG7fOJlgV"
      },
      "execution_count": null,
      "outputs": []
    },
    {
      "cell_type": "markdown",
      "metadata": {
        "id": "vPDUHfujx2NN"
      },
      "source": [
        "# Dataset"
      ]
    },
    {
      "cell_type": "code",
      "execution_count": null,
      "metadata": {
        "id": "fFZRDzdWkoTz"
      },
      "outputs": [],
      "source": [
        "train_csv = pd.read_csv(TRAIN_CSV)\n",
        "\n",
        "df_train, df_val = train_test_split(\n",
        "    train_csv, test_size=0.2, shuffle=False\n",
        ")\n",
        "df_train.head()"
      ]
    },
    {
      "cell_type": "code",
      "execution_count": null,
      "metadata": {
        "id": "2zxN5atGQDpz"
      },
      "outputs": [],
      "source": [
        "label_encoder = EmoLabelEncoder()\n",
        "roberta_tokenizer = RobertaTokenizerFast.from_pretrained(ARGS[\"model\"], truncation=True)\n",
        "twt_tokenizer = nltk.tokenize.TweetTokenizer(\n",
        "    preserve_case=False, strip_handles=True, reduce_len=True\n",
        ")\n",
        "\n",
        "train_set = EmoDataset(\n",
        "    df_train.reset_index(drop=True),\n",
        "    twt_tokenizer,\n",
        "    roberta_tokenizer,\n",
        "    label_encoder,\n",
        "    max_length=ARGS[\"max_len\"],\n",
        "    mode=\"train\",\n",
        ")\n",
        "val_set = EmoDataset(\n",
        "    df_val.reset_index(drop=True),\n",
        "    twt_tokenizer,\n",
        "    roberta_tokenizer,\n",
        "    label_encoder,\n",
        "    max_length=ARGS[\"max_len\"],\n",
        "    mode=\"train\",\n",
        ")\n",
        "\n",
        "train_dataloader = DataLoader(train_set, batch_size=ARGS[\"batch_size\"])\n",
        "val_dataloader = DataLoader(val_set, batch_size=ARGS[\"batch_size\"])"
      ]
    },
    {
      "cell_type": "markdown",
      "metadata": {
        "id": "_sHLXyvHysyi"
      },
      "source": [
        "# Model"
      ]
    },
    {
      "cell_type": "code",
      "source": [
        "def evaluate(model, criterion, val_loader, device, mode=None):\n",
        "    model.eval()\n",
        "\n",
        "    val_loss = list()\n",
        "    model_preds = list()\n",
        "    true_labels = list()\n",
        "\n",
        "    with torch.no_grad():\n",
        "        for input_ids, attention_mask, label in val_loader:\n",
        "            label = label.to(device)\n",
        "            input_id = input_ids.to(device)\n",
        "            mask = attention_mask.to(device)\n",
        "\n",
        "            output = model(input_id, mask)\n",
        "\n",
        "            batch_loss = criterion(output, label.long())\n",
        "            val_loss.append(batch_loss.item())\n",
        "\n",
        "            if mode != \"train\":\n",
        "                model_preds += output.argmax(1).detach().cpu().numpy().tolist()\n",
        "                true_labels += label.detach().cpu().numpy().tolist()\n",
        "\n",
        "        if mode != \"train\":\n",
        "            val_acc = accuracy_score(true_labels, model_preds)\n",
        "            val_f1 = f1_score(true_labels, model_preds, average=\"macro\")\n",
        "            return val_acc, val_f1\n",
        "\n",
        "        return val_loss\n",
        "\n",
        "\n",
        "def train(model, optimizer, scheduler, criterion, train_loader, val_loader, device):\n",
        "    torch.cuda.empty_cache()\n",
        "    gc.collect()\n",
        "\n",
        "    epoch_progress = trange(1, ARGS[\"epochs\"] + 1)\n",
        "    early_stopper = EarlyStoppingCallback(patience=ARGS[\"stopping_patience\"])\n",
        "    criterion.to(device)\n",
        "\n",
        "    model_path = ARGS[\"model_path\"]\n",
        "    model.to(device)\n",
        "    model.zero_grad()\n",
        "\n",
        "    for epoch in epoch_progress:\n",
        "\n",
        "        model.train()\n",
        "        train_loss = list()\n",
        "        for data in train_loader:\n",
        "\n",
        "            input_ids, attention_mask, train_label = data\n",
        "            train_label = train_label.to(device)\n",
        "            input_id = input_ids.to(device)\n",
        "            mask = attention_mask.to(device)\n",
        "\n",
        "            output = model(input_id, mask)\n",
        "\n",
        "            batch_loss = criterion(output, train_label.long())\n",
        "            train_loss.append(batch_loss.item())\n",
        "\n",
        "            batch_loss.backward()\n",
        "            optimizer.step()\n",
        "            optimizer.zero_grad()\n",
        "\n",
        "        val_loss = evaluate(model, criterion, val_loader, device, mode=\"train\")\n",
        "        train_loss = np.mean(train_loss)\n",
        "        val_loss = np.mean(val_loss)\n",
        "        tqdm.write(\n",
        "            f\"Epoch {epoch},  Train-Loss: {train_loss:.5f},  Val-Loss: {val_loss:.5f}\"\n",
        "        )\n",
        "\n",
        "        if early_stopper.should_stop(val_loss, model, model_path):\n",
        "            tqdm.write(f\"\\n\\n -- EarlyStoppingCallback: [Epoch: {epoch - ARGS['stopping_patience']}]\")\n",
        "            tqdm.write(f\"Model saved at '{model_path}'.\")\n",
        "            break\n",
        "\n",
        "        scheduler.step(val_loss)\n",
        "        \n",
        "    model.load_state_dict(torch.load(model_path))\n",
        "    return model"
      ],
      "metadata": {
        "id": "TwCX_OUouxhu"
      },
      "execution_count": null,
      "outputs": []
    },
    {
      "cell_type": "code",
      "source": [
        "model = EmoClassifier(label_encoder.num_classes)\n",
        "optimizer = optim.NAdam(\n",
        "    model.parameters(), lr=ARGS[\"lr\"], weight_decay=0.01\n",
        ")\n",
        "scheduler = optim.lr_scheduler.ReduceLROnPlateau(optimizer, factor=0.7, patience=ARGS[\"scheduler_patience\"], min_lr =[\"min_lr\"])\n",
        "criterion = nn.CrossEntropyLoss()"
      ],
      "metadata": {
        "id": "vT5x111SL9BA",
        "colab": {
          "base_uri": "https://localhost:8080/"
        },
        "outputId": "9c3237ba-12a3-4658-dc7f-4cbda5f82c84"
      },
      "execution_count": null,
      "outputs": [
        {
          "output_type": "stream",
          "name": "stderr",
          "text": [
            "Some weights of the model checkpoint at tae898/emoberta-large were not used when initializing RobertaModel: ['classifier.dense.weight', 'classifier.out_proj.weight', 'classifier.dense.bias', 'classifier.out_proj.bias']\n",
            "- This IS expected if you are initializing RobertaModel from the checkpoint of a model trained on another task or with another architecture (e.g. initializing a BertForSequenceClassification model from a BertForPreTraining model).\n",
            "- This IS NOT expected if you are initializing RobertaModel from the checkpoint of a model that you expect to be exactly identical (initializing a BertForSequenceClassification model from a BertForSequenceClassification model).\n"
          ]
        }
      ]
    },
    {
      "cell_type": "code",
      "execution_count": null,
      "metadata": {
        "id": "6z0IrePhOh8V"
      },
      "outputs": [],
      "source": [
        "best_model = train(\n",
        "    model, optimizer, scheduler, criterion, train_dataloader, val_dataloader, DEVICE\n",
        ")"
      ]
    },
    {
      "cell_type": "code",
      "source": [
        "torch.cuda.empty_cache()\n",
        "gc.collect()\n",
        "\n",
        "val_acc, val_f1 = evaluate(model, criterion, val_dataloader, DEVICE)\n",
        "print(f\"Accuracy: {val_acc:.5f}\")\n",
        "print(f\"F1-macro: {val_f1:.5f}\")"
      ],
      "metadata": {
        "id": "_L0ke5pJCpQW"
      },
      "execution_count": null,
      "outputs": []
    },
    {
      "cell_type": "markdown",
      "metadata": {
        "id": "_N0YrTA2fGzo"
      },
      "source": [
        "# Prediction"
      ]
    },
    {
      "cell_type": "code",
      "execution_count": null,
      "metadata": {
        "id": "cVJXerY-m4rA"
      },
      "outputs": [],
      "source": [
        "df_test = pd.read_csv(TEST_CSV)\n",
        "test_set = EmoDataset(\n",
        "    df_test.reset_index(drop=True),\n",
        "    twt_tokenizer,\n",
        "    roberta_tokenizer,\n",
        "    label_encoder,\n",
        "    max_length=ARGS[\"max_len\"],\n",
        ")\n",
        "test_dataloader = DataLoader(test_set, batch_size=ARGS[\"batch_size\"], shuffle=False)"
      ]
    },
    {
      "cell_type": "code",
      "execution_count": null,
      "metadata": {
        "id": "vzFz1q2DeJP0"
      },
      "outputs": [],
      "source": [
        "def predict(model, test_loader, device):\n",
        "    model.eval()\n",
        "    model_preds = list()\n",
        "\n",
        "    with torch.no_grad():\n",
        "        for input_ids, attention_mask in test_loader:\n",
        "            input_id = input_ids.to(device)\n",
        "            mask = attention_mask.to(device)\n",
        "\n",
        "            output = model(input_id, mask)\n",
        "            model_preds += output.argmax(1).detach().cpu().numpy().tolist()\n",
        "        return model_preds"
      ]
    },
    {
      "cell_type": "code",
      "execution_count": null,
      "metadata": {
        "id": "sqHrQeI8eihJ"
      },
      "outputs": [],
      "source": [
        "preds = predict(model, test_dataloader, DEVICE)"
      ]
    },
    {
      "cell_type": "code",
      "execution_count": null,
      "metadata": {
        "id": "LeuRALPEvepl"
      },
      "outputs": [],
      "source": [
        "df_test[\"Target\"] = preds\n",
        "df_test[\"Target\"] = df_test[\"Target\"].map(label_encoder.decode)\n",
        "result = df_test.loc[:, [\"ID\", \"Target\"]]\n",
        "result.head()"
      ]
    }
  ],
  "metadata": {
    "accelerator": "GPU",
    "colab": {
      "machine_shape": "hm",
      "provenance": [],
      "include_colab_link": true
    },
    "gpuClass": "premium",
    "kernelspec": {
      "display_name": "Python 3",
      "name": "python3"
    },
    "language_info": {
      "name": "python"
    }
  },
  "nbformat": 4,
  "nbformat_minor": 0
}