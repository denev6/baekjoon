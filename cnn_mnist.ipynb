{
  "nbformat": 4,
  "nbformat_minor": 0,
  "metadata": {
    "colab": {
      "provenance": [],
      "machine_shape": "hm",
      "include_colab_link": true
    },
    "kernelspec": {
      "name": "python3",
      "display_name": "Python 3"
    },
    "language_info": {
      "name": "python"
    },
    "accelerator": "GPU",
    "gpuClass": "premium"
  },
  "cells": [
    {
      "cell_type": "markdown",
      "metadata": {
        "id": "view-in-github",
        "colab_type": "text"
      },
      "source": [
        "<a href=\"https://colab.research.google.com/github/Denev6/practice/blob/main/cnn_mnist.ipynb\" target=\"_parent\"><img src=\"https://colab.research.google.com/assets/colab-badge.svg\" alt=\"Open In Colab\"/></a>"
      ]
    },
    {
      "cell_type": "code",
      "source": [
        "!pip install torchsummary"
      ],
      "metadata": {
        "id": "jdI4496Oi5le"
      },
      "execution_count": null,
      "outputs": []
    },
    {
      "cell_type": "markdown",
      "source": [
        "# CNN 살펴보기"
      ],
      "metadata": {
        "id": "1pzHbJmEgB0T"
      }
    },
    {
      "cell_type": "code",
      "execution_count": null,
      "metadata": {
        "id": "Cz95IbIgaQyI"
      },
      "outputs": [],
      "source": [
        "import torch\n",
        "import torch.nn as nn\n",
        "import torch.nn.functional as F\n",
        "import torchvision.datasets as datasets\n",
        "import torchvision.transforms as transforms\n",
        "from torchsummary import summary\n",
        "import matplotlib.pyplot as plt\n",
        "\n",
        "import warnings\n",
        "from google.colab import drive"
      ]
    },
    {
      "cell_type": "code",
      "source": [
        "drive.mount(\"/content/drive\")\n",
        "warnings.filterwarnings(\"ignore\")\n",
        "device = \"cuda\" if torch.cuda.is_available() else \"cpu\"\n",
        "\n",
        "data_path = \"/content/drive/MyDrive/MNIST\"\n",
        "learning_rate = 0.001\n",
        "training_epochs = 5\n",
        "batch_size = 64"
      ],
      "metadata": {
        "id": "0DFNEI_IdzGt",
        "colab": {
          "base_uri": "https://localhost:8080/"
        },
        "outputId": "8e676506-8e30-4300-b58c-72bf31ac4045"
      },
      "execution_count": null,
      "outputs": [
        {
          "output_type": "stream",
          "name": "stdout",
          "text": [
            "Mounted at /content/drive\n"
          ]
        }
      ]
    },
    {
      "cell_type": "markdown",
      "source": [
        "## Dataset"
      ],
      "metadata": {
        "id": "vvrSe1oGcoe2"
      }
    },
    {
      "cell_type": "code",
      "source": [
        "mnist_train = datasets.MNIST(\n",
        "    root=data_path, train=True, transform=transforms.ToTensor(), download=True\n",
        ")\n",
        "\n",
        "mnist_test = datasets.MNIST(\n",
        "    root=data_path, train=False, transform=transforms.ToTensor(), download=True\n",
        ")\n",
        "\n",
        "data_loader = torch.utils.data.DataLoader(\n",
        "    dataset=mnist_train, batch_size=batch_size, shuffle=True\n",
        ")"
      ],
      "metadata": {
        "id": "Jd668LWGd01N"
      },
      "execution_count": null,
      "outputs": []
    },
    {
      "cell_type": "code",
      "source": [
        "print(\"X\", mnist_train.train_data.size())\n",
        "print(\"y\", mnist_train.train_labels.size())"
      ],
      "metadata": {
        "colab": {
          "base_uri": "https://localhost:8080/"
        },
        "id": "FO_wO7yLnvzi",
        "outputId": "2efe7b9c-af98-4991-e472-f638f004cb4e"
      },
      "execution_count": null,
      "outputs": [
        {
          "output_type": "stream",
          "name": "stdout",
          "text": [
            "X torch.Size([60000, 28, 28])\n",
            "y torch.Size([60000])\n"
          ]
        }
      ]
    },
    {
      "cell_type": "markdown",
      "source": [
        "## CNN"
      ],
      "metadata": {
        "id": "zXM3rNbgcqaK"
      }
    },
    {
      "cell_type": "code",
      "source": [
        "class CNN(nn.Module):\n",
        "    def __init__(self, num_label=10):\n",
        "        super(CNN, self).__init__()\n",
        "        self.conv1 = nn.Sequential(\n",
        "            nn.Conv2d(1, 16, kernel_size=3),\n",
        "            nn.ReLU(),\n",
        "            nn.MaxPool2d(kernel_size=2, stride=2, padding=1)\n",
        "            #       Input =  (-1,  1, 28, 28)\n",
        "            # Conv + ReLU -> (-1, 16, 26, 26)\n",
        "            #        Pool -> (-1, 16, 14, 14)\n",
        "        )\n",
        "\n",
        "        self.conv2 = nn.Sequential(\n",
        "            nn.Conv2d(16, 32, kernel_size=3),\n",
        "            nn.ReLU(),\n",
        "            nn.MaxPool2d(kernel_size=2, stride=2, padding=1)\n",
        "            #       Input =  (-1, 16, 14, 14)\n",
        "            # Conv + ReLU -> (-1, 32, 12, 12)\n",
        "            #        Pool -> (-1, 32,  7,  7)\n",
        "        )\n",
        "\n",
        "        self.fc = nn.Sequential(\n",
        "            nn.Linear(7 * 7 * 32, 32),\n",
        "            nn.ReLU(),\n",
        "            nn.Dropout(p=0.3),\n",
        "            nn.Linear(32, num_label)\n",
        "            #          Input =  (-1, 32 * 7 * 7)\n",
        "            #         Linear -> (-1,         32)\n",
        "            # ReLU + Dropout -> (-1,         32)\n",
        "            #         Output -> (-1,         10)\n",
        "        )\n",
        "\n",
        "    def forward(self, x, get_features=False):\n",
        "        if get_features:\n",
        "            # 내부 학습 과정 확인\n",
        "            features = list()\n",
        "            out = self.conv1(x)\n",
        "            features.append(out[0])\n",
        "            out = self.conv2(out)\n",
        "            features.append(out[0])\n",
        "            out = out.view(out.size(0), -1)\n",
        "            out = self.fc(out)\n",
        "            features.append(out[0])\n",
        "            return features\n",
        "        else:\n",
        "            # 일반적인 학습 과정\n",
        "            out = self.conv1(x)\n",
        "            out = self.conv2(out)\n",
        "            out = out.view(out.size(0), -1)\n",
        "            out = self.fc(out)\n",
        "            return out"
      ],
      "metadata": {
        "id": "5XYPmif7d22I"
      },
      "execution_count": null,
      "outputs": []
    },
    {
      "cell_type": "code",
      "source": [
        "model = CNN()\n",
        "model.to(device)"
      ],
      "metadata": {
        "colab": {
          "base_uri": "https://localhost:8080/"
        },
        "id": "1w2Z9EPEdKgX",
        "outputId": "0e5a4005-1f64-4dbb-a131-16522444031a"
      },
      "execution_count": null,
      "outputs": [
        {
          "output_type": "execute_result",
          "data": {
            "text/plain": [
              "CNN(\n",
              "  (conv1): Sequential(\n",
              "    (0): Conv2d(1, 16, kernel_size=(3, 3), stride=(1, 1))\n",
              "    (1): ReLU()\n",
              "    (2): MaxPool2d(kernel_size=2, stride=2, padding=1, dilation=1, ceil_mode=False)\n",
              "  )\n",
              "  (conv2): Sequential(\n",
              "    (0): Conv2d(16, 32, kernel_size=(3, 3), stride=(1, 1))\n",
              "    (1): ReLU()\n",
              "    (2): MaxPool2d(kernel_size=2, stride=2, padding=1, dilation=1, ceil_mode=False)\n",
              "  )\n",
              "  (fc): Sequential(\n",
              "    (0): Linear(in_features=1568, out_features=32, bias=True)\n",
              "    (1): ReLU()\n",
              "    (2): Dropout(p=0.3, inplace=False)\n",
              "    (3): Linear(in_features=32, out_features=10, bias=True)\n",
              "  )\n",
              ")"
            ]
          },
          "metadata": {},
          "execution_count": 8
        }
      ]
    },
    {
      "cell_type": "code",
      "source": [
        "summary(model, (1, 28, 28))"
      ],
      "metadata": {
        "colab": {
          "base_uri": "https://localhost:8080/"
        },
        "id": "QYajyWP5dMU0",
        "outputId": "d6c785c8-8ea5-47d1-fcab-f7df1825f9ca"
      },
      "execution_count": null,
      "outputs": [
        {
          "output_type": "stream",
          "name": "stdout",
          "text": [
            "----------------------------------------------------------------\n",
            "        Layer (type)               Output Shape         Param #\n",
            "================================================================\n",
            "            Conv2d-1           [-1, 16, 26, 26]             160\n",
            "              ReLU-2           [-1, 16, 26, 26]               0\n",
            "         MaxPool2d-3           [-1, 16, 14, 14]               0\n",
            "            Conv2d-4           [-1, 32, 12, 12]           4,640\n",
            "              ReLU-5           [-1, 32, 12, 12]               0\n",
            "         MaxPool2d-6             [-1, 32, 7, 7]               0\n",
            "            Linear-7                   [-1, 32]          50,208\n",
            "              ReLU-8                   [-1, 32]               0\n",
            "           Dropout-9                   [-1, 32]               0\n",
            "           Linear-10                   [-1, 10]             330\n",
            "================================================================\n",
            "Total params: 55,338\n",
            "Trainable params: 55,338\n",
            "Non-trainable params: 0\n",
            "----------------------------------------------------------------\n",
            "Input size (MB): 0.00\n",
            "Forward/backward pass size (MB): 0.27\n",
            "Params size (MB): 0.21\n",
            "Estimated Total Size (MB): 0.49\n",
            "----------------------------------------------------------------\n"
          ]
        }
      ]
    },
    {
      "cell_type": "markdown",
      "source": [
        "## Train"
      ],
      "metadata": {
        "id": "p3XVnERqctDE"
      }
    },
    {
      "cell_type": "code",
      "source": [
        "criterion = torch.nn.CrossEntropyLoss()\n",
        "optimizer = torch.optim.Adam(model.parameters(), lr=learning_rate)\n",
        "\n",
        "criterion.to(device)"
      ],
      "metadata": {
        "id": "kmlLlfOVd5GR"
      },
      "execution_count": null,
      "outputs": []
    },
    {
      "cell_type": "code",
      "source": [
        "for epoch in range(1, training_epochs + 1):\n",
        "    train_loss = 0\n",
        "    model.train()\n",
        "    for X, y in data_loader:\n",
        "        X = X.to(device)\n",
        "        y = y.to(device)\n",
        "\n",
        "        pred = model(X)\n",
        "        loss = criterion(pred, y)\n",
        "\n",
        "        loss.backward()\n",
        "        optimizer.step()\n",
        "        optimizer.zero_grad()\n",
        "\n",
        "        train_loss += loss\n",
        "\n",
        "    train_loss /= len(data_loader)\n",
        "\n",
        "    print(f\"Epoch: {epoch}, Train Loss: {train_loss:.5f}\")"
      ],
      "metadata": {
        "colab": {
          "base_uri": "https://localhost:8080/"
        },
        "id": "A3HcuulgZQHf",
        "outputId": "3db46d1d-0d70-4ffe-e8c6-7c79ec7f0de2"
      },
      "execution_count": null,
      "outputs": [
        {
          "output_type": "stream",
          "name": "stdout",
          "text": [
            "Epoch: 1, Train Loss: 0.50487\n",
            "Epoch: 2, Train Loss: 0.19696\n",
            "Epoch: 3, Train Loss: 0.14879\n",
            "Epoch: 4, Train Loss: 0.12369\n",
            "Epoch: 5, Train Loss: 0.10631\n"
          ]
        }
      ]
    },
    {
      "cell_type": "markdown",
      "source": [
        "## Test"
      ],
      "metadata": {
        "id": "j3ksFZAtcvS8"
      }
    },
    {
      "cell_type": "code",
      "source": [
        "with torch.no_grad():\n",
        "    model.eval()\n",
        "    test_set = mnist_test.test_data.view(len(mnist_test), 1, 28, 28).float().to(device)\n",
        "    labels = mnist_test.test_labels.to(device)\n",
        "\n",
        "    pred = model(test_set)\n",
        "    correct = pred.argmax(-1) == labels\n",
        "    accuracy = correct.float().mean()\n",
        "    print(f\"Accuracy: {accuracy.item():.5f}\")"
      ],
      "metadata": {
        "colab": {
          "base_uri": "https://localhost:8080/"
        },
        "id": "vBY1dUR9ZSNe",
        "outputId": "f4ebcfe4-8d80-4d70-e7aa-c90667c02d4f"
      },
      "execution_count": null,
      "outputs": [
        {
          "output_type": "stream",
          "name": "stdout",
          "text": [
            "Accuracy: 0.97720\n"
          ]
        }
      ]
    },
    {
      "cell_type": "code",
      "source": [
        "torch.save(model.state_dict(), \"/content/drive/MyDrive/MNIST/cnn.pth\")"
      ],
      "metadata": {
        "id": "qBAtRInId630"
      },
      "execution_count": null,
      "outputs": []
    },
    {
      "cell_type": "markdown",
      "source": [
        "## Features"
      ],
      "metadata": {
        "id": "96ZKIq5Bcxoi"
      }
    },
    {
      "cell_type": "code",
      "source": [
        "model.eval()\n",
        "images, labels = next(iter(data_loader))\n",
        "feat1, feat2, logits = model(images.to(device), get_features=True)"
      ],
      "metadata": {
        "id": "CNE6gYEWd9MB"
      },
      "execution_count": null,
      "outputs": []
    },
    {
      "cell_type": "code",
      "source": [
        "plt.imshow(images[0].reshape(28, 28), cmap=\"gray\")\n",
        "plt.show()"
      ],
      "metadata": {
        "colab": {
          "base_uri": "https://localhost:8080/",
          "height": 265
        },
        "id": "Zvvrl1JJvY__",
        "outputId": "56a25193-53b0-4350-91d1-8d66e554cf3e"
      },
      "execution_count": null,
      "outputs": [
        {
          "output_type": "display_data",
          "data": {
            "text/plain": [
              "<Figure size 432x288 with 1 Axes>"
            ],
            "image/png": "[encoded data removed]"
          },
          "metadata": {
            "needs_background": "light"
          }
        }
      ]
    },
    {
      "cell_type": "code",
      "source": [
        "feat1.size()"
      ],
      "metadata": {
        "colab": {
          "base_uri": "https://localhost:8080/"
        },
        "id": "hHPaniXpVdoZ",
        "outputId": "43c23720-4d88-4e47-d942-18ad71400be2"
      },
      "execution_count": null,
      "outputs": [
        {
          "output_type": "execute_result",
          "data": {
            "text/plain": [
              "torch.Size([16, 14, 14])"
            ]
          },
          "metadata": {},
          "execution_count": 58
        }
      ]
    },
    {
      "cell_type": "code",
      "source": [
        "feat1 = feat1.detach().cpu().numpy()\n",
        "\n",
        "plt.figure(figsize=(6, 6))\n",
        "for i in range(16):\n",
        "    plt.subplot(4, 4, i + 1)\n",
        "    plt.imshow(feat1[i].reshape(14, 14))\n",
        "    plt.xticks([])\n",
        "    plt.yticks([])\n",
        "plt.show()"
      ],
      "metadata": {
        "colab": {
          "base_uri": "https://localhost:8080/",
          "height": 361
        },
        "id": "dd49nBaVVn-Z",
        "outputId": "b5b15f87-f318-4778-d9a3-28867b607dfa"
      },
      "execution_count": null,
      "outputs": [
        {
          "output_type": "display_data",
          "data": {
            "text/plain": [
              "<Figure size 432x432 with 16 Axes>"
            ],
            "image/png": "[encoded data removed]"
          },
          "metadata": {}
        }
      ]
    },
    {
      "cell_type": "code",
      "source": [
        "feat2.size()"
      ],
      "metadata": {
        "colab": {
          "base_uri": "https://localhost:8080/"
        },
        "id": "Cu5i9jfMVgag",
        "outputId": "fcee7232-5cc6-4129-d128-032d81a31acb"
      },
      "execution_count": null,
      "outputs": [
        {
          "output_type": "execute_result",
          "data": {
            "text/plain": [
              "torch.Size([32, 7, 7])"
            ]
          },
          "metadata": {},
          "execution_count": 60
        }
      ]
    },
    {
      "cell_type": "code",
      "source": [
        "feat2 = feat2.detach().cpu().numpy()\n",
        "\n",
        "plt.figure(figsize=(8, 4))\n",
        "for i in range(32):\n",
        "    plt.subplot(4, 8, i + 1)\n",
        "    plt.imshow(feat2[i].reshape(7, 7))\n",
        "    plt.xticks([])\n",
        "    plt.yticks([])\n",
        "plt.show()"
      ],
      "metadata": {
        "colab": {
          "base_uri": "https://localhost:8080/",
          "height": 252
        },
        "id": "aP_C1B9tWaGY",
        "outputId": "56d02008-2f7f-4fbe-8f4b-d7db3cb97a04"
      },
      "execution_count": null,
      "outputs": [
        {
          "output_type": "display_data",
          "data": {
            "text/plain": [
              "<Figure size 576x288 with 32 Axes>"
            ],
            "image/png": "[encoded data removed]"
          },
          "metadata": {}
        }
      ]
    },
    {
      "cell_type": "code",
      "source": [
        "logits.size()"
      ],
      "metadata": {
        "colab": {
          "base_uri": "https://localhost:8080/"
        },
        "id": "IUsMptwEVjaK",
        "outputId": "6b636b32-5913-4748-e7ce-a355dcce865e"
      },
      "execution_count": null,
      "outputs": [
        {
          "output_type": "execute_result",
          "data": {
            "text/plain": [
              "torch.Size([10])"
            ]
          },
          "metadata": {},
          "execution_count": 62
        }
      ]
    },
    {
      "cell_type": "code",
      "source": [
        "probs = F.softmax(logits)\n",
        "pred = probs.argmax(-1)\n",
        "\n",
        "print(\n",
        "    \"Logits:\",\n",
        "    \", \".join(map(lambda x: f\"{x:.3f}\", logits.detach().cpu().numpy().tolist())),\n",
        ")\n",
        "print(\n",
        "    \" Probs: \",\n",
        "    \", \".join(map(lambda x: f\"{x:.3f}\", probs.detach().cpu().numpy().tolist())),\n",
        ")\n",
        "print(\"  Pred: \", pred.detach().cpu().numpy().tolist())\n",
        "print(\"  True: \", labels[0].numpy().tolist())"
      ],
      "metadata": {
        "colab": {
          "base_uri": "https://localhost:8080/"
        },
        "id": "U-mptcLVXHnw",
        "outputId": "eb8e84f6-aa4d-4fea-d861-4e264aacdd3d"
      },
      "execution_count": null,
      "outputs": [
        {
          "output_type": "stream",
          "name": "stdout",
          "text": [
            "Logits: -6.874, -7.244, -8.523, -8.116, -6.986, -7.655, -12.905, 10.114, -12.786, 2.766\n",
            " Probs:  0.000, 0.000, 0.000, 0.000, 0.000, 0.000, 0.000, 0.999, 0.000, 0.001\n",
            "  Pred:  7\n",
            "  True:  7\n"
          ]
        }
      ]
    },
    {
      "cell_type": "markdown",
      "source": [
        "## Filters"
      ],
      "metadata": {
        "id": "NT2Pxh4tdsfp"
      }
    },
    {
      "cell_type": "code",
      "source": [
        "filters = model.conv1[0].weight.data\n",
        "print(filters.size())\n",
        "filters = filters[:, 0, :, :].detach().cpu().numpy()\n",
        "\n",
        "plt.figure(figsize=(6, 6))\n",
        "for i in range(16):\n",
        "    plt.subplot(4, 4, i + 1)\n",
        "    plt.imshow(filters[i], cmap=\"gray\")\n",
        "    plt.xticks([])\n",
        "    plt.yticks([])\n",
        "plt.show()"
      ],
      "metadata": {
        "colab": {
          "base_uri": "https://localhost:8080/",
          "height": 378
        },
        "id": "n8I6_0lYvOTZ",
        "outputId": "779725c3-93cf-45bc-8b58-170ad4f254b7"
      },
      "execution_count": null,
      "outputs": [
        {
          "output_type": "stream",
          "name": "stdout",
          "text": [
            "torch.Size([16, 1, 3, 3])\n"
          ]
        },
        {
          "output_type": "display_data",
          "data": {
            "text/plain": [
              "<Figure size 432x432 with 16 Axes>"
            ],
            "image/png": "[encoded data removed]"
          },
          "metadata": {}
        }
      ]
    },
    {
      "cell_type": "code",
      "source": [
        "filters = model.conv2[0].weight.data\n",
        "print(filters.size())\n",
        "filters = filters[:, 0, :, :].detach().cpu().numpy()\n",
        "\n",
        "plt.figure(figsize=(8, 4))\n",
        "for i in range(32):\n",
        "    plt.subplot(4, 8, i + 1)\n",
        "    plt.imshow(filters[i], cmap=\"gray\")\n",
        "    plt.xticks([])\n",
        "    plt.yticks([])\n",
        "plt.show()"
      ],
      "metadata": {
        "colab": {
          "base_uri": "https://localhost:8080/",
          "height": 269
        },
        "id": "2Xv7QRPD6W_u",
        "outputId": "24bc2e3f-9089-4c86-c63c-6ee40899cf1c"
      },
      "execution_count": null,
      "outputs": [
        {
          "output_type": "stream",
          "name": "stdout",
          "text": [
            "torch.Size([32, 16, 3, 3])\n"
          ]
        },
        {
          "output_type": "display_data",
          "data": {
            "text/plain": [
              "<Figure size 576x288 with 32 Axes>"
            ],
            "image/png": "[encoded data removed]"
          },
          "metadata": {}
        }
      ]
    }
  ]
}