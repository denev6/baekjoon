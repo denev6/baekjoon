{
  "cells": [
    {
      "cell_type": "markdown",
      "metadata": {
        "id": "view-in-github",
        "colab_type": "text"
      },
      "source": [
        "<a href=\"https://colab.research.google.com/github/Denev6/practice/blob/main/transformer/emoberta_pytorch.ipynb\" target=\"_parent\"><img src=\"https://colab.research.google.com/assets/colab-badge.svg\" alt=\"Open In Colab\"/></a>"
      ]
    },
    {
      "cell_type": "code",
      "execution_count": null,
      "metadata": {
        "colab": {
          "base_uri": "https://localhost:8080/"
        },
        "id": "Kt9LGLSXyZpq",
        "outputId": "38b81aa7-16ca-4e15-8160-4a3d6d53bca9"
      },
      "outputs": [
        {
          "output_type": "stream",
          "name": "stdout",
          "text": [
            "Python 3.7.15\n"
          ]
        }
      ],
      "source": [
        "!python --version"
      ]
    },
    {
      "cell_type": "code",
      "execution_count": null,
      "metadata": {
        "id": "_qXlXpiWjwG8"
      },
      "outputs": [],
      "source": [
        "!pip install transformers\n",
        "\n",
        "import nltk\n",
        "\n",
        "nltk.download(\"punkt\")"
      ]
    },
    {
      "cell_type": "code",
      "execution_count": null,
      "metadata": {
        "id": "SskIfXoWvyS_"
      },
      "outputs": [],
      "source": [
        "import os\n",
        "import re\n",
        "import gc\n",
        "import warnings\n",
        "\n",
        "import numpy as np\n",
        "import pandas as pd\n",
        "from tqdm.auto import tqdm, trange\n",
        "import torch\n",
        "from torch.nn import CrossEntropyLoss\n",
        "from torch.utils.data import DataLoader, Dataset\n",
        "from transformers import AdamW, RobertaTokenizerFast, RobertaForSequenceClassification\n",
        "from nltk.tokenize import TweetTokenizer\n",
        "from sklearn.metrics import accuracy_score, f1_score\n",
        "from sklearn.model_selection import train_test_split\n",
        "from google.colab import drive\n",
        "\n",
        "drive.mount(\"/content/drive\")\n",
        "warnings.filterwarnings(\"ignore\")"
      ]
    },
    {
      "cell_type": "code",
      "execution_count": null,
      "metadata": {
        "id": "qLO55TxdfYuV"
      },
      "outputs": [],
      "source": [
        "def join_path(*args):\n",
        "    return os.path.join(\"/content/drive/MyDrive/DACON\", *args)\n",
        "\n",
        "\n",
        "DEVICE = torch.device(\"cuda\") if torch.cuda.is_available() else torch.device(\"cpu\")\n",
        "TRAIN_CSV = join_path(\"data\", \"train.csv\")\n",
        "TEST_CSV = join_path(\"data\", \"test.csv\")\n",
        "\n",
        "ARGS = {\n",
        "    \"model\": \"tae898/emoberta-large\",\n",
        "    \"model_path\": join_path(\"emoberta\", \"model.pth\"),\n",
        "    \"batch_size\": 8,\n",
        "    \"grad_step\": 8,\n",
        "    \"epochs\": 10,\n",
        "    \"max_len\": 256,\n",
        "    \"lr\": 1e-6,\n",
        "    \"patience\": 2,\n",
        "}"
      ]
    },
    {
      "cell_type": "code",
      "source": [
        "class EarlyStoppingCallback(object):\n",
        "    def __init__(self, patience=2):\n",
        "        self._min_eval_loss = np.inf\n",
        "        self._patience = patience\n",
        "        self.__counter = 0\n",
        "\n",
        "    def should_stop(self, eval_loss, model, save_path):\n",
        "        if eval_loss < self._min_eval_loss:\n",
        "            self._min_eval_loss = eval_loss\n",
        "            self.__counter = 0\n",
        "            torch.save(model.state_dict(), save_path)\n",
        "        elif eval_loss > self._min_eval_loss:\n",
        "            self.__counter += 1\n",
        "            if self.__counter >= self._patience:\n",
        "                return True\n",
        "        return False"
      ],
      "metadata": {
        "id": "cb1U4y-fyIzD"
      },
      "execution_count": null,
      "outputs": []
    },
    {
      "cell_type": "code",
      "source": [
        "class LabelEncoder(object):\n",
        "    def __init__(self):\n",
        "        self._targets = [\n",
        "            \"neutral\",\n",
        "            \"joy\",\n",
        "            \"surprise\",\n",
        "            \"anger\",\n",
        "            \"sadness\",\n",
        "            \"disgust\",\n",
        "            \"fear\",\n",
        "        ]\n",
        "        self.num_classes = len(self._targets)\n",
        "\n",
        "    def encode(self, label):\n",
        "        return self._targets.index(label)\n",
        "\n",
        "    def decode(self, label):\n",
        "        return self._targets[label]"
      ],
      "metadata": {
        "id": "97XA-GEZmc6s"
      },
      "execution_count": null,
      "outputs": []
    },
    {
      "cell_type": "code",
      "source": [
        "class EmoDataset(Dataset):\n",
        "    def __init__(\n",
        "        self,\n",
        "        data,\n",
        "        twt_tokenizer,\n",
        "        roberta_tokenizer,\n",
        "        label_encoder,\n",
        "        max_length=256,\n",
        "        mode=None,\n",
        "    ):\n",
        "        self._label_encoder = label_encoder\n",
        "        self._twt_tokenizer = twt_tokenizer\n",
        "        self._roberta_tokenizer = roberta_tokenizer\n",
        "        self._max_length = max_length\n",
        "        self._mode = mode\n",
        "        self._dataset = self._init_dataset(data)\n",
        "\n",
        "    def _init_dataset(self, data):\n",
        "        data[\"Utterance\"] = data[\"Utterance\"].map(self._preprocess)\n",
        "\n",
        "        if self._mode == \"train\":\n",
        "            data[\"Target\"] = data[\"Target\"].map(self._label_encoder.encode)\n",
        "            data = data.loc[:, [\"Utterance\", \"Target\"]]\n",
        "        else:\n",
        "            data = data.loc[:, \"Utterance\"]\n",
        "            data = data.to_frame()\n",
        "        return data\n",
        "\n",
        "    def __len__(self):\n",
        "        return len(self._dataset)\n",
        "\n",
        "    def __getitem__(self, idx):\n",
        "        text = self._dataset.loc[idx, \"Utterance\"]\n",
        "        inputs = self._roberta_tokenizer(\n",
        "            text,\n",
        "            max_length=self._max_length,\n",
        "            padding=\"max_length\",\n",
        "            truncation=True,\n",
        "            return_tensors=\"pt\",\n",
        "        )\n",
        "        input_ids = inputs[\"input_ids\"][0]\n",
        "        attention_mask = inputs[\"attention_mask\"][0]\n",
        "\n",
        "        if self._mode == \"train\":\n",
        "            y = self._dataset.loc[idx, \"Target\"]\n",
        "            return input_ids, attention_mask, y\n",
        "        else:\n",
        "            return input_ids, attention_mask\n",
        "\n",
        "    def _preprocess(self, sentence):\n",
        "        twt_tokens = self._twt_tokenizer.tokenize(sentence)\n",
        "        twt_tokens = self._shorten_repeated_words(twt_tokens)\n",
        "        twt_sentence = self._decode_tokens(twt_tokens)\n",
        "        return twt_sentence\n",
        "\n",
        "    def _shorten_repeated_words(self, tokens):\n",
        "        for i, token in enumerate(tokens):\n",
        "            if \"-\" in token:\n",
        "                token = token.split(\"-\")\n",
        "                token = \"-\".join(dict.fromkeys(token))\n",
        "                tokens[i] = token\n",
        "        return tokens\n",
        "\n",
        "    def _decode_tokens(self, tokens):\n",
        "        sentence = \" \".join(tokens)\n",
        "        marks = re.findall(r\"\\s\\W\\s*\", sentence)\n",
        "        for mark in marks:\n",
        "            if mark.strip() in [\"'\", \"’\"]:\n",
        "                sentence = sentence.replace(mark, mark.strip())\n",
        "            else:\n",
        "                sentence = sentence.replace(mark, mark.lstrip())\n",
        "        return sentence"
      ],
      "metadata": {
        "id": "K1SgoQR6u35N"
      },
      "execution_count": null,
      "outputs": []
    },
    {
      "cell_type": "markdown",
      "metadata": {
        "id": "vPDUHfujx2NN"
      },
      "source": [
        "# Dataset"
      ]
    },
    {
      "cell_type": "code",
      "execution_count": null,
      "metadata": {
        "id": "fFZRDzdWkoTz",
        "colab": {
          "base_uri": "https://localhost:8080/",
          "height": 206
        },
        "outputId": "76384e2e-b518-414f-9a37-a6d554a277d4"
      },
      "outputs": [
        {
          "output_type": "execute_result",
          "data": {
            "text/plain": [
              "              ID                                          Utterance  \\\n",
              "8349  TRAIN_8349                        Well yeah, sure, what’s up?   \n",
              "9518  TRAIN_9518  Y'know, I-I don't even feel like I know you an...   \n",
              "9042  TRAIN_9042                                             Do it!   \n",
              "9858  TRAIN_9858                                           Come on!   \n",
              "2012  TRAIN_2012                                            Action!   \n",
              "\n",
              "           Speaker  Dialogue_ID   Target  \n",
              "8349        Rachel          879  neutral  \n",
              "9518          Joey          994    anger  \n",
              "9042        Phoebe          946      joy  \n",
              "9858        Rachel         1025    anger  \n",
              "2012  The Director          209  neutral  "
            ],
            "text/html": [
              "\n",
              "  <div id=\"df-8eaedbaf-0b7a-41ee-8d03-2d3fc58590ba\">\n",
              "    <div class=\"colab-df-container\">\n",
              "      <div>\n",
              "<style scoped>\n",
              "    .dataframe tbody tr th:only-of-type {\n",
              "        vertical-align: middle;\n",
              "    }\n",
              "\n",
              "    .dataframe tbody tr th {\n",
              "        vertical-align: top;\n",
              "    }\n",
              "\n",
              "    .dataframe thead th {\n",
              "        text-align: right;\n",
              "    }\n",
              "</style>\n",
              "<table border=\"1\" class=\"dataframe\">\n",
              "  <thead>\n",
              "    <tr style=\"text-align: right;\">\n",
              "      <th></th>\n",
              "      <th>ID</th>\n",
              "      <th>Utterance</th>\n",
              "      <th>Speaker</th>\n",
              "      <th>Dialogue_ID</th>\n",
              "      <th>Target</th>\n",
              "    </tr>\n",
              "  </thead>\n",
              "  <tbody>\n",
              "    <tr>\n",
              "      <th>8349</th>\n",
              "      <td>TRAIN_8349</td>\n",
              "      <td>Well yeah, sure, what’s up?</td>\n",
              "      <td>Rachel</td>\n",
              "      <td>879</td>\n",
              "      <td>neutral</td>\n",
              "    </tr>\n",
              "    <tr>\n",
              "      <th>9518</th>\n",
              "      <td>TRAIN_9518</td>\n",
              "      <td>Y'know, I-I don't even feel like I know you an...</td>\n",
              "      <td>Joey</td>\n",
              "      <td>994</td>\n",
              "      <td>anger</td>\n",
              "    </tr>\n",
              "    <tr>\n",
              "      <th>9042</th>\n",
              "      <td>TRAIN_9042</td>\n",
              "      <td>Do it!</td>\n",
              "      <td>Phoebe</td>\n",
              "      <td>946</td>\n",
              "      <td>joy</td>\n",
              "    </tr>\n",
              "    <tr>\n",
              "      <th>9858</th>\n",
              "      <td>TRAIN_9858</td>\n",
              "      <td>Come on!</td>\n",
              "      <td>Rachel</td>\n",
              "      <td>1025</td>\n",
              "      <td>anger</td>\n",
              "    </tr>\n",
              "    <tr>\n",
              "      <th>2012</th>\n",
              "      <td>TRAIN_2012</td>\n",
              "      <td>Action!</td>\n",
              "      <td>The Director</td>\n",
              "      <td>209</td>\n",
              "      <td>neutral</td>\n",
              "    </tr>\n",
              "  </tbody>\n",
              "</table>\n",
              "</div>\n",
              "      <button class=\"colab-df-convert\" onclick=\"convertToInteractive('df-8eaedbaf-0b7a-41ee-8d03-2d3fc58590ba')\"\n",
              "              title=\"Convert this dataframe to an interactive table.\"\n",
              "              style=\"display:none;\">\n",
              "        \n",
              "  <svg xmlns=\"http://www.w3.org/2000/svg\" height=\"24px\"viewBox=\"0 0 24 24\"\n",
              "       width=\"24px\">\n",
              "    <path d=\"M0 0h24v24H0V0z\" fill=\"none\"/>\n",
              "    <path d=\"M18.56 5.44l.94 2.06.94-2.06 2.06-.94-2.06-.94-.94-2.06-.94 2.06-2.06.94zm-11 1L8.5 8.5l.94-2.06 2.06-.94-2.06-.94L8.5 2.5l-.94 2.06-2.06.94zm10 10l.94 2.06.94-2.06 2.06-.94-2.06-.94-.94-2.06-.94 2.06-2.06.94z\"/><path d=\"M17.41 7.96l-1.37-1.37c-.4-.4-.92-.59-1.43-.59-.52 0-1.04.2-1.43.59L10.3 9.45l-7.72 7.72c-.78.78-.78 2.05 0 2.83L4 21.41c.39.39.9.59 1.41.59.51 0 1.02-.2 1.41-.59l7.78-7.78 2.81-2.81c.8-.78.8-2.07 0-2.86zM5.41 20L4 18.59l7.72-7.72 1.47 1.35L5.41 20z\"/>\n",
              "  </svg>\n",
              "      </button>\n",
              "      \n",
              "  <style>\n",
              "    .colab-df-container {\n",
              "      display:flex;\n",
              "      flex-wrap:wrap;\n",
              "      gap: 12px;\n",
              "    }\n",
              "\n",
              "    .colab-df-convert {\n",
              "      background-color: #E8F0FE;\n",
              "      border: none;\n",
              "      border-radius: 50%;\n",
              "      cursor: pointer;\n",
              "      display: none;\n",
              "      fill: #1967D2;\n",
              "      height: 32px;\n",
              "      padding: 0 0 0 0;\n",
              "      width: 32px;\n",
              "    }\n",
              "\n",
              "    .colab-df-convert:hover {\n",
              "      background-color: #E2EBFA;\n",
              "      box-shadow: 0px 1px 2px rgba(60, 64, 67, 0.3), 0px 1px 3px 1px rgba(60, 64, 67, 0.15);\n",
              "      fill: #174EA6;\n",
              "    }\n",
              "\n",
              "    [theme=dark] .colab-df-convert {\n",
              "      background-color: #3B4455;\n",
              "      fill: #D2E3FC;\n",
              "    }\n",
              "\n",
              "    [theme=dark] .colab-df-convert:hover {\n",
              "      background-color: #434B5C;\n",
              "      box-shadow: 0px 1px 3px 1px rgba(0, 0, 0, 0.15);\n",
              "      filter: drop-shadow(0px 1px 2px rgba(0, 0, 0, 0.3));\n",
              "      fill: #FFFFFF;\n",
              "    }\n",
              "  </style>\n",
              "\n",
              "      <script>\n",
              "        const buttonEl =\n",
              "          document.querySelector('#df-8eaedbaf-0b7a-41ee-8d03-2d3fc58590ba button.colab-df-convert');\n",
              "        buttonEl.style.display =\n",
              "          google.colab.kernel.accessAllowed ? 'block' : 'none';\n",
              "\n",
              "        async function convertToInteractive(key) {\n",
              "          const element = document.querySelector('#df-8eaedbaf-0b7a-41ee-8d03-2d3fc58590ba');\n",
              "          const dataTable =\n",
              "            await google.colab.kernel.invokeFunction('convertToInteractive',\n",
              "                                                     [key], {});\n",
              "          if (!dataTable) return;\n",
              "\n",
              "          const docLinkHtml = 'Like what you see? Visit the ' +\n",
              "            '<a target=\"_blank\" href=https://colab.research.google.com/notebooks/data_table.ipynb>data table notebook</a>'\n",
              "            + ' to learn more about interactive tables.';\n",
              "          element.innerHTML = '';\n",
              "          dataTable['output_type'] = 'display_data';\n",
              "          await google.colab.output.renderOutput(dataTable, element);\n",
              "          const docLink = document.createElement('div');\n",
              "          docLink.innerHTML = docLinkHtml;\n",
              "          element.appendChild(docLink);\n",
              "        }\n",
              "      </script>\n",
              "    </div>\n",
              "  </div>\n",
              "  "
            ]
          },
          "metadata": {},
          "execution_count": 8
        }
      ],
      "source": [
        "train_csv = pd.read_csv(TRAIN_CSV)\n",
        "\n",
        "df_train, df_val = train_test_split(\n",
        "    train_csv, test_size=0.2, shuffle=True, random_state=42\n",
        ")\n",
        "df_train.head()"
      ]
    },
    {
      "cell_type": "code",
      "execution_count": null,
      "metadata": {
        "id": "2zxN5atGQDpz"
      },
      "outputs": [],
      "source": [
        "label_encoder = LabelEncoder()\n",
        "roberta_tokenizer = RobertaTokenizerFast.from_pretrained(ARGS[\"model\"], truncation=True)\n",
        "twt_tokenizer = nltk.tokenize.TweetTokenizer(\n",
        "    preserve_case=False, strip_handles=True, reduce_len=True\n",
        ")\n",
        "\n",
        "train_set = EmoDataset(\n",
        "    df_train.reset_index(drop=True),\n",
        "    twt_tokenizer,\n",
        "    roberta_tokenizer,\n",
        "    label_encoder,\n",
        "    max_length=ARGS[\"max_len\"],\n",
        "    mode=\"train\",\n",
        ")\n",
        "val_set = EmoDataset(\n",
        "    df_val.reset_index(drop=True),\n",
        "    twt_tokenizer,\n",
        "    roberta_tokenizer,\n",
        "    label_encoder,\n",
        "    max_length=ARGS[\"max_len\"],\n",
        "    mode=\"train\",\n",
        ")\n",
        "\n",
        "train_dataloader = DataLoader(train_set, batch_size=ARGS[\"batch_size\"])\n",
        "val_dataloader = DataLoader(val_set, batch_size=ARGS[\"batch_size\"])"
      ]
    },
    {
      "cell_type": "markdown",
      "metadata": {
        "id": "_sHLXyvHysyi"
      },
      "source": [
        "# Model"
      ]
    },
    {
      "cell_type": "code",
      "source": [
        "def evaluate(model, criterion, val_loader, device, mode=None):\n",
        "    model.eval()\n",
        "\n",
        "    val_loss = list()\n",
        "    model_preds = list()\n",
        "    true_labels = list()\n",
        "\n",
        "    with torch.no_grad():\n",
        "        for input_ids, attention_mask, label in val_loader:\n",
        "            label = label.to(device)\n",
        "            input_id = input_ids.to(device)\n",
        "            mask = attention_mask.to(device)\n",
        "\n",
        "            output = model(input_id, mask)\n",
        "\n",
        "            batch_loss = criterion(output.logits, label.long())\n",
        "            val_loss.append(batch_loss.item())\n",
        "\n",
        "            if mode != \"train\":\n",
        "                model_preds += output.logits.argmax(1).detach().cpu().numpy().tolist()\n",
        "                true_labels += label.detach().cpu().numpy().tolist()\n",
        "\n",
        "        if mode != \"train\":\n",
        "            val_acc = accuracy_score(true_labels, model_preds)\n",
        "            val_f1 = f1_score(true_labels, model_preds, average=\"macro\")\n",
        "            return val_acc, val_f1\n",
        "\n",
        "        return val_loss\n",
        "\n",
        "\n",
        "def train(model, optimizer, criterion, train_loader, val_loader, device):\n",
        "    torch.cuda.empty_cache()\n",
        "    gc.collect()\n",
        "\n",
        "    epoch_progress = trange(1, ARGS[\"epochs\"] + 1)\n",
        "    early_stopper = EarlyStoppingCallback(patience=ARGS[\"patience\"])\n",
        "    criterion.to(device)\n",
        "\n",
        "    grad_step = ARGS[\"grad_step\"]\n",
        "    model_path = ARGS[\"model_path\"]\n",
        "    model.to(device)\n",
        "    model.zero_grad()\n",
        "\n",
        "    for epoch in epoch_progress:\n",
        "\n",
        "        model.train()\n",
        "        train_loss = list()\n",
        "        for batch_id, data in enumerate(train_loader, start=1):\n",
        "\n",
        "            input_ids, attention_mask, train_label = data\n",
        "            train_label = train_label.to(device)\n",
        "            input_id = input_ids.to(device)\n",
        "            mask = attention_mask.to(device)\n",
        "\n",
        "            output = model(input_id, mask)\n",
        "\n",
        "            batch_loss = criterion(output.logits, train_label.long())\n",
        "            train_loss.append(batch_loss.item())\n",
        "\n",
        "            batch_loss /= grad_step\n",
        "            batch_loss.backward()\n",
        "\n",
        "            if batch_id % grad_step == 0:\n",
        "                optimizer.step()\n",
        "                model.zero_grad()\n",
        "\n",
        "        val_loss = evaluate(model, criterion, val_loader, device, mode=\"train\")\n",
        "        train_loss = np.mean(train_loss)\n",
        "        val_loss = np.mean(val_loss)\n",
        "        tqdm.write(\n",
        "            f\"Epoch {epoch}, Train-Loss: {train_loss:.5f},  Val-Loss: {val_loss:.5f}\"\n",
        "        )\n",
        "\n",
        "        if early_stopper.should_stop(val_loss, model, model_path):\n",
        "            model.load_state_dict(torch.load(model_path))\n",
        "            tqdm.write(f\"\\n\\n -- EarlyStoppingCallback: [Epoch: {epoch - ARGS['patience']}]\")\n",
        "            tqdm.write(f\"Model saved at '{model_path}'.\")\n",
        "            break\n",
        "\n",
        "    return model"
      ],
      "metadata": {
        "id": "TwCX_OUouxhu"
      },
      "execution_count": null,
      "outputs": []
    },
    {
      "cell_type": "code",
      "source": [
        "model = RobertaForSequenceClassification.from_pretrained(\n",
        "    ARGS[\"model\"], num_labels=label_encoder.num_classes\n",
        ")\n",
        "optimizer = AdamW(\n",
        "    model.parameters(), lr=ARGS[\"lr\"], weight_decay=1e-3, correct_bias=False\n",
        ")\n",
        "criterion = CrossEntropyLoss()"
      ],
      "metadata": {
        "id": "vT5x111SL9BA"
      },
      "execution_count": null,
      "outputs": []
    },
    {
      "cell_type": "code",
      "execution_count": null,
      "metadata": {
        "id": "6z0IrePhOh8V"
      },
      "outputs": [],
      "source": [
        "# 모델 학습\n",
        "best_model = train(\n",
        "    model, optimizer, criterion, train_dataloader, val_dataloader, DEVICE\n",
        ")"
      ]
    },
    {
      "cell_type": "code",
      "source": [
        "torch.cuda.empty_cache()\n",
        "gc.collect()\n",
        "\n",
        "val_acc, val_f1 = evaluate(best_model, criterion, val_dataloader, DEVICE)\n",
        "print(f\"Accuracy: {val_acc:.5f}\")\n",
        "print(f\"F1-macro: {val_f1:.5f}\")"
      ],
      "metadata": {
        "id": "_L0ke5pJCpQW"
      },
      "execution_count": null,
      "outputs": []
    },
    {
      "cell_type": "markdown",
      "metadata": {
        "id": "_N0YrTA2fGzo"
      },
      "source": [
        "# Prediction"
      ]
    },
    {
      "cell_type": "code",
      "execution_count": null,
      "metadata": {
        "id": "cVJXerY-m4rA"
      },
      "outputs": [],
      "source": [
        "# Test 데이터\n",
        "df_test = pd.read_csv(TEST_CSV)\n",
        "test_set = EmoDataset(\n",
        "    df_test.reset_index(drop=True),\n",
        "    twt_tokenizer,\n",
        "    roberta_tokenizer,\n",
        "    label_encoder,\n",
        "    max_length=ARGS[\"max_len\"],\n",
        ")\n",
        "test_dataloader = DataLoader(test_set, batch_size=ARGS[\"batch_size\"], shuffle=False)"
      ]
    },
    {
      "cell_type": "code",
      "execution_count": null,
      "metadata": {
        "id": "vzFz1q2DeJP0"
      },
      "outputs": [],
      "source": [
        "def predict(model, test_loader, device):\n",
        "    model.eval()\n",
        "    model_preds = list()\n",
        "\n",
        "    with torch.no_grad():\n",
        "        for input_ids, attention_mask in test_loader:\n",
        "            input_id = input_ids.to(device)\n",
        "            mask = attention_mask.to(device)\n",
        "\n",
        "            output = model(input_id, mask)\n",
        "            model_preds += output.logits.argmax(1).detach().cpu().numpy().tolist()\n",
        "        return model_preds"
      ]
    },
    {
      "cell_type": "code",
      "execution_count": null,
      "metadata": {
        "id": "sqHrQeI8eihJ"
      },
      "outputs": [],
      "source": [
        "# 레이블 예측\n",
        "preds = predict(best_model, test_dataloader, DEVICE)"
      ]
    },
    {
      "cell_type": "code",
      "execution_count": null,
      "metadata": {
        "id": "LeuRALPEvepl"
      },
      "outputs": [],
      "source": [
        "df_test[\"Target\"] = preds\n",
        "df_test[\"Target\"] = df_test[\"Target\"].map(label_encoder.decode)\n",
        "submit = df_test.loc[:, [\"ID\", \"Target\"]]\n",
        "submit.head()"
      ]
    },
    {
      "cell_type": "code",
      "execution_count": null,
      "metadata": {
        "id": "YrjvHa-nwqpp"
      },
      "outputs": [],
      "source": [
        "# 예측 값 저장\n",
        "submit.to_csv(join_path(\"emoberta\", \"submit.csv\"), index=False)"
      ]
    }
  ],
  "metadata": {
    "accelerator": "GPU",
    "colab": {
      "machine_shape": "hm",
      "provenance": [],
      "include_colab_link": true
    },
    "gpuClass": "premium",
    "kernelspec": {
      "display_name": "Python 3",
      "name": "python3"
    },
    "language_info": {
      "name": "python"
    }
  },
  "nbformat": 4,
  "nbformat_minor": 0
}