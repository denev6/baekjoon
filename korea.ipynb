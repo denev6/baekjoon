{
 "cells": [
  {
   "cell_type": "markdown",
   "metadata": {},
   "source": [
    "## 한국 (South Korea) 데이터 분석\n",
    "\n",
    "*표본이 적어 분석의 신뢰성이 부족함"
   ]
  },
  {
   "cell_type": "code",
   "execution_count": 37,
   "metadata": {},
   "outputs": [
    {
     "name": "stdout",
     "output_type": "stream",
     "text": [
      "2019: ['Overall rank', 'Country or region', 'Score', 'GDP per capita', 'Social support', 'Healthy life expectancy', 'Freedom to make life choices', 'Generosity', 'Perceptions of corruption']\n",
      "\n",
      "2018: ['Overall rank', 'Country or region', 'Score', 'GDP per capita', 'Social support', 'Healthy life expectancy', 'Freedom to make life choices', 'Generosity', 'Perceptions of corruption']\n",
      "\n",
      "2017: ['Country', 'Happiness.Rank', 'Happiness.Score', 'Whisker.high', 'Whisker.low', 'Economy..GDP.per.Capita.', 'Family', 'Health..Life.Expectancy.', 'Freedom', 'Generosity', 'Trust..Government.Corruption.', 'Dystopia.Residual']\n",
      "\n",
      "2016: ['Country', 'Region', 'Happiness Rank', 'Happiness Score', 'Lower Confidence Interval', 'Upper Confidence Interval', 'Economy (GDP per Capita)', 'Family', 'Health (Life Expectancy)', 'Freedom', 'Trust (Government Corruption)', 'Generosity', 'Dystopia Residual']\n",
      "\n",
      "2015: ['Country', 'Region', 'Happiness Rank', 'Happiness Score', 'Standard Error', 'Economy (GDP per Capita)', 'Family', 'Health (Life Expectancy)', 'Freedom', 'Trust (Government Corruption)', 'Generosity', 'Dystopia Residual']\n",
      "\n",
      "--- Target ---\n",
      "Country: South Korea\n",
      "columns: Score, GDP, Health, Freedom\n"
     ]
    }
   ],
   "source": [
    "import pandas as pd\n",
    "\n",
    "csv_2019 = pd.read_csv(\"datasets/2019.csv\", sep=\",\")\n",
    "df_2019 = pd.DataFrame(csv_2019)\n",
    "print(f\"2019: {df_2019.columns.tolist()}\\n\")\n",
    "# df_2019.head()\n",
    "\n",
    "csv_2018 = pd.read_csv(\"datasets/2018.csv\", sep=\",\")\n",
    "df_2018 = pd.DataFrame(csv_2018)\n",
    "print(f\"2018: {df_2018.columns.tolist()}\\n\")\n",
    "# df_2018.head()\n",
    "\n",
    "csv_2017 = pd.read_csv(\"datasets/2017.csv\", sep=\",\")\n",
    "df_2017 = pd.DataFrame(csv_2017)\n",
    "print(f\"2017: {df_2017.columns.tolist()}\\n\")\n",
    "# df_2017.head()\n",
    "\n",
    "csv_2016 = pd.read_csv(\"datasets/2016.csv\", sep=\",\")\n",
    "df_2016 = pd.DataFrame(csv_2016)\n",
    "print(f\"2016: {df_2016.columns.tolist()}\\n\")\n",
    "# df_2016.head()\n",
    "\n",
    "csv_2015 = pd.read_csv(\"datasets/2015.csv\", sep=\",\")\n",
    "df_2015 = pd.DataFrame(csv_2015)\n",
    "print(f\"2015: {df_2015.columns.tolist()}\\n\")\n",
    "# df_2015.head()\n",
    "\n",
    "COUNTRY = \"South Korea\"\n",
    "print(\"--- Target ---\")\n",
    "print(\"Country:\", COUNTRY)\n",
    "print(\"Features: Score, GDP, Health, Freedom\")"
   ]
  },
  {
   "cell_type": "markdown",
   "metadata": {},
   "source": [
    "---"
   ]
  },
  {
   "cell_type": "code",
   "execution_count": 38,
   "metadata": {},
   "outputs": [
    {
     "name": "stdout",
     "output_type": "stream",
     "text": [
      "2019: [5.895, 1.301, 1.036, 0.159]\n"
     ]
    }
   ],
   "source": [
    "col = [\"Score\", \"GDP per capita\", \"Healthy life expectancy\", \"Freedom to make life choices\"]\n",
    "\n",
    "sk_2019 = df_2019.loc[df_2019[\"Country or region\"] == COUNTRY, col]\n",
    "sk_2019 = sk_2019.values.flatten().tolist()\n",
    "print(\"2019:\", sk_2019)"
   ]
  },
  {
   "cell_type": "code",
   "execution_count": 39,
   "metadata": {},
   "outputs": [
    {
     "name": "stdout",
     "output_type": "stream",
     "text": [
      "2018: [5.875, 1.266, 0.955, 0.244]\n"
     ]
    }
   ],
   "source": [
    "# col = [\"Score\", \"GDP per capita\", \"Healthy life expectancy\", \"Freedom to make life choices\"]\n",
    "\n",
    "sk_2018 = df_2018.loc[df_2018[\"Country or region\"] == COUNTRY, col]\n",
    "sk_2018 = sk_2018.values.flatten().tolist()\n",
    "print(\"2018:\", sk_2018)"
   ]
  },
  {
   "cell_type": "code",
   "execution_count": 40,
   "metadata": {},
   "outputs": [
    {
     "name": "stdout",
     "output_type": "stream",
     "text": [
      "2017: [5.83799982070923, 1.40167844295502, 0.900214076042175, 0.257921665906906]\n"
     ]
    }
   ],
   "source": [
    "col = [\"Happiness.Score\", \"Economy..GDP.per.Capita.\", \"Health..Life.Expectancy.\", \"Freedom\"]\n",
    "\n",
    "sk_2017 = df_2017.loc[df_2017[\"Country\"] == COUNTRY, col]\n",
    "sk_2017 = sk_2017.values.flatten().tolist()\n",
    "print(\"2017:\", sk_2017)"
   ]
  },
  {
   "cell_type": "code",
   "execution_count": 41,
   "metadata": {},
   "outputs": [
    {
     "name": "stdout",
     "output_type": "stream",
     "text": [
      "2016: [5.835, 1.35948, 0.88645, 0.25168]\n"
     ]
    }
   ],
   "source": [
    "col = [\"Happiness Score\", \"Economy (GDP per Capita)\", \"Health (Life Expectancy)\", \"Freedom\"]\n",
    "\n",
    "sk_2016 = df_2016.loc[df_2016[\"Country\"] == COUNTRY, col]\n",
    "sk_2016 = sk_2016.values.flatten().tolist()\n",
    "print(\"2016:\", sk_2016)"
   ]
  },
  {
   "cell_type": "code",
   "execution_count": 42,
   "metadata": {},
   "outputs": [
    {
     "name": "stdout",
     "output_type": "stream",
     "text": [
      "2015: [5.984, 1.24461, 0.96538, 0.33208]\n"
     ]
    }
   ],
   "source": [
    "# col = [\"Happiness Score\", \"Economy (GDP per Capita)\", \"Health (Life Expectancy)\"]\n",
    "\n",
    "sk_2015 = df_2015.loc[df_2015[\"Country\"] == COUNTRY, col]\n",
    "sk_2015 = sk_2015.values.flatten().tolist()\n",
    "print(\"2015:\", sk_2015)"
   ]
  },
  {
   "cell_type": "code",
   "execution_count": 43,
   "metadata": {},
   "outputs": [
    {
     "data": {
      "text/html": [
       "<div>\n",
       "<style scoped>\n",
       "    .dataframe tbody tr th:only-of-type {\n",
       "        vertical-align: middle;\n",
       "    }\n",
       "\n",
       "    .dataframe tbody tr th {\n",
       "        vertical-align: top;\n",
       "    }\n",
       "\n",
       "    .dataframe thead th {\n",
       "        text-align: right;\n",
       "    }\n",
       "</style>\n",
       "<table border=\"1\" class=\"dataframe\">\n",
       "  <thead>\n",
       "    <tr style=\"text-align: right;\">\n",
       "      <th></th>\n",
       "      <th>Score</th>\n",
       "      <th>GDP</th>\n",
       "      <th>Health</th>\n",
       "      <th>Freedom</th>\n",
       "    </tr>\n",
       "    <tr>\n",
       "      <th>Year</th>\n",
       "      <th></th>\n",
       "      <th></th>\n",
       "      <th></th>\n",
       "      <th></th>\n",
       "    </tr>\n",
       "  </thead>\n",
       "  <tbody>\n",
       "    <tr>\n",
       "      <th>2015</th>\n",
       "      <td>5.984</td>\n",
       "      <td>1.244610</td>\n",
       "      <td>0.965380</td>\n",
       "      <td>0.332080</td>\n",
       "    </tr>\n",
       "    <tr>\n",
       "      <th>2016</th>\n",
       "      <td>5.835</td>\n",
       "      <td>1.359480</td>\n",
       "      <td>0.886450</td>\n",
       "      <td>0.251680</td>\n",
       "    </tr>\n",
       "    <tr>\n",
       "      <th>2017</th>\n",
       "      <td>5.838</td>\n",
       "      <td>1.401678</td>\n",
       "      <td>0.900214</td>\n",
       "      <td>0.257922</td>\n",
       "    </tr>\n",
       "    <tr>\n",
       "      <th>2018</th>\n",
       "      <td>5.875</td>\n",
       "      <td>1.266000</td>\n",
       "      <td>0.955000</td>\n",
       "      <td>0.244000</td>\n",
       "    </tr>\n",
       "    <tr>\n",
       "      <th>2019</th>\n",
       "      <td>5.895</td>\n",
       "      <td>1.301000</td>\n",
       "      <td>1.036000</td>\n",
       "      <td>0.159000</td>\n",
       "    </tr>\n",
       "  </tbody>\n",
       "</table>\n",
       "</div>"
      ],
      "text/plain": [
       "      Score       GDP    Health   Freedom\n",
       "Year                                     \n",
       "2015  5.984  1.244610  0.965380  0.332080\n",
       "2016  5.835  1.359480  0.886450  0.251680\n",
       "2017  5.838  1.401678  0.900214  0.257922\n",
       "2018  5.875  1.266000  0.955000  0.244000\n",
       "2019  5.895  1.301000  1.036000  0.159000"
      ]
     },
     "execution_count": 43,
     "metadata": {},
     "output_type": "execute_result"
    }
   ],
   "source": [
    "sk_data = {\"Year\": [], \"Score\": [], \"GDP\": [], \"Health\": [], \"Freedom\": []}\n",
    "year = 2015\n",
    "\n",
    "for data in (sk_2015, sk_2016, sk_2017, sk_2018, sk_2019):\n",
    "    sk_data[\"Year\"].append(year)\n",
    "    sk_data[\"Score\"].append(data[0])\n",
    "    sk_data[\"GDP\"].append(data[1])\n",
    "    sk_data[\"Health\"].append(data[2])\n",
    "    sk_data[\"Freedom\"].append(data[3])\n",
    "\n",
    "    year += 1\n",
    "\n",
    "df_sk = pd.DataFrame(sk_data)\n",
    "df_sk.set_index(\"Year\", inplace=True)\n",
    "df_sk"
   ]
  },
  {
   "cell_type": "code",
   "execution_count": 44,
   "metadata": {},
   "outputs": [
    {
     "data": {
      "text/html": [
       "<div>\n",
       "<style scoped>\n",
       "    .dataframe tbody tr th:only-of-type {\n",
       "        vertical-align: middle;\n",
       "    }\n",
       "\n",
       "    .dataframe tbody tr th {\n",
       "        vertical-align: top;\n",
       "    }\n",
       "\n",
       "    .dataframe thead th {\n",
       "        text-align: right;\n",
       "    }\n",
       "</style>\n",
       "<table border=\"1\" class=\"dataframe\">\n",
       "  <thead>\n",
       "    <tr style=\"text-align: right;\">\n",
       "      <th></th>\n",
       "      <th>Score</th>\n",
       "      <th>GDP</th>\n",
       "      <th>Health</th>\n",
       "      <th>Freedom</th>\n",
       "    </tr>\n",
       "  </thead>\n",
       "  <tbody>\n",
       "    <tr>\n",
       "      <th>Score</th>\n",
       "      <td>1.000000</td>\n",
       "      <td>-0.815747</td>\n",
       "      <td>0.544030</td>\n",
       "      <td>0.457519</td>\n",
       "    </tr>\n",
       "    <tr>\n",
       "      <th>GDP</th>\n",
       "      <td>-0.815747</td>\n",
       "      <td>1.000000</td>\n",
       "      <td>-0.622810</td>\n",
       "      <td>-0.215002</td>\n",
       "    </tr>\n",
       "    <tr>\n",
       "      <th>Health</th>\n",
       "      <td>0.544030</td>\n",
       "      <td>-0.622810</td>\n",
       "      <td>1.000000</td>\n",
       "      <td>-0.485389</td>\n",
       "    </tr>\n",
       "    <tr>\n",
       "      <th>Freedom</th>\n",
       "      <td>0.457519</td>\n",
       "      <td>-0.215002</td>\n",
       "      <td>-0.485389</td>\n",
       "      <td>1.000000</td>\n",
       "    </tr>\n",
       "  </tbody>\n",
       "</table>\n",
       "</div>"
      ],
      "text/plain": [
       "            Score       GDP    Health   Freedom\n",
       "Score    1.000000 -0.815747  0.544030  0.457519\n",
       "GDP     -0.815747  1.000000 -0.622810 -0.215002\n",
       "Health   0.544030 -0.622810  1.000000 -0.485389\n",
       "Freedom  0.457519 -0.215002 -0.485389  1.000000"
      ]
     },
     "execution_count": 44,
     "metadata": {},
     "output_type": "execute_result"
    }
   ],
   "source": [
    "df_sk.corr()"
   ]
  },
  {
   "cell_type": "code",
   "execution_count": 45,
   "metadata": {},
   "outputs": [
    {
     "data": {
      "image/png": "[encoded data removed]",
      "text/plain": [
       "<Figure size 576x432 with 1 Axes>"
      ]
     },
     "metadata": {
      "needs_background": "light"
     },
     "output_type": "display_data"
    }
   ],
   "source": [
    "import matplotlib.pyplot as plt\n",
    "\n",
    "years = df_sk.index\n",
    "cols = df_sk.columns\n",
    "\n",
    "plt.figure(figsize=(8, 6))\n",
    "for col in cols:\n",
    "    value = df_sk[col].values.flatten().tolist()\n",
    "    plt.scatter(years, value)\n",
    "    plt.plot(years, value, label=col)\n",
    "plt.xlabel(\"Year\")\n",
    "plt.xticks(years)\n",
    "plt.legend()\n",
    "\n",
    "plt.show()"
   ]
  }
 ],
 "metadata": {
  "kernelspec": {
   "display_name": "dataenv",
   "language": "python",
   "name": "dataenv"
  },
  "language_info": {
   "codemirror_mode": {
    "name": "ipython",
    "version": 3
   },
   "file_extension": ".py",
   "mimetype": "text/x-python",
   "name": "python",
   "nbconvert_exporter": "python",
   "pygments_lexer": "ipython3",
   "version": "3.8.11"
  }
 },
 "nbformat": 4,
 "nbformat_minor": 2
}
