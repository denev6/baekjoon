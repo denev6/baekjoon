{
  "cells": [
    {
      "cell_type": "markdown",
      "metadata": {
        "colab_type": "text",
        "id": "view-in-github"
      },
      "source": [
        "<a href=\"https://colab.research.google.com/github/Denev6/practice/blob/main/transformer/emoberta_pytorch.ipynb\" target=\"_parent\"><img src=\"https://colab.research.google.com/assets/colab-badge.svg\" alt=\"Open In Colab\"/></a>"
      ]
    },
    {
      "cell_type": "code",
      "execution_count": null,
      "metadata": {
        "colab": {
          "base_uri": "https://localhost:8080/"
        },
        "id": "Kt9LGLSXyZpq",
        "outputId": "3bf9a052-bee9-44c5-806a-98962ddd8262"
      },
      "outputs": [
        {
          "name": "stdout",
          "output_type": "stream",
          "text": [
            "Python 3.8.15\n"
          ]
        }
      ],
      "source": [
        "!python --version"
      ]
    },
    {
      "cell_type": "code",
      "execution_count": null,
      "metadata": {
        "id": "_qXlXpiWjwG8"
      },
      "outputs": [],
      "source": [
        "!pip install transformers\n",
        "\n",
        "import nltk\n",
        "nltk.download(\"punkt\")"
      ]
    },
    {
      "cell_type": "code",
      "execution_count": null,
      "metadata": {
        "id": "SskIfXoWvyS_"
      },
      "outputs": [],
      "source": [
        "import os\n",
        "import re\n",
        "import gc\n",
        "import warnings\n",
        "\n",
        "import numpy as np\n",
        "import pandas as pd\n",
        "from tqdm.auto import tqdm, trange\n",
        "import torch\n",
        "from torch.nn import CrossEntropyLoss\n",
        "from torch.optim.lr_scheduler import LambdaLR\n",
        "from torch.utils.data import DataLoader, Dataset\n",
        "from transformers import AdamW, RobertaTokenizerFast, RobertaForSequenceClassification\n",
        "from nltk.tokenize import TweetTokenizer\n",
        "from sklearn.metrics import accuracy_score, f1_score\n",
        "from sklearn.model_selection import train_test_split\n",
        "from google.colab import drive\n",
        "\n",
        "drive.mount(\"/content/drive\")\n",
        "warnings.filterwarnings(\"ignore\")"
      ]
    },
    {
      "cell_type": "code",
      "execution_count": null,
      "metadata": {
        "id": "qLO55TxdfYuV"
      },
      "outputs": [],
      "source": [
        "def join_path(*args):\n",
        "    return os.path.join(\"/content/drive/MyDrive\", *args)\n",
        "\n",
        "\n",
        "DEVICE = torch.device(\"cuda\") if torch.cuda.is_available() else torch.device(\"cpu\")\n",
        "TRAIN_CSV = join_path(\"data\", \"train.csv\")\n",
        "TEST_CSV = join_path(\"data\", \"test.csv\")\n",
        "\n",
        "ARGS = {\n",
        "    \"model\": \"tae898/emoberta-large\",\n",
        "    \"model_path\": join_path(\"emoberta\", \"model.pth\"),\n",
        "    \"batch_size\": 16,\n",
        "    \"grad_step\": 16,\n",
        "    \"epochs\": 10,\n",
        "    \"max_len\": 128,\n",
        "    \"lr\": 2e-7,\n",
        "    \"patience\": 3,\n",
        "}"
      ]
    },
    {
      "cell_type": "code",
      "execution_count": null,
      "metadata": {
        "id": "cb1U4y-fyIzD"
      },
      "outputs": [],
      "source": [
        "class EarlyStoppingCallback(object):\n",
        "    def __init__(self, patience=2):\n",
        "        self._min_eval_loss = np.inf\n",
        "        self._patience = patience\n",
        "        self.__counter = 0\n",
        "\n",
        "    def should_stop(self, eval_loss, model, save_path):\n",
        "        if eval_loss < self._min_eval_loss:\n",
        "            self._min_eval_loss = eval_loss\n",
        "            self.__counter = 0\n",
        "            torch.save(model.state_dict(), save_path)\n",
        "        elif eval_loss > self._min_eval_loss:\n",
        "            self.__counter += 1\n",
        "            if self.__counter >= self._patience:\n",
        "                return True\n",
        "        return False"
      ]
    },
    {
      "cell_type": "code",
      "execution_count": null,
      "metadata": {
        "id": "97XA-GEZmc6s"
      },
      "outputs": [],
      "source": [
        "class LabelEncoder(object):\n",
        "    def __init__(self):\n",
        "        self._targets = [\n",
        "            \"neutral\",\n",
        "            \"joy\",\n",
        "            \"surprise\",\n",
        "            \"anger\",\n",
        "            \"sadness\",\n",
        "            \"disgust\",\n",
        "            \"fear\",\n",
        "        ]\n",
        "        self.num_classes = len(self._targets)\n",
        "\n",
        "    def encode(self, label):\n",
        "        return self._targets.index(label)\n",
        "\n",
        "    def decode(self, label):\n",
        "        return self._targets[label]"
      ]
    },
    {
      "cell_type": "code",
      "execution_count": null,
      "metadata": {
        "id": "K1SgoQR6u35N"
      },
      "outputs": [],
      "source": [
        "class EmoDataset(Dataset):\n",
        "    def __init__(\n",
        "        self,\n",
        "        data,\n",
        "        twt_tokenizer,\n",
        "        roberta_tokenizer,\n",
        "        label_encoder,\n",
        "        max_length=256,\n",
        "        mode=None,\n",
        "    ):\n",
        "        self._label_encoder = label_encoder\n",
        "        self._twt_tokenizer = twt_tokenizer\n",
        "        self._roberta_tokenizer = roberta_tokenizer\n",
        "        self._max_length = max_length\n",
        "        self._mode = mode\n",
        "        self._dataset = self._init_dataset(data)\n",
        "\n",
        "    def _init_dataset(self, data):\n",
        "        data[\"Utterance\"] = data[\"Utterance\"].map(self._preprocess)\n",
        "\n",
        "        if self._mode == \"train\":\n",
        "            data[\"Target\"] = data[\"Target\"].map(self._label_encoder.encode)\n",
        "            data = data.loc[:, [\"Utterance\", \"Target\"]]\n",
        "        else:\n",
        "            data = data.loc[:, \"Utterance\"]\n",
        "            data = data.to_frame()\n",
        "        return data\n",
        "\n",
        "    def __len__(self):\n",
        "        return len(self._dataset)\n",
        "\n",
        "    def __getitem__(self, idx):\n",
        "        text = self._dataset.loc[idx, \"Utterance\"]\n",
        "        inputs = self._roberta_tokenizer(\n",
        "            text,\n",
        "            max_length=self._max_length,\n",
        "            padding=\"max_length\",\n",
        "            truncation=True,\n",
        "            return_tensors=\"pt\",\n",
        "        )\n",
        "        input_ids = inputs[\"input_ids\"][0]\n",
        "        attention_mask = inputs[\"attention_mask\"][0]\n",
        "\n",
        "        if self._mode == \"train\":\n",
        "            y = self._dataset.loc[idx, \"Target\"]\n",
        "            return input_ids, attention_mask, y\n",
        "        else:\n",
        "            return input_ids, attention_mask\n",
        "\n",
        "    def _preprocess(self, sentence):\n",
        "        twt_tokens = self._twt_tokenizer.tokenize(sentence)\n",
        "        twt_tokens = self._shorten_repeated_words(twt_tokens)\n",
        "        twt_sentence = self._decode_tokens(twt_tokens)\n",
        "        return twt_sentence\n",
        "\n",
        "    def _shorten_repeated_words(self, tokens):\n",
        "        for i, token in enumerate(tokens):\n",
        "            if \"-\" in token:\n",
        "                token = token.split(\"-\")\n",
        "                token = \"-\".join(dict.fromkeys(token))\n",
        "                tokens[i] = token\n",
        "        return tokens\n",
        "\n",
        "    def _decode_tokens(self, tokens):\n",
        "        sentence = \" \".join(tokens)\n",
        "        marks = re.findall(r\"\\s\\W\\s*\", sentence)\n",
        "        for mark in marks:\n",
        "            if mark.strip() in [\"'\", \"’\"]:\n",
        "                sentence = sentence.replace(mark, mark.strip())\n",
        "            else:\n",
        "                sentence = sentence.replace(mark, mark.lstrip())\n",
        "        return sentence"
      ]
    },
    {
      "cell_type": "markdown",
      "metadata": {
        "id": "vPDUHfujx2NN"
      },
      "source": [
        "# Dataset"
      ]
    },
    {
      "cell_type": "code",
      "execution_count": null,
      "metadata": {
        "id": "fFZRDzdWkoTz"
      },
      "outputs": [],
      "source": [
        "train_csv = pd.read_csv(TRAIN_CSV)\n",
        "\n",
        "df_train, df_val = train_test_split(\n",
        "    train_csv, test_size=0.2, shuffle=True, random_state=32\n",
        ")\n",
        "df_train.head()"
      ]
    },
    {
      "cell_type": "code",
      "execution_count": null,
      "metadata": {
        "id": "2zxN5atGQDpz"
      },
      "outputs": [],
      "source": [
        "label_encoder = LabelEncoder()\n",
        "roberta_tokenizer = RobertaTokenizerFast.from_pretrained(ARGS[\"model\"], truncation=True)\n",
        "twt_tokenizer = nltk.tokenize.TweetTokenizer(\n",
        "    preserve_case=False, strip_handles=True, reduce_len=True\n",
        ")\n",
        "\n",
        "train_set = EmoDataset(\n",
        "    df_train.reset_index(drop=True),\n",
        "    twt_tokenizer,\n",
        "    roberta_tokenizer,\n",
        "    label_encoder,\n",
        "    max_length=ARGS[\"max_len\"],\n",
        "    mode=\"train\",\n",
        ")\n",
        "val_set = EmoDataset(\n",
        "    df_val.reset_index(drop=True),\n",
        "    twt_tokenizer,\n",
        "    roberta_tokenizer,\n",
        "    label_encoder,\n",
        "    max_length=ARGS[\"max_len\"],\n",
        "    mode=\"train\",\n",
        ")\n",
        "\n",
        "train_dataloader = DataLoader(train_set, batch_size=ARGS[\"batch_size\"])\n",
        "val_dataloader = DataLoader(val_set, batch_size=ARGS[\"batch_size\"])"
      ]
    },
    {
      "cell_type": "markdown",
      "metadata": {
        "id": "_sHLXyvHysyi"
      },
      "source": [
        "# Model"
      ]
    },
    {
      "cell_type": "code",
      "execution_count": null,
      "metadata": {
        "id": "TwCX_OUouxhu"
      },
      "outputs": [],
      "source": [
        "def evaluate(model, criterion, val_loader, device, mode=None):\n",
        "    model.eval()\n",
        "\n",
        "    val_loss = list()\n",
        "    model_preds = list()\n",
        "    true_labels = list()\n",
        "\n",
        "    with torch.no_grad():\n",
        "        for input_ids, attention_mask, label in val_loader:\n",
        "            label = label.to(device)\n",
        "            input_id = input_ids.to(device)\n",
        "            mask = attention_mask.to(device)\n",
        "\n",
        "            output = model(input_id, mask)\n",
        "\n",
        "            batch_loss = criterion(output.logits, label.long())\n",
        "            val_loss.append(batch_loss.item())\n",
        "\n",
        "            if mode != \"train\":\n",
        "                model_preds += output.logits.argmax(1).detach().cpu().numpy().tolist()\n",
        "                true_labels += label.detach().cpu().numpy().tolist()\n",
        "\n",
        "        if mode != \"train\":\n",
        "            val_acc = accuracy_score(true_labels, model_preds)\n",
        "            val_f1 = f1_score(true_labels, model_preds, average=\"macro\")\n",
        "            return val_acc, val_f1\n",
        "\n",
        "        return val_loss\n",
        "\n",
        "\n",
        "def train(model, optimizer, scheduler, criterion, train_loader, val_loader, device):\n",
        "    torch.cuda.empty_cache()\n",
        "    gc.collect()\n",
        "\n",
        "    epoch_progress = trange(1, ARGS[\"epochs\"] + 1)\n",
        "    early_stopper = EarlyStoppingCallback(patience=ARGS[\"patience\"])\n",
        "    criterion.to(device)\n",
        "\n",
        "    grad_step = ARGS[\"grad_step\"]\n",
        "    model_path = ARGS[\"model_path\"]\n",
        "    model.to(device)\n",
        "    model.zero_grad()\n",
        "\n",
        "    for epoch in epoch_progress:\n",
        "\n",
        "        model.train()\n",
        "        train_loss = list()\n",
        "        for batch_id, data in enumerate(train_loader, start=1):\n",
        "\n",
        "            input_ids, attention_mask, train_label = data\n",
        "            train_label = train_label.to(device)\n",
        "            input_id = input_ids.to(device)\n",
        "            mask = attention_mask.to(device)\n",
        "\n",
        "            output = model(input_id, mask)\n",
        "\n",
        "            batch_loss = criterion(output.logits, train_label.long())\n",
        "            train_loss.append(batch_loss.item())\n",
        "\n",
        "            batch_loss /= grad_step\n",
        "            batch_loss.backward()\n",
        "\n",
        "            if batch_id % grad_step == 0:\n",
        "                optimizer.step()\n",
        "                model.zero_grad()\n",
        "\n",
        "        val_loss = evaluate(model, criterion, val_loader, device, mode=\"train\")\n",
        "        train_loss = np.mean(train_loss)\n",
        "        val_loss = np.mean(val_loss)\n",
        "        tqdm.write(\n",
        "            f\"Epoch {epoch}, Train-Loss: {train_loss:.5f},  Val-Loss: {val_loss:.5f}\"\n",
        "        )\n",
        "\n",
        "        if early_stopper.should_stop(val_loss, model, model_path):\n",
        "            tqdm.write(\n",
        "                f\"\\n\\n -- EarlyStoppingCallback: [Epoch: {epoch - ARGS['patience']}]\"\n",
        "            )\n",
        "            tqdm.write(f\"Model saved at '{model_path}'.\")\n",
        "            break\n",
        "\n",
        "        scheduler.step()\n",
        "\n",
        "    model.load_state_dict(torch.load(model_path))\n",
        "    return model"
      ]
    },
    {
      "cell_type": "code",
      "execution_count": null,
      "metadata": {
        "id": "vT5x111SL9BA"
      },
      "outputs": [],
      "source": [
        "model = RobertaForSequenceClassification.from_pretrained(\n",
        "    ARGS[\"model\"], num_labels=label_encoder.num_classes\n",
        ")\n",
        "optimizer = AdamW(\n",
        "    model.parameters(), lr=ARGS[\"lr\"], weight_decay=0.01, correct_bias=False\n",
        ")\n",
        "scheduler = LambdaLR(\n",
        "    optimizer, lr_lambda=lambda epoch: 0.9**epoch\n",
        ")\n",
        "criterion = CrossEntropyLoss()"
      ]
    },
    {
      "cell_type": "code",
      "execution_count": null,
      "metadata": {
        "colab": {
          "base_uri": "https://localhost:8080/",
          "height": 223,
          "referenced_widgets": [
            "b95c6339fba24c839c13239f72d83c90",
            "cf3b3dc1d50a425bb2e9b8fda3cfe5f5",
            "11e3ad89cab94f2e822d7b4268bc6afe",
            "bf094ec021bd491a95cc04e1e74dac9f",
            "0f944d2df2f04c6db67bb3333b7a1510",
            "a9687814deed4eff8437121369f7b47c",
            "702ceef123474f08922daa6f1fcf8e0a",
            "0a6adcc32ebf4d13baa7e408a524dc17",
            "f20fd6075f5a49848080751cd541dc71",
            "799867a9d75d4a6687ee7a60de545fe6",
            "f5e8a2a2f02a46ab8276405d99e5fe43"
          ]
        },
        "id": "6z0IrePhOh8V",
        "outputId": "40704001-451c-4c67-9da4-c08573dd681c"
      },
      "outputs": [
        {
          "data": {
            "application/vnd.jupyter.widget-view+json": {
              "model_id": "b95c6339fba24c839c13239f72d83c90",
              "version_major": 2,
              "version_minor": 0
            },
            "text/plain": [
              "  0%|          | 0/10 [00:00<?, ?it/s]"
            ]
          },
          "metadata": {},
          "output_type": "display_data"
        },
        {
          "name": "stdout",
          "output_type": "stream",
          "text": [
            "Epoch 1, Train-Loss: 0.80629,  Val-Loss: 0.71173\n",
            "Epoch 2, Train-Loss: 0.76730,  Val-Loss: 0.70175\n",
            "Epoch 3, Train-Loss: 0.75254,  Val-Loss: 0.69951\n",
            "Epoch 4, Train-Loss: 0.73206,  Val-Loss: 0.69772\n",
            "Epoch 5, Train-Loss: 0.73479,  Val-Loss: 0.69568\n",
            "Epoch 6, Train-Loss: 0.73115,  Val-Loss: 0.69503\n",
            "Epoch 7, Train-Loss: 0.72855,  Val-Loss: 0.69455\n",
            "Epoch 8, Train-Loss: 0.72563,  Val-Loss: 0.69418\n",
            "Epoch 9, Train-Loss: 0.72715,  Val-Loss: 0.69421\n",
            "Epoch 10, Train-Loss: 0.71470,  Val-Loss: 0.69442\n"
          ]
        }
      ],
      "source": [
        "best_model = train(\n",
        "    model, optimizer, scheduler, criterion, train_dataloader, val_dataloader, DEVICE\n",
        ")"
      ]
    },
    {
      "cell_type": "code",
      "execution_count": null,
      "metadata": {
        "colab": {
          "base_uri": "https://localhost:8080/"
        },
        "id": "_L0ke5pJCpQW",
        "outputId": "58814804-a245-4ed5-fed1-87c3dcf434e9"
      },
      "outputs": [
        {
          "name": "stdout",
          "output_type": "stream",
          "text": [
            "Accuracy: 0.78328\n",
            "F1-macro: 0.66372\n"
          ]
        }
      ],
      "source": [
        "torch.cuda.empty_cache()\n",
        "gc.collect()\n",
        "\n",
        "val_acc, val_f1 = evaluate(best_model, criterion, val_dataloader, DEVICE)\n",
        "print(f\"Accuracy: {val_acc:.5f}\")\n",
        "print(f\"F1-macro: {val_f1:.5f}\")"
      ]
    },
    {
      "cell_type": "markdown",
      "metadata": {
        "id": "_N0YrTA2fGzo"
      },
      "source": [
        "# Prediction"
      ]
    },
    {
      "cell_type": "code",
      "execution_count": null,
      "metadata": {
        "id": "cVJXerY-m4rA"
      },
      "outputs": [],
      "source": [
        "df_test = pd.read_csv(TEST_CSV)\n",
        "test_set = EmoDataset(\n",
        "    df_test.reset_index(drop=True),\n",
        "    twt_tokenizer,\n",
        "    roberta_tokenizer,\n",
        "    label_encoder,\n",
        "    max_length=ARGS[\"max_len\"],\n",
        ")\n",
        "test_dataloader = DataLoader(test_set, batch_size=ARGS[\"batch_size\"], shuffle=False)"
      ]
    },
    {
      "cell_type": "code",
      "execution_count": null,
      "metadata": {
        "id": "vzFz1q2DeJP0"
      },
      "outputs": [],
      "source": [
        "def predict(model, test_loader, device):\n",
        "    model.eval()\n",
        "    model_preds = list()\n",
        "\n",
        "    with torch.no_grad():\n",
        "        for input_ids, attention_mask in test_loader:\n",
        "            input_id = input_ids.to(device)\n",
        "            mask = attention_mask.to(device)\n",
        "\n",
        "            output = model(input_id, mask)\n",
        "            model_preds += output.logits.argmax(1).detach().cpu().numpy().tolist()\n",
        "        return model_preds"
      ]
    },
    {
      "cell_type": "code",
      "execution_count": null,
      "metadata": {
        "id": "sqHrQeI8eihJ"
      },
      "outputs": [],
      "source": [
        "preds = predict(best_model, test_dataloader, DEVICE)"
      ]
    },
    {
      "cell_type": "code",
      "execution_count": null,
      "metadata": {
        "id": "LeuRALPEvepl"
      },
      "outputs": [],
      "source": [
        "df_test[\"Target\"] = preds\n",
        "df_test[\"Target\"] = df_test[\"Target\"].map(label_encoder.decode)\n",
        "submit = df_test.loc[:, [\"ID\", \"Target\"]]\n",
        "submit.head()"
      ]
    },
    {
      "cell_type": "code",
      "execution_count": null,
      "metadata": {
        "id": "YrjvHa-nwqpp"
      },
      "outputs": [],
      "source": [
        "submit.to_csv(join_path(\"emoberta\", \"submit.csv\"), index=False)"
      ]
    }
  ],
  "metadata": {
    "accelerator": "GPU",
    "colab": {
      "include_colab_link": true,
      "machine_shape": "hm",
      "provenance": []
    },
    "gpuClass": "premium",
    "kernelspec": {
      "display_name": "Python 3",
      "name": "python3"
    },
    "language_info": {
      "name": "python"
    },
    "widgets": {
      "application/vnd.jupyter.widget-state+json": {
        "0a6adcc32ebf4d13baa7e408a524dc17": {
          "model_module": "@jupyter-widgets/base",
          "model_module_version": "1.2.0",
          "model_name": "LayoutModel",
          "state": {
            "_model_module": "@jupyter-widgets/base",
            "_model_module_version": "1.2.0",
            "_model_name": "LayoutModel",
            "_view_count": null,
            "_view_module": "@jupyter-widgets/base",
            "_view_module_version": "1.2.0",
            "_view_name": "LayoutView",
            "align_content": null,
            "align_items": null,
            "align_self": null,
            "border": null,
            "bottom": null,
            "display": null,
            "flex": null,
            "flex_flow": null,
            "grid_area": null,
            "grid_auto_columns": null,
            "grid_auto_flow": null,
            "grid_auto_rows": null,
            "grid_column": null,
            "grid_gap": null,
            "grid_row": null,
            "grid_template_areas": null,
            "grid_template_columns": null,
            "grid_template_rows": null,
            "height": null,
            "justify_content": null,
            "justify_items": null,
            "left": null,
            "margin": null,
            "max_height": null,
            "max_width": null,
            "min_height": null,
            "min_width": null,
            "object_fit": null,
            "object_position": null,
            "order": null,
            "overflow": null,
            "overflow_x": null,
            "overflow_y": null,
            "padding": null,
            "right": null,
            "top": null,
            "visibility": null,
            "width": null
          }
        },
        "0f944d2df2f04c6db67bb3333b7a1510": {
          "model_module": "@jupyter-widgets/base",
          "model_module_version": "1.2.0",
          "model_name": "LayoutModel",
          "state": {
            "_model_module": "@jupyter-widgets/base",
            "_model_module_version": "1.2.0",
            "_model_name": "LayoutModel",
            "_view_count": null,
            "_view_module": "@jupyter-widgets/base",
            "_view_module_version": "1.2.0",
            "_view_name": "LayoutView",
            "align_content": null,
            "align_items": null,
            "align_self": null,
            "border": null,
            "bottom": null,
            "display": null,
            "flex": null,
            "flex_flow": null,
            "grid_area": null,
            "grid_auto_columns": null,
            "grid_auto_flow": null,
            "grid_auto_rows": null,
            "grid_column": null,
            "grid_gap": null,
            "grid_row": null,
            "grid_template_areas": null,
            "grid_template_columns": null,
            "grid_template_rows": null,
            "height": null,
            "justify_content": null,
            "justify_items": null,
            "left": null,
            "margin": null,
            "max_height": null,
            "max_width": null,
            "min_height": null,
            "min_width": null,
            "object_fit": null,
            "object_position": null,
            "order": null,
            "overflow": null,
            "overflow_x": null,
            "overflow_y": null,
            "padding": null,
            "right": null,
            "top": null,
            "visibility": null,
            "width": null
          }
        },
        "11e3ad89cab94f2e822d7b4268bc6afe": {
          "model_module": "@jupyter-widgets/controls",
          "model_module_version": "1.5.0",
          "model_name": "FloatProgressModel",
          "state": {
            "_dom_classes": [],
            "_model_module": "@jupyter-widgets/controls",
            "_model_module_version": "1.5.0",
            "_model_name": "FloatProgressModel",
            "_view_count": null,
            "_view_module": "@jupyter-widgets/controls",
            "_view_module_version": "1.5.0",
            "_view_name": "ProgressView",
            "bar_style": "success",
            "description": "",
            "description_tooltip": null,
            "layout": "IPY_MODEL_0a6adcc32ebf4d13baa7e408a524dc17",
            "max": 10,
            "min": 0,
            "orientation": "horizontal",
            "style": "IPY_MODEL_f20fd6075f5a49848080751cd541dc71",
            "value": 10
          }
        },
        "702ceef123474f08922daa6f1fcf8e0a": {
          "model_module": "@jupyter-widgets/controls",
          "model_module_version": "1.5.0",
          "model_name": "DescriptionStyleModel",
          "state": {
            "_model_module": "@jupyter-widgets/controls",
            "_model_module_version": "1.5.0",
            "_model_name": "DescriptionStyleModel",
            "_view_count": null,
            "_view_module": "@jupyter-widgets/base",
            "_view_module_version": "1.2.0",
            "_view_name": "StyleView",
            "description_width": ""
          }
        },
        "799867a9d75d4a6687ee7a60de545fe6": {
          "model_module": "@jupyter-widgets/base",
          "model_module_version": "1.2.0",
          "model_name": "LayoutModel",
          "state": {
            "_model_module": "@jupyter-widgets/base",
            "_model_module_version": "1.2.0",
            "_model_name": "LayoutModel",
            "_view_count": null,
            "_view_module": "@jupyter-widgets/base",
            "_view_module_version": "1.2.0",
            "_view_name": "LayoutView",
            "align_content": null,
            "align_items": null,
            "align_self": null,
            "border": null,
            "bottom": null,
            "display": null,
            "flex": null,
            "flex_flow": null,
            "grid_area": null,
            "grid_auto_columns": null,
            "grid_auto_flow": null,
            "grid_auto_rows": null,
            "grid_column": null,
            "grid_gap": null,
            "grid_row": null,
            "grid_template_areas": null,
            "grid_template_columns": null,
            "grid_template_rows": null,
            "height": null,
            "justify_content": null,
            "justify_items": null,
            "left": null,
            "margin": null,
            "max_height": null,
            "max_width": null,
            "min_height": null,
            "min_width": null,
            "object_fit": null,
            "object_position": null,
            "order": null,
            "overflow": null,
            "overflow_x": null,
            "overflow_y": null,
            "padding": null,
            "right": null,
            "top": null,
            "visibility": null,
            "width": null
          }
        },
        "a9687814deed4eff8437121369f7b47c": {
          "model_module": "@jupyter-widgets/base",
          "model_module_version": "1.2.0",
          "model_name": "LayoutModel",
          "state": {
            "_model_module": "@jupyter-widgets/base",
            "_model_module_version": "1.2.0",
            "_model_name": "LayoutModel",
            "_view_count": null,
            "_view_module": "@jupyter-widgets/base",
            "_view_module_version": "1.2.0",
            "_view_name": "LayoutView",
            "align_content": null,
            "align_items": null,
            "align_self": null,
            "border": null,
            "bottom": null,
            "display": null,
            "flex": null,
            "flex_flow": null,
            "grid_area": null,
            "grid_auto_columns": null,
            "grid_auto_flow": null,
            "grid_auto_rows": null,
            "grid_column": null,
            "grid_gap": null,
            "grid_row": null,
            "grid_template_areas": null,
            "grid_template_columns": null,
            "grid_template_rows": null,
            "height": null,
            "justify_content": null,
            "justify_items": null,
            "left": null,
            "margin": null,
            "max_height": null,
            "max_width": null,
            "min_height": null,
            "min_width": null,
            "object_fit": null,
            "object_position": null,
            "order": null,
            "overflow": null,
            "overflow_x": null,
            "overflow_y": null,
            "padding": null,
            "right": null,
            "top": null,
            "visibility": null,
            "width": null
          }
        },
        "b95c6339fba24c839c13239f72d83c90": {
          "model_module": "@jupyter-widgets/controls",
          "model_module_version": "1.5.0",
          "model_name": "HBoxModel",
          "state": {
            "_dom_classes": [],
            "_model_module": "@jupyter-widgets/controls",
            "_model_module_version": "1.5.0",
            "_model_name": "HBoxModel",
            "_view_count": null,
            "_view_module": "@jupyter-widgets/controls",
            "_view_module_version": "1.5.0",
            "_view_name": "HBoxView",
            "box_style": "",
            "children": [
              "IPY_MODEL_cf3b3dc1d50a425bb2e9b8fda3cfe5f5",
              "IPY_MODEL_11e3ad89cab94f2e822d7b4268bc6afe",
              "IPY_MODEL_bf094ec021bd491a95cc04e1e74dac9f"
            ],
            "layout": "IPY_MODEL_0f944d2df2f04c6db67bb3333b7a1510"
          }
        },
        "bf094ec021bd491a95cc04e1e74dac9f": {
          "model_module": "@jupyter-widgets/controls",
          "model_module_version": "1.5.0",
          "model_name": "HTMLModel",
          "state": {
            "_dom_classes": [],
            "_model_module": "@jupyter-widgets/controls",
            "_model_module_version": "1.5.0",
            "_model_name": "HTMLModel",
            "_view_count": null,
            "_view_module": "@jupyter-widgets/controls",
            "_view_module_version": "1.5.0",
            "_view_name": "HTMLView",
            "description": "",
            "description_tooltip": null,
            "layout": "IPY_MODEL_799867a9d75d4a6687ee7a60de545fe6",
            "placeholder": "​",
            "style": "IPY_MODEL_f5e8a2a2f02a46ab8276405d99e5fe43",
            "value": " 10/10 [1:38:18&lt;00:00, 588.17s/it]"
          }
        },
        "cf3b3dc1d50a425bb2e9b8fda3cfe5f5": {
          "model_module": "@jupyter-widgets/controls",
          "model_module_version": "1.5.0",
          "model_name": "HTMLModel",
          "state": {
            "_dom_classes": [],
            "_model_module": "@jupyter-widgets/controls",
            "_model_module_version": "1.5.0",
            "_model_name": "HTMLModel",
            "_view_count": null,
            "_view_module": "@jupyter-widgets/controls",
            "_view_module_version": "1.5.0",
            "_view_name": "HTMLView",
            "description": "",
            "description_tooltip": null,
            "layout": "IPY_MODEL_a9687814deed4eff8437121369f7b47c",
            "placeholder": "​",
            "style": "IPY_MODEL_702ceef123474f08922daa6f1fcf8e0a",
            "value": "100%"
          }
        },
        "f20fd6075f5a49848080751cd541dc71": {
          "model_module": "@jupyter-widgets/controls",
          "model_module_version": "1.5.0",
          "model_name": "ProgressStyleModel",
          "state": {
            "_model_module": "@jupyter-widgets/controls",
            "_model_module_version": "1.5.0",
            "_model_name": "ProgressStyleModel",
            "_view_count": null,
            "_view_module": "@jupyter-widgets/base",
            "_view_module_version": "1.2.0",
            "_view_name": "StyleView",
            "bar_color": null,
            "description_width": ""
          }
        },
        "f5e8a2a2f02a46ab8276405d99e5fe43": {
          "model_module": "@jupyter-widgets/controls",
          "model_module_version": "1.5.0",
          "model_name": "DescriptionStyleModel",
          "state": {
            "_model_module": "@jupyter-widgets/controls",
            "_model_module_version": "1.5.0",
            "_model_name": "DescriptionStyleModel",
            "_view_count": null,
            "_view_module": "@jupyter-widgets/base",
            "_view_module_version": "1.2.0",
            "_view_name": "StyleView",
            "description_width": ""
          }
        }
      }
    }
  },
  "nbformat": 4,
  "nbformat_minor": 0
}
