{
  "cells": [
    {
      "cell_type": "markdown",
      "metadata": {
        "colab_type": "text",
        "id": "view-in-github"
      },
      "source": [
        "<a href=\"https://colab.research.google.com/github/Denev6/practice/blob/main/transformer/RoBERTa_pytorch.ipynb\" target=\"_parent\"><img src=\"https://colab.research.google.com/assets/colab-badge.svg\" alt=\"Open In Colab\"/></a>"
      ]
    },
    {
      "cell_type": "markdown",
      "metadata": {
        "id": "3hXfrn6iDN_A"
      },
      "source": [
        "# Fine-tuned RoBERTa\n",
        "- [EmoBERTa-large](https://github.com/tae898/erc)\n",
        "- [MIT LICENSE](https://github.com/tae898/erc/blob/main/LICENSE)"
      ]
    },
    {
      "cell_type": "code",
      "execution_count": null,
      "metadata": {
        "colab": {
          "base_uri": "https://localhost:8080/"
        },
        "id": "Kt9LGLSXyZpq",
        "outputId": "708a92f3-8645-4347-ddbc-f5fb9b786e30"
      },
      "outputs": [
        {
          "name": "stdout",
          "output_type": "stream",
          "text": [
            "Python 3.8.15\n"
          ]
        }
      ],
      "source": [
        "!python --version"
      ]
    },
    {
      "cell_type": "code",
      "execution_count": null,
      "metadata": {
        "id": "_qXlXpiWjwG8"
      },
      "outputs": [],
      "source": [
        "!pip install transformers\n",
        "\n",
        "import nltk\n",
        "\n",
        "nltk.download(\"punkt\")"
      ]
    },
    {
      "cell_type": "code",
      "execution_count": null,
      "metadata": {
        "id": "SskIfXoWvyS_"
      },
      "outputs": [],
      "source": [
        "import os\n",
        "import re\n",
        "import gc\n",
        "import warnings\n",
        "\n",
        "import numpy as np\n",
        "import pandas as pd\n",
        "from tqdm.auto import tqdm, trange\n",
        "import torch\n",
        "import torch.nn as nn\n",
        "from torch.optim.lr_scheduler import LambdaLR\n",
        "from torch.utils.data import DataLoader, Dataset\n",
        "from transformers import AdamW, RobertaTokenizerFast, RobertaForSequenceClassification\n",
        "from nltk.tokenize import TweetTokenizer\n",
        "from sklearn.metrics import accuracy_score, f1_score\n",
        "from sklearn.model_selection import train_test_split\n",
        "from google.colab import drive\n",
        "\n",
        "drive.mount(\"/content/drive\")\n",
        "warnings.filterwarnings(\"ignore\")"
      ]
    },
    {
      "cell_type": "code",
      "execution_count": null,
      "metadata": {
        "id": "qLO55TxdfYuV"
      },
      "outputs": [],
      "source": [
        "def join_path(*args):\n",
        "    return os.path.join(\"/content/drive/MyDrive\", *args)\n",
        "\n",
        "\n",
        "DEVICE = torch.device(\"cuda\") if torch.cuda.is_available() else torch.device(\"cpu\")\n",
        "TRAIN_CSV = join_path(\"data\", \"train.csv\")\n",
        "TEST_CSV = join_path(\"data\", \"test.csv\")\n",
        "\n",
        "ARGS = {\n",
        "    \"model\": \"tae898/emoberta-large\",\n",
        "    \"model_path\": join_path(\"model.pth\"),\n",
        "    \"batch_size\": 8,\n",
        "    \"grad_step\": 8,\n",
        "    \"epochs\": 10,\n",
        "    \"max_len\": 128,\n",
        "    \"lr\": 3e-6,\n",
        "    \"patience\": 2,\n",
        "}"
      ]
    },
    {
      "cell_type": "markdown",
      "metadata": {
        "id": "ftQ5vdDJq1ly"
      },
      "source": [
        "## Utils"
      ]
    },
    {
      "cell_type": "code",
      "execution_count": null,
      "metadata": {
        "id": "cb1U4y-fyIzD"
      },
      "outputs": [],
      "source": [
        "class EarlyStopping(object):\n",
        "    def __init__(self, patience, save_path):\n",
        "        self._max_score = 0\n",
        "        self._patience = patience\n",
        "        self._path = save_path\n",
        "        self.__counter = 0\n",
        "\n",
        "    def should_stop(self, model, score):\n",
        "        if score > self._max_score:\n",
        "            self._max_score = score\n",
        "            self.__counter = 0\n",
        "            torch.save(model.state_dict(), self._path)\n",
        "        elif score < self._max_score:\n",
        "            self.__counter += 1\n",
        "            if self.__counter >= self._patience:\n",
        "                return True\n",
        "        return False\n",
        "\n",
        "    def load(self, model):\n",
        "        model.load_state_dict(torch.load(self._path))\n",
        "        return model\n",
        "\n",
        "    @property\n",
        "    def counter(self):\n",
        "        return self.__counter"
      ]
    },
    {
      "cell_type": "code",
      "execution_count": null,
      "metadata": {
        "id": "97XA-GEZmc6s"
      },
      "outputs": [],
      "source": [
        "class LabelEncoder(object):\n",
        "    def __init__(self):\n",
        "        self._targets = [\n",
        "            \"neutral\",\n",
        "            \"joy\",\n",
        "            \"surprise\",\n",
        "            \"anger\",\n",
        "            \"sadness\",\n",
        "            \"disgust\",\n",
        "            \"fear\",\n",
        "        ]\n",
        "        self.num_classes = len(self._targets)\n",
        "\n",
        "    def encode(self, label):\n",
        "        return self._targets.index(label)\n",
        "\n",
        "    def decode(self, label):\n",
        "        return self._targets[label]"
      ]
    },
    {
      "cell_type": "code",
      "execution_count": null,
      "metadata": {
        "id": "SGjbtJU2Om49"
      },
      "outputs": [],
      "source": [
        "class DataProcessor(object):\n",
        "    def __init__(self, label_encoder):\n",
        "        self._twt_tokenizer = TweetTokenizer(\n",
        "            preserve_case=True, strip_handles=True, reduce_len=True\n",
        "        )\n",
        "        self._label_encoder = label_encoder\n",
        "        self._char_dict = {\n",
        "            \"–\": \"-\",\n",
        "            \"—\": \"-\",\n",
        "        }\n",
        "\n",
        "    def process(self, data, mode, do_preprocess=False):\n",
        "        data = data.reset_index(drop=True)\n",
        "        if mode == \"train\":\n",
        "            if do_preprocess:\n",
        "                data[\"Utterance\"] = data[\"Utterance\"].map(self._process)\n",
        "            data[\"Target\"] = data[\"Target\"].map(self._label_encoder.encode)\n",
        "            data = data.loc[:, [\"Utterance\", \"Target\"]]\n",
        "        elif mode == \"test\":\n",
        "            data = data.loc[:, [\"ID\", \"Utterance\"]]\n",
        "        return data\n",
        "\n",
        "    def _process(self, sentence):\n",
        "        sentence = self.__unify_char(sentence)\n",
        "        tokens = self._twt_tokenizer.tokenize(sentence)\n",
        "        tokens = self.__shorten_repeated_tokens(tokens)\n",
        "        sentence = self.__tokens_to_sentence(tokens)\n",
        "        return sentence\n",
        "\n",
        "    def __unify_char(self, sentence):\n",
        "        for char, new in self._char_dict.items():\n",
        "            sentence = sentence.replace(char, new)\n",
        "        return sentence\n",
        "\n",
        "    def __shorten_repeated_tokens(self, tokens):\n",
        "        for i, token in enumerate(tokens):\n",
        "            if \"-\" in token:\n",
        "                token = token.split(\"-\")\n",
        "                token = \"-\".join(dict.fromkeys(token))\n",
        "                tokens[i] = token\n",
        "        return tokens\n",
        "\n",
        "    def __tokens_to_sentence(self, tokens):\n",
        "        sentence = \" \".join(tokens)\n",
        "        patterns = re.findall(r\"\\\" .*? \\\"\", sentence)\n",
        "        patterns += re.findall(r\"“ .*? ”\", sentence)\n",
        "        patterns += re.findall(r\"' .*? '\", sentence)\n",
        "        for pattern in patterns:\n",
        "            sentence = sentence.replace(\n",
        "                pattern, \"\".join([pattern[0], pattern[2:-2], pattern[-1]])\n",
        "            )\n",
        "\n",
        "        patterns = re.findall(r\" \\W+ \", sentence)\n",
        "        for pattern in patterns:\n",
        "            sentence = sentence.replace(pattern, pattern.lstrip())\n",
        "        return sentence"
      ]
    },
    {
      "cell_type": "code",
      "execution_count": null,
      "metadata": {
        "id": "K1SgoQR6u35N"
      },
      "outputs": [],
      "source": [
        "class RoBERTaDataset(Dataset):\n",
        "    def __init__(\n",
        "        self,\n",
        "        data,\n",
        "        roberta_tokenizer,\n",
        "        max_length=512,\n",
        "        mode=None,\n",
        "    ):\n",
        "        self._dataset = data\n",
        "        self._roberta_tokenizer = roberta_tokenizer\n",
        "        self._max_length = max_length\n",
        "        self._mode = mode\n",
        "\n",
        "    def __len__(self):\n",
        "        return len(self._dataset)\n",
        "\n",
        "    def __getitem__(self, idx):\n",
        "        text = self._dataset.loc[idx, \"Utterance\"]\n",
        "        inputs = self._roberta_tokenizer(\n",
        "            text,\n",
        "            max_length=self._max_length,\n",
        "            padding=\"max_length\",\n",
        "            truncation=True,\n",
        "            return_tensors=\"pt\",\n",
        "        )\n",
        "        input_ids = inputs[\"input_ids\"][0]\n",
        "        attention_mask = inputs[\"attention_mask\"][0]\n",
        "\n",
        "        if self._mode == \"train\":\n",
        "            y = self._dataset.loc[idx, \"Target\"]\n",
        "            return input_ids, attention_mask, y\n",
        "        else:\n",
        "            return input_ids, attention_mask"
      ]
    },
    {
      "cell_type": "markdown",
      "metadata": {
        "id": "vPDUHfujx2NN"
      },
      "source": [
        "## Dataset"
      ]
    },
    {
      "cell_type": "code",
      "execution_count": null,
      "metadata": {
        "id": "2zxN5atGQDpz"
      },
      "outputs": [],
      "source": [
        "label_encoder = LabelEncoder()\n",
        "processor = DataProcessor(label_encoder)\n",
        "roberta_tokenizer = RobertaTokenizerFast.from_pretrained(ARGS[\"model\"], truncation=True)"
      ]
    },
    {
      "cell_type": "code",
      "execution_count": null,
      "metadata": {
        "id": "fFZRDzdWkoTz"
      },
      "outputs": [],
      "source": [
        "train_csv = pd.read_csv(TRAIN_CSV)\n",
        "df_train, df_val = train_test_split(\n",
        "    train_csv, test_size=0.2, shuffle=True, random_state=32\n",
        ")"
      ]
    },
    {
      "cell_type": "code",
      "execution_count": null,
      "metadata": {
        "id": "TNDWk-8xvGK2"
      },
      "outputs": [],
      "source": [
        "df_train = processor.process(df_train, mode=\"train\", do_preprocess=True)\n",
        "df_val = processor.process(df_val, mode=\"train\")\n",
        "\n",
        "train_set = RoBERTaDataset(\n",
        "    df_train,\n",
        "    roberta_tokenizer,\n",
        "    max_length=ARGS[\"max_len\"],\n",
        "    mode=\"train\",\n",
        ")\n",
        "val_set = RoBERTaDataset(\n",
        "    df_val,\n",
        "    roberta_tokenizer,\n",
        "    max_length=ARGS[\"max_len\"],\n",
        "    mode=\"train\",\n",
        ")\n",
        "\n",
        "train_dataloader = DataLoader(train_set, batch_size=ARGS[\"batch_size\"])\n",
        "val_dataloader = DataLoader(val_set, batch_size=ARGS[\"batch_size\"])"
      ]
    },
    {
      "cell_type": "markdown",
      "metadata": {
        "id": "_sHLXyvHysyi"
      },
      "source": [
        "## Train"
      ]
    },
    {
      "cell_type": "code",
      "execution_count": null,
      "metadata": {
        "id": "TwCX_OUouxhu"
      },
      "outputs": [],
      "source": [
        "def evaluate(model, criterion, val_loader, device, mode=None):\n",
        "    model.eval()\n",
        "\n",
        "    val_loss = list()\n",
        "    model_preds = list()\n",
        "    true_labels = list()\n",
        "\n",
        "    with torch.no_grad():\n",
        "        for input_ids, attention_mask, label in val_loader:\n",
        "            label = label.to(device)\n",
        "            input_id = input_ids.to(device)\n",
        "            mask = attention_mask.to(device)\n",
        "\n",
        "            output = model(input_id, mask)\n",
        "\n",
        "            batch_loss = criterion(output.logits, label.long())\n",
        "            val_loss.append(batch_loss.item())\n",
        "\n",
        "            model_preds += output.logits.argmax(1).detach().cpu().numpy().tolist()\n",
        "            true_labels += label.detach().cpu().numpy().tolist()\n",
        "\n",
        "        val_f1 = f1_score(true_labels, model_preds, average=\"macro\")\n",
        "\n",
        "        if mode != \"train\":\n",
        "            val_acc = accuracy_score(true_labels, model_preds)\n",
        "            return val_acc, val_f1\n",
        "\n",
        "        return val_loss, val_f1\n",
        "\n",
        "\n",
        "def train(model, optimizer, scheduler, criterion, train_loader, val_loader, device):\n",
        "    torch.cuda.empty_cache()\n",
        "    gc.collect()\n",
        "\n",
        "    model_path = ARGS[\"model_path\"]\n",
        "    grad_step = ARGS[\"grad_step\"]\n",
        "    epoch_progress = trange(1, ARGS[\"epochs\"] + 1)\n",
        "    early_stopper = EarlyStopping(ARGS[\"patience\"], model_path)\n",
        "\n",
        "    model.to(device)\n",
        "    criterion.to(device)\n",
        "    model.zero_grad()\n",
        "\n",
        "    for epoch in epoch_progress:\n",
        "\n",
        "        model.train()\n",
        "        train_loss = list()\n",
        "        for batch_id, data in enumerate(train_loader, start=1):\n",
        "\n",
        "            input_ids, attention_mask, train_label = data\n",
        "            input_id = input_ids.to(device)\n",
        "            mask = attention_mask.to(device)\n",
        "            train_label = train_label.to(device)\n",
        "\n",
        "            output = model(input_id, mask)\n",
        "\n",
        "            batch_loss = criterion(output.logits, train_label.long())\n",
        "            train_loss.append(batch_loss.item())\n",
        "\n",
        "            batch_loss /= grad_step\n",
        "            batch_loss.backward()\n",
        "\n",
        "            if batch_id % grad_step == 0:\n",
        "                optimizer.step()\n",
        "                model.zero_grad()\n",
        "\n",
        "        val_loss, val_f1 = evaluate(model, criterion, val_loader, device, mode=\"train\")\n",
        "        train_loss = np.mean(train_loss)\n",
        "        val_loss = np.mean(val_loss)\n",
        "        tqdm.write(\n",
        "            f\"Epoch {epoch}, Train-Loss: {train_loss:.5f},  Val-Loss: {val_loss:.5f},  Val-f1: {val_f1:.5f}\"\n",
        "        )\n",
        "\n",
        "        if early_stopper.should_stop(model, val_f1):\n",
        "            break\n",
        "\n",
        "        scheduler.step()\n",
        "\n",
        "    tqdm.write(f\"\\n\\n -- EarlyStopping: [Epoch: {epoch - early_stopper.counter}]\")\n",
        "    tqdm.write(f\"Model saved at '{model_path}'.\")\n",
        "    model = early_stopper.load(model)\n",
        "\n",
        "    return model"
      ]
    },
    {
      "cell_type": "code",
      "execution_count": null,
      "metadata": {
        "id": "vT5x111SL9BA"
      },
      "outputs": [],
      "source": [
        "model = RobertaForSequenceClassification.from_pretrained(ARGS[\"model\"])\n",
        "optimizer = AdamW(\n",
        "    model.parameters(), lr=ARGS[\"lr\"], weight_decay=0.01, correct_bias=False\n",
        ")\n",
        "scheduler = LambdaLR(optimizer, lr_lambda=lambda epoch: 0.9**epoch)\n",
        "criterion = nn.CrossEntropyLoss()"
      ]
    },
    {
      "cell_type": "code",
      "execution_count": null,
      "metadata": {
        "colab": {
          "base_uri": "https://localhost:8080/",
          "height": 240,
          "referenced_widgets": [
            "ae64c0f56b754e11adccddcc6476b4bd",
            "429d91996477486293f9f8a33263affa",
            "d9bda9c6499442699658efd067311a25",
            "2fd1930f32af4d308e7dbf15966c863f",
            "0a070d249e4c4495a1b70469be8b4d3c",
            "4dc4eba54e0e4e4d8672b87b28ac9f2c",
            "d5cc9fd1bd0d411f8a7fc9d78b36d800",
            "5390c7a512c142ee9835f9c577fefed6",
            "8e0e2f60b15c46a8a186a939942c1715",
            "8cabd7d0f46e40d086941163e5ff27f9",
            "a4564588fd2c4064b8661fb05f8e4eb4"
          ]
        },
        "id": "6z0IrePhOh8V",
        "outputId": "f0212401-1495-4d85-c2ca-f17d5a131e98"
      },
      "outputs": [
        {
          "data": {
            "application/vnd.jupyter.widget-view+json": {
              "model_id": "ae64c0f56b754e11adccddcc6476b4bd",
              "version_major": 2,
              "version_minor": 0
            },
            "text/plain": [
              "  0%|          | 0/10 [00:00<?, ?it/s]"
            ]
          },
          "metadata": {},
          "output_type": "display_data"
        },
        {
          "name": "stdout",
          "output_type": "stream",
          "text": [
            "Epoch 1, Train-Loss: 0.86085,  Val-Loss: 0.76575,  Val-f1: 0.63370\n",
            "Epoch 2, Train-Loss: 0.65933,  Val-Loss: 0.72349,  Val-f1: 0.64779\n",
            "Epoch 3, Train-Loss: 0.53677,  Val-Loss: 0.73985,  Val-f1: 0.65201\n",
            "Epoch 4, Train-Loss: 0.46940,  Val-Loss: 0.76987,  Val-f1: 0.64344\n",
            "Epoch 5, Train-Loss: 0.41825,  Val-Loss: 0.77944,  Val-f1: 0.65447\n",
            "Epoch 6, Train-Loss: 0.36902,  Val-Loss: 0.80055,  Val-f1: 0.64074\n",
            "Epoch 7, Train-Loss: 0.33900,  Val-Loss: 0.82009,  Val-f1: 0.63377\n",
            "\n",
            "\n",
            " -- EarlyStopping: [Epoch: 5]\n",
            "Model saved at '/content/drive/MyDrive/model.pth'.\n"
          ]
        }
      ],
      "source": [
        "best_model = train(\n",
        "    model, optimizer, scheduler, criterion, train_dataloader, val_dataloader, DEVICE\n",
        ")"
      ]
    },
    {
      "cell_type": "code",
      "execution_count": null,
      "metadata": {
        "colab": {
          "base_uri": "https://localhost:8080/"
        },
        "id": "_L0ke5pJCpQW",
        "outputId": "3ae7f758-dcbc-4fec-9f8d-22b0bea3bad6"
      },
      "outputs": [
        {
          "name": "stdout",
          "output_type": "stream",
          "text": [
            "Accuracy: 0.76827\n",
            "F1-macro: 0.65447\n"
          ]
        }
      ],
      "source": [
        "torch.cuda.empty_cache()\n",
        "gc.collect()\n",
        "\n",
        "val_acc, val_f1 = evaluate(best_model, criterion, val_dataloader, DEVICE)\n",
        "print(f\"Accuracy: {val_acc:.5f}\")\n",
        "print(f\"F1-macro: {val_f1:.5f}\")"
      ]
    },
    {
      "cell_type": "markdown",
      "metadata": {
        "id": "_N0YrTA2fGzo"
      },
      "source": [
        "## Prediction"
      ]
    },
    {
      "cell_type": "code",
      "execution_count": null,
      "metadata": {
        "id": "cVJXerY-m4rA"
      },
      "outputs": [],
      "source": [
        "df_test = pd.read_csv(TEST_CSV)\n",
        "\n",
        "df_test = processor.process(df_test, mode=\"test\")\n",
        "test_set = RoBERTaDataset(\n",
        "    df_test,\n",
        "    roberta_tokenizer,\n",
        "    max_length=ARGS[\"max_len\"],\n",
        ")\n",
        "test_dataloader = DataLoader(test_set, batch_size=ARGS[\"batch_size\"], shuffle=False)"
      ]
    },
    {
      "cell_type": "code",
      "execution_count": null,
      "metadata": {
        "id": "vzFz1q2DeJP0"
      },
      "outputs": [],
      "source": [
        "def predict(model, test_loader, device):\n",
        "    model.eval()\n",
        "    model_preds = list()\n",
        "\n",
        "    with torch.no_grad():\n",
        "        for input_ids, attention_mask in test_loader:\n",
        "            input_id = input_ids.to(device)\n",
        "            mask = attention_mask.to(device)\n",
        "\n",
        "            output = model(input_id, mask)\n",
        "            model_preds += output.logits.argmax(1).detach().cpu().numpy().tolist()\n",
        "        return model_preds"
      ]
    },
    {
      "cell_type": "code",
      "execution_count": null,
      "metadata": {
        "colab": {
          "base_uri": "https://localhost:8080/",
          "height": 363
        },
        "id": "LeuRALPEvepl",
        "outputId": "29fc5c0e-118d-40c5-b2ec-1a69bb250674"
      },
      "outputs": [
        {
          "data": {
            "text/html": [
              "\n",
              "  <div id=\"df-416daf5c-82ed-4fac-beeb-e7938239dd76\">\n",
              "    <div class=\"colab-df-container\">\n",
              "      <div>\n",
              "<style scoped>\n",
              "    .dataframe tbody tr th:only-of-type {\n",
              "        vertical-align: middle;\n",
              "    }\n",
              "\n",
              "    .dataframe tbody tr th {\n",
              "        vertical-align: top;\n",
              "    }\n",
              "\n",
              "    .dataframe thead th {\n",
              "        text-align: right;\n",
              "    }\n",
              "</style>\n",
              "<table border=\"1\" class=\"dataframe\">\n",
              "  <thead>\n",
              "    <tr style=\"text-align: right;\">\n",
              "      <th></th>\n",
              "      <th>ID</th>\n",
              "      <th>Target</th>\n",
              "    </tr>\n",
              "  </thead>\n",
              "  <tbody>\n",
              "    <tr>\n",
              "      <th>0</th>\n",
              "      <td>TEST_0000</td>\n",
              "      <td>neutral</td>\n",
              "    </tr>\n",
              "    <tr>\n",
              "      <th>1</th>\n",
              "      <td>TEST_0001</td>\n",
              "      <td>neutral</td>\n",
              "    </tr>\n",
              "    <tr>\n",
              "      <th>2</th>\n",
              "      <td>TEST_0002</td>\n",
              "      <td>neutral</td>\n",
              "    </tr>\n",
              "    <tr>\n",
              "      <th>3</th>\n",
              "      <td>TEST_0003</td>\n",
              "      <td>neutral</td>\n",
              "    </tr>\n",
              "    <tr>\n",
              "      <th>4</th>\n",
              "      <td>TEST_0004</td>\n",
              "      <td>neutral</td>\n",
              "    </tr>\n",
              "    <tr>\n",
              "      <th>5</th>\n",
              "      <td>TEST_0005</td>\n",
              "      <td>joy</td>\n",
              "    </tr>\n",
              "    <tr>\n",
              "      <th>6</th>\n",
              "      <td>TEST_0006</td>\n",
              "      <td>joy</td>\n",
              "    </tr>\n",
              "    <tr>\n",
              "      <th>7</th>\n",
              "      <td>TEST_0007</td>\n",
              "      <td>joy</td>\n",
              "    </tr>\n",
              "    <tr>\n",
              "      <th>8</th>\n",
              "      <td>TEST_0008</td>\n",
              "      <td>joy</td>\n",
              "    </tr>\n",
              "    <tr>\n",
              "      <th>9</th>\n",
              "      <td>TEST_0009</td>\n",
              "      <td>neutral</td>\n",
              "    </tr>\n",
              "  </tbody>\n",
              "</table>\n",
              "</div>\n",
              "      <button class=\"colab-df-convert\" onclick=\"convertToInteractive('df-416daf5c-82ed-4fac-beeb-e7938239dd76')\"\n",
              "              title=\"Convert this dataframe to an interactive table.\"\n",
              "              style=\"display:none;\">\n",
              "        \n",
              "  <svg xmlns=\"http://www.w3.org/2000/svg\" height=\"24px\"viewBox=\"0 0 24 24\"\n",
              "       width=\"24px\">\n",
              "    <path d=\"M0 0h24v24H0V0z\" fill=\"none\"/>\n",
              "    <path d=\"M18.56 5.44l.94 2.06.94-2.06 2.06-.94-2.06-.94-.94-2.06-.94 2.06-2.06.94zm-11 1L8.5 8.5l.94-2.06 2.06-.94-2.06-.94L8.5 2.5l-.94 2.06-2.06.94zm10 10l.94 2.06.94-2.06 2.06-.94-2.06-.94-.94-2.06-.94 2.06-2.06.94z\"/><path d=\"M17.41 7.96l-1.37-1.37c-.4-.4-.92-.59-1.43-.59-.52 0-1.04.2-1.43.59L10.3 9.45l-7.72 7.72c-.78.78-.78 2.05 0 2.83L4 21.41c.39.39.9.59 1.41.59.51 0 1.02-.2 1.41-.59l7.78-7.78 2.81-2.81c.8-.78.8-2.07 0-2.86zM5.41 20L4 18.59l7.72-7.72 1.47 1.35L5.41 20z\"/>\n",
              "  </svg>\n",
              "      </button>\n",
              "      \n",
              "  <style>\n",
              "    .colab-df-container {\n",
              "      display:flex;\n",
              "      flex-wrap:wrap;\n",
              "      gap: 12px;\n",
              "    }\n",
              "\n",
              "    .colab-df-convert {\n",
              "      background-color: #E8F0FE;\n",
              "      border: none;\n",
              "      border-radius: 50%;\n",
              "      cursor: pointer;\n",
              "      display: none;\n",
              "      fill: #1967D2;\n",
              "      height: 32px;\n",
              "      padding: 0 0 0 0;\n",
              "      width: 32px;\n",
              "    }\n",
              "\n",
              "    .colab-df-convert:hover {\n",
              "      background-color: #E2EBFA;\n",
              "      box-shadow: 0px 1px 2px rgba(60, 64, 67, 0.3), 0px 1px 3px 1px rgba(60, 64, 67, 0.15);\n",
              "      fill: #174EA6;\n",
              "    }\n",
              "\n",
              "    [theme=dark] .colab-df-convert {\n",
              "      background-color: #3B4455;\n",
              "      fill: #D2E3FC;\n",
              "    }\n",
              "\n",
              "    [theme=dark] .colab-df-convert:hover {\n",
              "      background-color: #434B5C;\n",
              "      box-shadow: 0px 1px 3px 1px rgba(0, 0, 0, 0.15);\n",
              "      filter: drop-shadow(0px 1px 2px rgba(0, 0, 0, 0.3));\n",
              "      fill: #FFFFFF;\n",
              "    }\n",
              "  </style>\n",
              "\n",
              "      <script>\n",
              "        const buttonEl =\n",
              "          document.querySelector('#df-416daf5c-82ed-4fac-beeb-e7938239dd76 button.colab-df-convert');\n",
              "        buttonEl.style.display =\n",
              "          google.colab.kernel.accessAllowed ? 'block' : 'none';\n",
              "\n",
              "        async function convertToInteractive(key) {\n",
              "          const element = document.querySelector('#df-416daf5c-82ed-4fac-beeb-e7938239dd76');\n",
              "          const dataTable =\n",
              "            await google.colab.kernel.invokeFunction('convertToInteractive',\n",
              "                                                     [key], {});\n",
              "          if (!dataTable) return;\n",
              "\n",
              "          const docLinkHtml = 'Like what you see? Visit the ' +\n",
              "            '<a target=\"_blank\" href=https://colab.research.google.com/notebooks/data_table.ipynb>data table notebook</a>'\n",
              "            + ' to learn more about interactive tables.';\n",
              "          element.innerHTML = '';\n",
              "          dataTable['output_type'] = 'display_data';\n",
              "          await google.colab.output.renderOutput(dataTable, element);\n",
              "          const docLink = document.createElement('div');\n",
              "          docLink.innerHTML = docLinkHtml;\n",
              "          element.appendChild(docLink);\n",
              "        }\n",
              "      </script>\n",
              "    </div>\n",
              "  </div>\n",
              "  "
            ],
            "text/plain": [
              "          ID   Target\n",
              "0  TEST_0000  neutral\n",
              "1  TEST_0001  neutral\n",
              "2  TEST_0002  neutral\n",
              "3  TEST_0003  neutral\n",
              "4  TEST_0004  neutral\n",
              "5  TEST_0005      joy\n",
              "6  TEST_0006      joy\n",
              "7  TEST_0007      joy\n",
              "8  TEST_0008      joy\n",
              "9  TEST_0009  neutral"
            ]
          },
          "execution_count": 39,
          "metadata": {},
          "output_type": "execute_result"
        }
      ],
      "source": [
        "preds = predict(best_model, test_dataloader, DEVICE)\n",
        "\n",
        "df_test[\"Target\"] = preds\n",
        "df_test[\"Target\"] = df_test[\"Target\"].map(label_encoder.decode)\n",
        "res = df_test.loc[:, [\"ID\", \"Target\"]]\n",
        "res.head(10)"
      ]
    }
  ],
  "metadata": {
    "accelerator": "GPU",
    "colab": {
      "include_colab_link": true,
      "machine_shape": "hm",
      "provenance": []
    },
    "gpuClass": "premium",
    "kernelspec": {
      "display_name": "Python 3",
      "name": "python3"
    },
    "language_info": {
      "name": "python"
    },
    "widgets": {
      "application/vnd.jupyter.widget-state+json": {
        "0a070d249e4c4495a1b70469be8b4d3c": {
          "model_module": "@jupyter-widgets/base",
          "model_module_version": "1.2.0",
          "model_name": "LayoutModel",
          "state": {
            "_model_module": "@jupyter-widgets/base",
            "_model_module_version": "1.2.0",
            "_model_name": "LayoutModel",
            "_view_count": null,
            "_view_module": "@jupyter-widgets/base",
            "_view_module_version": "1.2.0",
            "_view_name": "LayoutView",
            "align_content": null,
            "align_items": null,
            "align_self": null,
            "border": null,
            "bottom": null,
            "display": null,
            "flex": null,
            "flex_flow": null,
            "grid_area": null,
            "grid_auto_columns": null,
            "grid_auto_flow": null,
            "grid_auto_rows": null,
            "grid_column": null,
            "grid_gap": null,
            "grid_row": null,
            "grid_template_areas": null,
            "grid_template_columns": null,
            "grid_template_rows": null,
            "height": null,
            "justify_content": null,
            "justify_items": null,
            "left": null,
            "margin": null,
            "max_height": null,
            "max_width": null,
            "min_height": null,
            "min_width": null,
            "object_fit": null,
            "object_position": null,
            "order": null,
            "overflow": null,
            "overflow_x": null,
            "overflow_y": null,
            "padding": null,
            "right": null,
            "top": null,
            "visibility": null,
            "width": null
          }
        },
        "2fd1930f32af4d308e7dbf15966c863f": {
          "model_module": "@jupyter-widgets/controls",
          "model_module_version": "1.5.0",
          "model_name": "HTMLModel",
          "state": {
            "_dom_classes": [],
            "_model_module": "@jupyter-widgets/controls",
            "_model_module_version": "1.5.0",
            "_model_name": "HTMLModel",
            "_view_count": null,
            "_view_module": "@jupyter-widgets/controls",
            "_view_module_version": "1.5.0",
            "_view_name": "HTMLView",
            "description": "",
            "description_tooltip": null,
            "layout": "IPY_MODEL_8cabd7d0f46e40d086941163e5ff27f9",
            "placeholder": "​",
            "style": "IPY_MODEL_a4564588fd2c4064b8661fb05f8e4eb4",
            "value": " 6/10 [1:11:51&lt;41:01, 615.50s/it]"
          }
        },
        "429d91996477486293f9f8a33263affa": {
          "model_module": "@jupyter-widgets/controls",
          "model_module_version": "1.5.0",
          "model_name": "HTMLModel",
          "state": {
            "_dom_classes": [],
            "_model_module": "@jupyter-widgets/controls",
            "_model_module_version": "1.5.0",
            "_model_name": "HTMLModel",
            "_view_count": null,
            "_view_module": "@jupyter-widgets/controls",
            "_view_module_version": "1.5.0",
            "_view_name": "HTMLView",
            "description": "",
            "description_tooltip": null,
            "layout": "IPY_MODEL_4dc4eba54e0e4e4d8672b87b28ac9f2c",
            "placeholder": "​",
            "style": "IPY_MODEL_d5cc9fd1bd0d411f8a7fc9d78b36d800",
            "value": " 60%"
          }
        },
        "4dc4eba54e0e4e4d8672b87b28ac9f2c": {
          "model_module": "@jupyter-widgets/base",
          "model_module_version": "1.2.0",
          "model_name": "LayoutModel",
          "state": {
            "_model_module": "@jupyter-widgets/base",
            "_model_module_version": "1.2.0",
            "_model_name": "LayoutModel",
            "_view_count": null,
            "_view_module": "@jupyter-widgets/base",
            "_view_module_version": "1.2.0",
            "_view_name": "LayoutView",
            "align_content": null,
            "align_items": null,
            "align_self": null,
            "border": null,
            "bottom": null,
            "display": null,
            "flex": null,
            "flex_flow": null,
            "grid_area": null,
            "grid_auto_columns": null,
            "grid_auto_flow": null,
            "grid_auto_rows": null,
            "grid_column": null,
            "grid_gap": null,
            "grid_row": null,
            "grid_template_areas": null,
            "grid_template_columns": null,
            "grid_template_rows": null,
            "height": null,
            "justify_content": null,
            "justify_items": null,
            "left": null,
            "margin": null,
            "max_height": null,
            "max_width": null,
            "min_height": null,
            "min_width": null,
            "object_fit": null,
            "object_position": null,
            "order": null,
            "overflow": null,
            "overflow_x": null,
            "overflow_y": null,
            "padding": null,
            "right": null,
            "top": null,
            "visibility": null,
            "width": null
          }
        },
        "5390c7a512c142ee9835f9c577fefed6": {
          "model_module": "@jupyter-widgets/base",
          "model_module_version": "1.2.0",
          "model_name": "LayoutModel",
          "state": {
            "_model_module": "@jupyter-widgets/base",
            "_model_module_version": "1.2.0",
            "_model_name": "LayoutModel",
            "_view_count": null,
            "_view_module": "@jupyter-widgets/base",
            "_view_module_version": "1.2.0",
            "_view_name": "LayoutView",
            "align_content": null,
            "align_items": null,
            "align_self": null,
            "border": null,
            "bottom": null,
            "display": null,
            "flex": null,
            "flex_flow": null,
            "grid_area": null,
            "grid_auto_columns": null,
            "grid_auto_flow": null,
            "grid_auto_rows": null,
            "grid_column": null,
            "grid_gap": null,
            "grid_row": null,
            "grid_template_areas": null,
            "grid_template_columns": null,
            "grid_template_rows": null,
            "height": null,
            "justify_content": null,
            "justify_items": null,
            "left": null,
            "margin": null,
            "max_height": null,
            "max_width": null,
            "min_height": null,
            "min_width": null,
            "object_fit": null,
            "object_position": null,
            "order": null,
            "overflow": null,
            "overflow_x": null,
            "overflow_y": null,
            "padding": null,
            "right": null,
            "top": null,
            "visibility": null,
            "width": null
          }
        },
        "8cabd7d0f46e40d086941163e5ff27f9": {
          "model_module": "@jupyter-widgets/base",
          "model_module_version": "1.2.0",
          "model_name": "LayoutModel",
          "state": {
            "_model_module": "@jupyter-widgets/base",
            "_model_module_version": "1.2.0",
            "_model_name": "LayoutModel",
            "_view_count": null,
            "_view_module": "@jupyter-widgets/base",
            "_view_module_version": "1.2.0",
            "_view_name": "LayoutView",
            "align_content": null,
            "align_items": null,
            "align_self": null,
            "border": null,
            "bottom": null,
            "display": null,
            "flex": null,
            "flex_flow": null,
            "grid_area": null,
            "grid_auto_columns": null,
            "grid_auto_flow": null,
            "grid_auto_rows": null,
            "grid_column": null,
            "grid_gap": null,
            "grid_row": null,
            "grid_template_areas": null,
            "grid_template_columns": null,
            "grid_template_rows": null,
            "height": null,
            "justify_content": null,
            "justify_items": null,
            "left": null,
            "margin": null,
            "max_height": null,
            "max_width": null,
            "min_height": null,
            "min_width": null,
            "object_fit": null,
            "object_position": null,
            "order": null,
            "overflow": null,
            "overflow_x": null,
            "overflow_y": null,
            "padding": null,
            "right": null,
            "top": null,
            "visibility": null,
            "width": null
          }
        },
        "8e0e2f60b15c46a8a186a939942c1715": {
          "model_module": "@jupyter-widgets/controls",
          "model_module_version": "1.5.0",
          "model_name": "ProgressStyleModel",
          "state": {
            "_model_module": "@jupyter-widgets/controls",
            "_model_module_version": "1.5.0",
            "_model_name": "ProgressStyleModel",
            "_view_count": null,
            "_view_module": "@jupyter-widgets/base",
            "_view_module_version": "1.2.0",
            "_view_name": "StyleView",
            "bar_color": null,
            "description_width": ""
          }
        },
        "a4564588fd2c4064b8661fb05f8e4eb4": {
          "model_module": "@jupyter-widgets/controls",
          "model_module_version": "1.5.0",
          "model_name": "DescriptionStyleModel",
          "state": {
            "_model_module": "@jupyter-widgets/controls",
            "_model_module_version": "1.5.0",
            "_model_name": "DescriptionStyleModel",
            "_view_count": null,
            "_view_module": "@jupyter-widgets/base",
            "_view_module_version": "1.2.0",
            "_view_name": "StyleView",
            "description_width": ""
          }
        },
        "ae64c0f56b754e11adccddcc6476b4bd": {
          "model_module": "@jupyter-widgets/controls",
          "model_module_version": "1.5.0",
          "model_name": "HBoxModel",
          "state": {
            "_dom_classes": [],
            "_model_module": "@jupyter-widgets/controls",
            "_model_module_version": "1.5.0",
            "_model_name": "HBoxModel",
            "_view_count": null,
            "_view_module": "@jupyter-widgets/controls",
            "_view_module_version": "1.5.0",
            "_view_name": "HBoxView",
            "box_style": "",
            "children": [
              "IPY_MODEL_429d91996477486293f9f8a33263affa",
              "IPY_MODEL_d9bda9c6499442699658efd067311a25",
              "IPY_MODEL_2fd1930f32af4d308e7dbf15966c863f"
            ],
            "layout": "IPY_MODEL_0a070d249e4c4495a1b70469be8b4d3c"
          }
        },
        "d5cc9fd1bd0d411f8a7fc9d78b36d800": {
          "model_module": "@jupyter-widgets/controls",
          "model_module_version": "1.5.0",
          "model_name": "DescriptionStyleModel",
          "state": {
            "_model_module": "@jupyter-widgets/controls",
            "_model_module_version": "1.5.0",
            "_model_name": "DescriptionStyleModel",
            "_view_count": null,
            "_view_module": "@jupyter-widgets/base",
            "_view_module_version": "1.2.0",
            "_view_name": "StyleView",
            "description_width": ""
          }
        },
        "d9bda9c6499442699658efd067311a25": {
          "model_module": "@jupyter-widgets/controls",
          "model_module_version": "1.5.0",
          "model_name": "FloatProgressModel",
          "state": {
            "_dom_classes": [],
            "_model_module": "@jupyter-widgets/controls",
            "_model_module_version": "1.5.0",
            "_model_name": "FloatProgressModel",
            "_view_count": null,
            "_view_module": "@jupyter-widgets/controls",
            "_view_module_version": "1.5.0",
            "_view_name": "ProgressView",
            "bar_style": "danger",
            "description": "",
            "description_tooltip": null,
            "layout": "IPY_MODEL_5390c7a512c142ee9835f9c577fefed6",
            "max": 10,
            "min": 0,
            "orientation": "horizontal",
            "style": "IPY_MODEL_8e0e2f60b15c46a8a186a939942c1715",
            "value": 6
          }
        }
      }
    }
  },
  "nbformat": 4,
  "nbformat_minor": 0
}
