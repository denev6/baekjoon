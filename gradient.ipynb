{
  "nbformat": 4,
  "nbformat_minor": 0,
  "metadata": {
    "colab": {
      "provenance": [],
      "collapsed_sections": [
        "HXPEADgSxYG8"
      ],
      "authorship_tag": "ABX9TyNOpg+znL1FMJlaOLQw9KMt",
      "include_colab_link": true
    },
    "kernelspec": {
      "name": "python3",
      "display_name": "Python 3"
    },
    "language_info": {
      "name": "python"
    },
    "gpuClass": "standard"
  },
  "cells": [
    {
      "cell_type": "markdown",
      "metadata": {
        "id": "view-in-github",
        "colab_type": "text"
      },
      "source": [
        "<a href=\"https://colab.research.google.com/github/Denev6/practice/blob/main/gradient.ipynb\" target=\"_parent\"><img src=\"https://colab.research.google.com/assets/colab-badge.svg\" alt=\"Open In Colab\"/></a>"
      ]
    },
    {
      "cell_type": "markdown",
      "source": [
        "\"Tistory: [경사하강법과 학습률](https://denev6.tistory.com/entry/Gradient-Descent)\"\n",
        "\n",
        "위 글에서 사용한 코드입니다. "
      ],
      "metadata": {
        "id": "QVk72S2JsiQH"
      }
    },
    {
      "cell_type": "markdown",
      "source": [
        "# 블로그에 작성된 예시"
      ],
      "metadata": {
        "id": "HXPEADgSxYG8"
      }
    },
    {
      "cell_type": "code",
      "source": [
        "# 사용할 데이터\n",
        "X_ = [0, 1, 3]\n",
        "Y_ = [-1, 1, 5]\n",
        "n = len(X_)\n",
        "\n",
        "# 가중치 초기화: f(x) = 1x + 0\n",
        "w_ = [0, 1]  # [w0, w1]\n",
        "\n",
        "# 함수 정의: f(x) = w1 * x + w0\n",
        "def f(x):\n",
        "    pred = w_[1] * x + w_[0]\n",
        "    return pred\n",
        "\n",
        "# 비용 함수: E(x) = 1/N * Sum(f(xi) - yi)^2\n",
        "def cost():\n",
        "    error = 1 / n * sum((f(X_[i]) - Y_[i])**2 for i in range(n))\n",
        "    return error\n",
        "\n",
        "# 학습률\n",
        "lr = 0.1\n",
        "\n",
        "# 업데이트를 몇 번 반복할지 결정\n",
        "n_iter = 30\n",
        "\n",
        "for iter in range(1, n_iter+1):\n",
        "    # 경사하강법으로 반복\n",
        "    print(f\"[{iter}번째 업데이트]\")\n",
        "\n",
        "    # 가중치 업데이트\n",
        "    w_[1] = w_[1] - lr * sum((f(X_[i]) - Y_[i]) * X_[i] for i in range(n))\n",
        "    w_[0] = w_[0] - lr * sum([(f(X_[i]) - Y_[i]) for i in range(n)])\n",
        "\n",
        "    # 업데이트된 가중치 보기\n",
        "    print(f\" f(x) = {w_[1]:.2f}x {w_[0]:.2f}\")\n",
        "\n",
        "    # 오차 확인하기 \n",
        "    error = cost()\n",
        "    print(f\" 오차: {error:.5f}\\n\")"
      ],
      "metadata": {
        "colab": {
          "base_uri": "https://localhost:8080/"
        },
        "id": "BY9-_7PFardZ",
        "outputId": "d39bdbe5-8f35-437d-f9bd-32759a0d57a2"
      },
      "execution_count": null,
      "outputs": [
        {
          "output_type": "stream",
          "name": "stdout",
          "text": [
            "[1번째 업데이트]\n",
            " f(x) = 1.60x -0.14\n",
            " 오차: 0.35560\n",
            "\n",
            "[2번째 업데이트]\n",
            " f(x) = 1.66x -0.26\n",
            " 오차: 0.26300\n",
            "\n",
            "[3번째 업데이트]\n",
            " f(x) = 1.70x -0.36\n",
            " 오차: 0.19452\n",
            "\n",
            "[4번째 업데이트]\n",
            " f(x) = 1.75x -0.45\n",
            " 오차: 0.14386\n",
            "\n",
            "[5번째 업데이트]\n",
            " f(x) = 1.78x -0.53\n",
            " 오차: 0.10640\n",
            "\n",
            "[6번째 업데이트]\n",
            " f(x) = 1.81x -0.60\n",
            " 오차: 0.07869\n",
            "\n",
            "[7번째 업데이트]\n",
            " f(x) = 1.84x -0.65\n",
            " 오차: 0.05820\n",
            "\n",
            "[8번째 업데이트]\n",
            " f(x) = 1.86x -0.70\n",
            " 오차: 0.04305\n",
            "\n",
            "[9번째 업데이트]\n",
            " f(x) = 1.88x -0.74\n",
            " 오차: 0.03184\n",
            "\n",
            "[10번째 업데이트]\n",
            " f(x) = 1.90x -0.78\n",
            " 오차: 0.02355\n",
            "\n",
            "[11번째 업데이트]\n",
            " f(x) = 1.91x -0.81\n",
            " 오차: 0.01742\n",
            "\n",
            "[12번째 업데이트]\n",
            " f(x) = 1.92x -0.84\n",
            " 오차: 0.01288\n",
            "\n",
            "[13번째 업데이트]\n",
            " f(x) = 1.93x -0.86\n",
            " 오차: 0.00953\n",
            "\n",
            "[14번째 업데이트]\n",
            " f(x) = 1.94x -0.88\n",
            " 오차: 0.00705\n",
            "\n",
            "[15번째 업데이트]\n",
            " f(x) = 1.95x -0.90\n",
            " 오차: 0.00521\n",
            "\n",
            "[16번째 업데이트]\n",
            " f(x) = 1.96x -0.91\n",
            " 오차: 0.00385\n",
            "\n",
            "[17번째 업데이트]\n",
            " f(x) = 1.96x -0.92\n",
            " 오차: 0.00285\n",
            "\n",
            "[18번째 업데이트]\n",
            " f(x) = 1.97x -0.93\n",
            " 오차: 0.00211\n",
            "\n",
            "[19번째 업데이트]\n",
            " f(x) = 1.97x -0.94\n",
            " 오차: 0.00156\n",
            "\n",
            "[20번째 업데이트]\n",
            " f(x) = 1.98x -0.95\n",
            " 오차: 0.00115\n",
            "\n",
            "[21번째 업데이트]\n",
            " f(x) = 1.98x -0.96\n",
            " 오차: 0.00085\n",
            "\n",
            "[22번째 업데이트]\n",
            " f(x) = 1.98x -0.96\n",
            " 오차: 0.00063\n",
            "\n",
            "[23번째 업데이트]\n",
            " f(x) = 1.99x -0.97\n",
            " 오차: 0.00047\n",
            "\n",
            "[24번째 업데이트]\n",
            " f(x) = 1.99x -0.97\n",
            " 오차: 0.00035\n",
            "\n",
            "[25번째 업데이트]\n",
            " f(x) = 1.99x -0.98\n",
            " 오차: 0.00026\n",
            "\n",
            "[26번째 업데이트]\n",
            " f(x) = 1.99x -0.98\n",
            " 오차: 0.00019\n",
            "\n",
            "[27번째 업데이트]\n",
            " f(x) = 1.99x -0.98\n",
            " 오차: 0.00014\n",
            "\n",
            "[28번째 업데이트]\n",
            " f(x) = 1.99x -0.99\n",
            " 오차: 0.00010\n",
            "\n",
            "[29번째 업데이트]\n",
            " f(x) = 1.99x -0.99\n",
            " 오차: 0.00008\n",
            "\n",
            "[30번째 업데이트]\n",
            " f(x) = 1.99x -0.99\n",
            " 오차: 0.00006\n",
            "\n"
          ]
        }
      ]
    },
    {
      "cell_type": "markdown",
      "source": [
        "# 정리된 코드 "
      ],
      "metadata": {
        "id": "WZVpVG36xVRx"
      }
    },
    {
      "cell_type": "code",
      "source": [
        "import time\n",
        "import numpy as np \n",
        "import matplotlib.pyplot as plt \n",
        "\n",
        "np.random.seed(1)"
      ],
      "metadata": {
        "id": "JR2uJQiex2wf"
      },
      "execution_count": null,
      "outputs": []
    },
    {
      "cell_type": "code",
      "source": [
        "class GradientDescent(object):\n",
        "    def __init__(self, x_train, y_train, lr=0.1):\n",
        "        self._x = np.array(x_train, dtype=np.float64)\n",
        "        self._y = np.array(y_train, dtype=np.float64)\n",
        "        self._w = np.random.rand(2).tolist()\n",
        "        self._lr = lr\n",
        "        self._iter = iter\n",
        "    \n",
        "    def func(self):\n",
        "        return self._w[1] * self._x + self._w[0]\n",
        "    \n",
        "    def cost(self):\n",
        "        return np.mean((self.func() - self._y)**2)\n",
        "\n",
        "    def step(self):\n",
        "        err = (self.func() - self._y)\n",
        "        self._w[1] -= self._lr * np.sum(err * self._x)\n",
        "        self._w[0] -= self._lr * np.sum(err)\n",
        "    \n",
        "    def get_weights(self):\n",
        "        return self._w.copy()"
      ],
      "metadata": {
        "id": "RzaKumQktKpb"
      },
      "execution_count": null,
      "outputs": []
    },
    {
      "cell_type": "code",
      "source": [
        "# 실행\n",
        "x_train = [0, 1, 3]\n",
        "y_train = [-1, 1, 5]\n",
        "\n",
        "gd = GradientDescent(x_train, y_train, lr=0.1)\n",
        "init_weights = gd.get_weights()\n",
        "\n",
        "start = time.time()\n",
        "for iter in range(1, 31):\n",
        "    gd.step()\n",
        "    if iter % 5 == 0:\n",
        "        print(f\"[{iter}번째 업데이트]\")\n",
        "        print(f\" - 오차: {gd.cost():.5f}\\n\")\n",
        "\n",
        "end = time.time()\n",
        "print(f\"실행 시간: {end - start:.3f}초\")\n",
        "\n",
        "updated_weights = gd.get_weights()\n",
        "print(f\"최종 결과: f(x) = {updated_weights[1]:.1f}x + ({updated_weights[0]:.1f})\")"
      ],
      "metadata": {
        "colab": {
          "base_uri": "https://localhost:8080/"
        },
        "id": "wGHvsldBxQ0x",
        "outputId": "e2c211f5-c3da-4476-8cc3-d8a078aca97b"
      },
      "execution_count": null,
      "outputs": [
        {
          "output_type": "stream",
          "name": "stdout",
          "text": [
            "[5번째 업데이트]\n",
            " - 오차: 0.37032\n",
            "\n",
            "[10번째 업데이트]\n",
            " - 오차: 0.10491\n",
            "\n",
            "[15번째 업데이트]\n",
            " - 오차: 0.02972\n",
            "\n",
            "[20번째 업데이트]\n",
            " - 오차: 0.00842\n",
            "\n",
            "[25번째 업데이트]\n",
            " - 오차: 0.00239\n",
            "\n",
            "[30번째 업데이트]\n",
            " - 오차: 0.00068\n",
            "\n",
            "실행 시간: 0.004초\n",
            "최종 결과: f(x) = 2.0x + (-1.0)\n"
          ]
        }
      ]
    },
    {
      "cell_type": "code",
      "source": [
        "# 시각화\n",
        "def f(x, weights):\n",
        "    return weights[1] * x + weights[0]\n",
        "\n",
        "x_range = np.arange(-10, 10)\n",
        "init_pred = f(x_range, init_weights)\n",
        "pred = f(x_range, updated_weights)\n",
        "\n",
        "plt.figure(figsize=(6, 4))\n",
        "plt.plot(x_range, init_pred, \"k--\", label=\"init\")\n",
        "plt.plot(x_range, pred, \"r\", label=\"updated\")\n",
        "plt.scatter(x_train, y_train, c=\"r\")\n",
        "plt.legend()\n",
        "plt.show()"
      ],
      "metadata": {
        "colab": {
          "base_uri": "https://localhost:8080/",
          "height": 265
        },
        "id": "irzXZ8tlxoO8",
        "outputId": "db02d7d6-06e1-4e32-da46-41a88222f6fd"
      },
      "execution_count": null,
      "outputs": [
        {
          "output_type": "display_data",
          "data": {
            "text/plain": [
              "<Figure size 432x288 with 1 Axes>"
            ],
            "image/png": "[encoded data removed]"
          },
          "metadata": {
            "needs_background": "light"
          }
        }
      ]
    },
    {
      "cell_type": "code",
      "source": [
        "# 학습률이 클 때\n",
        "leaning_rate = 0.5\n",
        "gd_test = GradientDescent(x_train, y_train, lr=leaning_rate)\n",
        "\n",
        "for iter_ in range(1, 5):\n",
        "    gd_test.step()\n",
        "    print(f\"[{iter_}번째 업데이트]\")\n",
        "    print(f\" - 오차: {gd_test.cost():.5f}\\n\")"
      ],
      "metadata": {
        "colab": {
          "base_uri": "https://localhost:8080/"
        },
        "id": "zBM7J-UU0GDV",
        "outputId": "06a7b217-5d8b-4343-fcb2-6f3e7306eb6e"
      },
      "execution_count": null,
      "outputs": [
        {
          "output_type": "stream",
          "name": "stdout",
          "text": [
            "[1번째 업데이트]\n",
            " - 오차: 121.86280\n",
            "\n",
            "[2번째 업데이트]\n",
            " - 오차: 2930.85483\n",
            "\n",
            "[3번째 업데이트]\n",
            " - 오차: 70585.77843\n",
            "\n",
            "[4번째 업데이트]\n",
            " - 오차: 1699981.70770\n",
            "\n"
          ]
        }
      ]
    },
    {
      "cell_type": "markdown",
      "source": [
        "# PyTorch"
      ],
      "metadata": {
        "id": "PIKT84gdFjtE"
      }
    },
    {
      "cell_type": "code",
      "source": [
        "import torch\n",
        "\n",
        "torch.manual_seed(1)\n",
        "\n",
        "x_train = torch.as_tensor(x_train)\n",
        "y_train = torch.as_tensor(y_train)\n",
        "lr = 0.2\n",
        "\n",
        "w_1 = torch.rand(1, requires_grad=True)\n",
        "w_0 = torch.rand(1, requires_grad=True)\n",
        "\n",
        "for iter in range(1, 31):\n",
        "    pred = w_1 * x_train + w_0\n",
        "    loss = ((pred - y_train)**2).mean()\n",
        "\n",
        "    w_1.retain_grad()\n",
        "    w_0.retain_grad()\n",
        "\n",
        "    loss.backward()\n",
        "    w_1 = w_1 - lr * w_1.grad\n",
        "    w_0 = w_0 - lr * w_0.grad\n",
        "\n",
        "    if iter % 5 == 0:\n",
        "        print(f\"[{iter}번째 업데이트]\")\n",
        "        print(f\" - 오차: {loss.item():.5f}\\n\")\n",
        "    \n",
        "print(f\"w_1: {w_1.item():.3f}, w_0: {w_0.item():.3f}\")"
      ],
      "metadata": {
        "colab": {
          "base_uri": "https://localhost:8080/"
        },
        "id": "XymYDnW80uf-",
        "outputId": "ae39fdcd-1fbe-4f83-c6e0-6c8f5082fc21"
      },
      "execution_count": null,
      "outputs": [
        {
          "output_type": "stream",
          "name": "stdout",
          "text": [
            "[5번째 업데이트]\n",
            " - 오차: 0.29828\n",
            "\n",
            "[10번째 업데이트]\n",
            " - 오차: 0.05042\n",
            "\n",
            "[15번째 업데이트]\n",
            " - 오차: 0.00902\n",
            "\n",
            "[20번째 업데이트]\n",
            " - 오차: 0.00162\n",
            "\n",
            "[25번째 업데이트]\n",
            " - 오차: 0.00029\n",
            "\n",
            "[30번째 업데이트]\n",
            " - 오차: 0.00005\n",
            "\n",
            "w_1: 1.996, w_0: -0.991\n"
          ]
        }
      ]
    }
  ]
}